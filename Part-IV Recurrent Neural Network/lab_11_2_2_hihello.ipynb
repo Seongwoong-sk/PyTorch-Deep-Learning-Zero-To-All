{
  "nbformat": 4,
  "nbformat_minor": 0,
  "metadata": {
    "kernelspec": {
      "display_name": "Python 3",
      "language": "python",
      "name": "python3"
    },
    "language_info": {
      "codemirror_mode": {
        "name": "ipython",
        "version": 3
      },
      "file_extension": ".py",
      "mimetype": "text/x-python",
      "name": "python",
      "nbconvert_exporter": "python",
      "pygments_lexer": "ipython3",
      "version": "3.6.4"
    },
    "colab": {
      "name": "lab-11_2_2_hihello.ipynb",
      "provenance": [],
      "include_colab_link": true
    }
  },
  "cells": [
    {
      "cell_type": "markdown",
      "metadata": {
        "id": "view-in-github",
        "colab_type": "text"
      },
      "source": [
        "<a href=\"https://colab.research.google.com/github/Seongwoong-sk/PyTorch-Deep-Learning-Zero-To-All/blob/main/lab_11_2_2_hihello.ipynb\" target=\"_parent\"><img src=\"https://colab.research.google.com/assets/colab-badge.svg\" alt=\"Open In Colab\"/></a>"
      ]
    },
    {
      "cell_type": "markdown",
      "metadata": {
        "id": "VBWZTEOlc7MK"
      },
      "source": [
        "# 'Hihello' example\n",
        "- 'Hihello' problem\n",
        "  - wll predict the next characer of input character\n",
        "  - model이 어디까지 진행된 상태인지 저장하는 RNN의 Hidden State의 역할이 되게 중요함\n",
        "- Data setting\n",
        "  - One hot encoding\n",
        "- Cross entropy loss\n",
        "  - 1번째 파라미터 : model의 output\n",
        "  - 2번째 : 정답 레이블\n",
        "- Code run through"
      ]
    },
    {
      "cell_type": "markdown",
      "metadata": {
        "id": "66T4vNJddhDw"
      },
      "source": [
        "# How can we represent characters?\n",
        "We can represent them by `index`\n",
        "- 'h' -> 0\n",
        "- 'i' -> 1\n",
        "- 'e' -> 2\n",
        "- 'l' -> 3\n",
        "- 'o' -> 4\n",
        "\n",
        "```\n",
        "# list of available characters\n",
        "char_set = ['h','i','e','l','o']\n",
        "\n",
        "```\n",
        "\n",
        "따라서 continuous하지 않고 categorical한 data를 표현할 때는 One-hot encoding이라는 방법을 씀\n",
        "- 마지막 문자는 one_hot으로 넣지 않음\n",
        "  - 마지막 문자를 예측하는 거기 때문에\n",
        "\n",
        "O가 맨 마지막에 있으니깐 O전에는 **input**으로 사용되고 / 처음 h를 뺀 ihello는 y의 output으로 사용됨"
      ]
    },
    {
      "cell_type": "code",
      "metadata": {
        "id": "AFCiWMuZc5TI"
      },
      "source": [
        "import torch\n",
        "import torch.optim as optim\n",
        "import numpy as np"
      ],
      "execution_count": null,
      "outputs": []
    },
    {
      "cell_type": "code",
      "metadata": {
        "colab": {
          "base_uri": "https://localhost:8080/"
        },
        "id": "VemaxEe3c5TK",
        "outputId": "ab12a211-fa58-498d-c8fc-e3efdb234725"
      },
      "source": [
        "# Random seed to make results deterministic and reproducible\n",
        "torch.manual_seed(0)"
      ],
      "execution_count": null,
      "outputs": [
        {
          "output_type": "execute_result",
          "data": {
            "text/plain": [
              "<torch._C.Generator at 0x7fe49194ba30>"
            ]
          },
          "metadata": {},
          "execution_count": 2
        }
      ]
    },
    {
      "cell_type": "code",
      "metadata": {
        "id": "-SofH_uTc5TL",
        "colab": {
          "base_uri": "https://localhost:8080/"
        },
        "outputId": "0efb100c-c1fe-4b20-a89d-020a15281b3f"
      },
      "source": [
        "# declare dictionary\n",
        "\n",
        "char_set = ['h', 'i', 'e', 'l', 'o']"
      ],
      "execution_count": null,
      "outputs": [
        {
          "output_type": "execute_result",
          "data": {
            "text/plain": [
              "5"
            ]
          },
          "metadata": {},
          "execution_count": 9
        }
      ]
    },
    {
      "cell_type": "code",
      "metadata": {
        "id": "-BBtXx9dc5TM"
      },
      "source": [
        "# hyper parameters\n",
        "\n",
        "input_size = len(char_set)\n",
        "hidden_size = len(char_set)\n",
        "learning_rate = 0.1"
      ],
      "execution_count": null,
      "outputs": []
    },
    {
      "cell_type": "markdown",
      "metadata": {
        "id": "K7xv7iKWl7Lu"
      },
      "source": [
        "## 데이터 준비"
      ]
    },
    {
      "cell_type": "code",
      "metadata": {
        "id": "5TFXngbrc5TM"
      },
      "source": [
        "# data setting\n",
        "# One hot Encoding\n",
        "\n",
        "x_data = [[0, 1, 0, 2, 3, 3]] # h, i, h, e, l, l\n",
        "\n",
        "x_one_hot = [[[1, 0, 0, 0, 0], # h\n",
        "              [0, 1, 0, 0, 0], # i\n",
        "              [1, 0, 0, 0, 0], # h\n",
        "              [0, 0, 1, 0, 0], # e\n",
        "              [0, 0, 0, 1, 0], # l\n",
        "              [0, 0, 0, 1, 0]]] # l\n",
        "\n",
        "y_data = [[1, 0, 2, 3, 3, 4]] # hihello에서 처음 h를 뺀 ihello"
      ],
      "execution_count": null,
      "outputs": []
    },
    {
      "cell_type": "code",
      "metadata": {
        "id": "1SiU1qrYc5TM"
      },
      "source": [
        "# transform as torch tensor variable\n",
        "\n",
        "X = torch.FloatTensor(x_one_hot)\n",
        "Y = torch.LongTensor(y_data)"
      ],
      "execution_count": null,
      "outputs": []
    },
    {
      "cell_type": "code",
      "metadata": {
        "id": "BrblflmOc5TN"
      },
      "source": [
        "# declare RNN\n",
        "\n",
        "\n",
        "rnn = torch.nn.RNN(input_size, hidden_size, batch_first=True)  # batch_first guarantees the order of output = (B, S, Input_size)"
      ],
      "execution_count": null,
      "outputs": []
    },
    {
      "cell_type": "code",
      "metadata": {
        "id": "xWscIcKcc5TN"
      },
      "source": [
        "# loss & optimizer setting\n",
        "\n",
        "criterion = torch.nn.CrossEntropyLoss()\n",
        "optimizer = optim.Adam(rnn.parameters(), learning_rate)"
      ],
      "execution_count": null,
      "outputs": []
    },
    {
      "cell_type": "code",
      "metadata": {
        "colab": {
          "base_uri": "https://localhost:8080/"
        },
        "id": "cWpo_a3Hc5TO",
        "outputId": "692c99c5-84d6-46d7-f49a-90dff6c47169"
      },
      "source": [
        "# start training\n",
        "for i in range(100):\n",
        "\n",
        "    optimizer.zero_grad()\n",
        "\n",
        "    # _status : 만약 다음 input이 있으면 그 다음 input은 RNN의 안에서 계산할 때 쓰이게 될 hidden state\n",
        "    # 여기서는 주어진 hidden state는 모든 input을 다 처리하고 나오는 hidden state이기 때문에 따로 쓰이지는 않음\n",
        "    outputs, _status = rnn(X) # |outputs| = (1,6,5)\n",
        "\n",
        "    # shape를 batch_dimension이 앞에 오도록 시작하게끔 바꿔준 다음에 loss 계산\n",
        "    loss = criterion(outputs.view(-1, input_size), Y.view(-1))\n",
        "    loss.backward()\n",
        "\n",
        "    optimizer.step()\n",
        "\n",
        "    # 실제로 모델이 어떻게 예측했는지\n",
        "    # argmax(axis=2) : index가 2인 dimension 즉, 어떤 character인지 나타내는 dimension에서 어떤 character가 가장 가능성 있는지에 대한 숫자를 가지고 있는데 이 중 가장 큰 숫자가 있는 index를 가져오는 함수\n",
        "    # 이렇게 가장 큰 index들만 가져온 후 character set에서 이 index가 어떤 character에 해당되는지를 가져오고 나서 파이썬 join() 함수를 통해 하나의 string으로 만들어줌\n",
        "    # np.squeeze는 dimension이 1인 축을 없애주는 함수\n",
        "    result = outputs.data.numpy().argmax(axis=2)\n",
        "    result_str = ''.join([char_set[c] for c in np.squeeze(result)])\n",
        "    print(i, \"loss: \", loss.item(), \"prediction: \", result, \"true Y: \", y_data, \"prediction str: \", result_str)"
      ],
      "execution_count": null,
      "outputs": [
        {
          "output_type": "stream",
          "name": "stdout",
          "text": [
            "0 loss:  0.5316367745399475 prediction:  [[1 3 2 3 3 4]] true Y:  [[1, 0, 2, 3, 3, 4]] prediction str:  ilello\n",
            "1 loss:  0.5314880609512329 prediction:  [[1 3 2 3 3 4]] true Y:  [[1, 0, 2, 3, 3, 4]] prediction str:  ilello\n",
            "2 loss:  0.5313376784324646 prediction:  [[1 3 2 3 3 4]] true Y:  [[1, 0, 2, 3, 3, 4]] prediction str:  ilello\n",
            "3 loss:  0.5311968326568604 prediction:  [[1 3 2 3 3 4]] true Y:  [[1, 0, 2, 3, 3, 4]] prediction str:  ilello\n",
            "4 loss:  0.5310570597648621 prediction:  [[1 3 2 3 3 4]] true Y:  [[1, 0, 2, 3, 3, 4]] prediction str:  ilello\n",
            "5 loss:  0.5309184193611145 prediction:  [[1 3 2 3 3 4]] true Y:  [[1, 0, 2, 3, 3, 4]] prediction str:  ilello\n",
            "6 loss:  0.5307874083518982 prediction:  [[1 3 2 3 3 4]] true Y:  [[1, 0, 2, 3, 3, 4]] prediction str:  ilello\n",
            "7 loss:  0.5306558609008789 prediction:  [[1 3 2 3 3 4]] true Y:  [[1, 0, 2, 3, 3, 4]] prediction str:  ilello\n",
            "8 loss:  0.5305277705192566 prediction:  [[1 3 2 3 3 4]] true Y:  [[1, 0, 2, 3, 3, 4]] prediction str:  ilello\n",
            "9 loss:  0.5304046273231506 prediction:  [[1 3 2 3 3 4]] true Y:  [[1, 0, 2, 3, 3, 4]] prediction str:  ilello\n",
            "10 loss:  0.5302810072898865 prediction:  [[1 3 2 3 3 4]] true Y:  [[1, 0, 2, 3, 3, 4]] prediction str:  ilello\n",
            "11 loss:  0.5301619172096252 prediction:  [[1 3 2 3 3 4]] true Y:  [[1, 0, 2, 3, 3, 4]] prediction str:  ilello\n",
            "12 loss:  0.5300453901290894 prediction:  [[1 3 2 3 3 4]] true Y:  [[1, 0, 2, 3, 3, 4]] prediction str:  ilello\n",
            "13 loss:  0.5299293398857117 prediction:  [[1 3 2 3 3 4]] true Y:  [[1, 0, 2, 3, 3, 4]] prediction str:  ilello\n",
            "14 loss:  0.5298175811767578 prediction:  [[1 3 2 3 3 4]] true Y:  [[1, 0, 2, 3, 3, 4]] prediction str:  ilello\n",
            "15 loss:  0.5297068953514099 prediction:  [[1 3 2 3 3 4]] true Y:  [[1, 0, 2, 3, 3, 4]] prediction str:  ilello\n",
            "16 loss:  0.5295979380607605 prediction:  [[1 3 2 3 3 4]] true Y:  [[1, 0, 2, 3, 3, 4]] prediction str:  ilello\n",
            "17 loss:  0.5294922590255737 prediction:  [[1 3 2 3 3 4]] true Y:  [[1, 0, 2, 3, 3, 4]] prediction str:  ilello\n",
            "18 loss:  0.5293871760368347 prediction:  [[1 3 2 3 3 4]] true Y:  [[1, 0, 2, 3, 3, 4]] prediction str:  ilello\n",
            "19 loss:  0.529284656047821 prediction:  [[1 3 2 3 3 4]] true Y:  [[1, 0, 2, 3, 3, 4]] prediction str:  ilello\n",
            "20 loss:  0.5291839241981506 prediction:  [[1 3 2 3 3 4]] true Y:  [[1, 0, 2, 3, 3, 4]] prediction str:  ilello\n",
            "21 loss:  0.529084324836731 prediction:  [[1 3 2 3 3 4]] true Y:  [[1, 0, 2, 3, 3, 4]] prediction str:  ilello\n",
            "22 loss:  0.5289871692657471 prediction:  [[1 3 2 3 3 4]] true Y:  [[1, 0, 2, 3, 3, 4]] prediction str:  ilello\n",
            "23 loss:  0.5288911461830139 prediction:  [[1 3 2 3 3 4]] true Y:  [[1, 0, 2, 3, 3, 4]] prediction str:  ilello\n",
            "24 loss:  0.5287966132164001 prediction:  [[1 3 2 3 3 4]] true Y:  [[1, 0, 2, 3, 3, 4]] prediction str:  ilello\n",
            "25 loss:  0.5287041068077087 prediction:  [[1 3 2 3 3 4]] true Y:  [[1, 0, 2, 3, 3, 4]] prediction str:  ilello\n",
            "26 loss:  0.5286124348640442 prediction:  [[1 3 2 3 3 4]] true Y:  [[1, 0, 2, 3, 3, 4]] prediction str:  ilello\n",
            "27 loss:  0.5285225510597229 prediction:  [[1 3 2 3 3 4]] true Y:  [[1, 0, 2, 3, 3, 4]] prediction str:  ilello\n",
            "28 loss:  0.5284340381622314 prediction:  [[1 3 2 3 3 4]] true Y:  [[1, 0, 2, 3, 3, 4]] prediction str:  ilello\n",
            "29 loss:  0.5283464789390564 prediction:  [[1 3 2 3 3 4]] true Y:  [[1, 0, 2, 3, 3, 4]] prediction str:  ilello\n",
            "30 loss:  0.5282606482505798 prediction:  [[1 3 2 3 3 4]] true Y:  [[1, 0, 2, 3, 3, 4]] prediction str:  ilello\n",
            "31 loss:  0.5281756520271301 prediction:  [[1 3 2 3 3 4]] true Y:  [[1, 0, 2, 3, 3, 4]] prediction str:  ilello\n",
            "32 loss:  0.5280921459197998 prediction:  [[1 3 2 3 3 4]] true Y:  [[1, 0, 2, 3, 3, 4]] prediction str:  ilello\n",
            "33 loss:  0.528009831905365 prediction:  [[1 3 2 3 3 4]] true Y:  [[1, 0, 2, 3, 3, 4]] prediction str:  ilello\n",
            "34 loss:  0.527928352355957 prediction:  [[1 3 2 3 3 4]] true Y:  [[1, 0, 2, 3, 3, 4]] prediction str:  ilello\n",
            "35 loss:  0.5278483033180237 prediction:  [[1 3 2 3 3 4]] true Y:  [[1, 0, 2, 3, 3, 4]] prediction str:  ilello\n",
            "36 loss:  0.5277692079544067 prediction:  [[1 3 2 3 3 4]] true Y:  [[1, 0, 2, 3, 3, 4]] prediction str:  ilello\n",
            "37 loss:  0.5276910662651062 prediction:  [[1 3 2 3 3 4]] true Y:  [[1, 0, 2, 3, 3, 4]] prediction str:  ilello\n",
            "38 loss:  0.5276141166687012 prediction:  [[1 3 2 3 3 4]] true Y:  [[1, 0, 2, 3, 3, 4]] prediction str:  ilello\n",
            "39 loss:  0.5275379419326782 prediction:  [[1 3 2 3 3 4]] true Y:  [[1, 0, 2, 3, 3, 4]] prediction str:  ilello\n",
            "40 loss:  0.5274629592895508 prediction:  [[1 3 2 3 3 4]] true Y:  [[1, 0, 2, 3, 3, 4]] prediction str:  ilello\n",
            "41 loss:  0.5273887515068054 prediction:  [[1 3 2 3 3 4]] true Y:  [[1, 0, 2, 3, 3, 4]] prediction str:  ilello\n",
            "42 loss:  0.5273155570030212 prediction:  [[1 3 2 3 3 4]] true Y:  [[1, 0, 2, 3, 3, 4]] prediction str:  ilello\n",
            "43 loss:  0.5272431969642639 prediction:  [[1 3 2 3 3 4]] true Y:  [[1, 0, 2, 3, 3, 4]] prediction str:  ilello\n",
            "44 loss:  0.527171790599823 prediction:  [[1 3 2 3 3 4]] true Y:  [[1, 0, 2, 3, 3, 4]] prediction str:  ilello\n",
            "45 loss:  0.5271011590957642 prediction:  [[1 3 2 3 3 4]] true Y:  [[1, 0, 2, 3, 3, 4]] prediction str:  ilello\n",
            "46 loss:  0.5270313620567322 prediction:  [[1 3 2 3 3 4]] true Y:  [[1, 0, 2, 3, 3, 4]] prediction str:  ilello\n",
            "47 loss:  0.5269623398780823 prediction:  [[1 3 2 3 3 4]] true Y:  [[1, 0, 2, 3, 3, 4]] prediction str:  ilello\n",
            "48 loss:  0.526894211769104 prediction:  [[1 3 2 3 3 4]] true Y:  [[1, 0, 2, 3, 3, 4]] prediction str:  ilello\n",
            "49 loss:  0.526826798915863 prediction:  [[1 3 2 3 3 4]] true Y:  [[1, 0, 2, 3, 3, 4]] prediction str:  ilello\n",
            "50 loss:  0.5267601609230042 prediction:  [[1 3 2 3 3 4]] true Y:  [[1, 0, 2, 3, 3, 4]] prediction str:  ilello\n",
            "51 loss:  0.5266942381858826 prediction:  [[1 3 2 3 3 4]] true Y:  [[1, 0, 2, 3, 3, 4]] prediction str:  ilello\n",
            "52 loss:  0.5266290307044983 prediction:  [[1 3 2 3 3 4]] true Y:  [[1, 0, 2, 3, 3, 4]] prediction str:  ilello\n",
            "53 loss:  0.5265645980834961 prediction:  [[1 3 2 3 3 4]] true Y:  [[1, 0, 2, 3, 3, 4]] prediction str:  ilello\n",
            "54 loss:  0.5265008807182312 prediction:  [[1 3 2 3 3 4]] true Y:  [[1, 0, 2, 3, 3, 4]] prediction str:  ilello\n",
            "55 loss:  0.5264378190040588 prediction:  [[1 3 2 3 3 4]] true Y:  [[1, 0, 2, 3, 3, 4]] prediction str:  ilello\n",
            "56 loss:  0.526375412940979 prediction:  [[1 3 2 3 3 4]] true Y:  [[1, 0, 2, 3, 3, 4]] prediction str:  ilello\n",
            "57 loss:  0.5263136029243469 prediction:  [[1 3 2 3 3 4]] true Y:  [[1, 0, 2, 3, 3, 4]] prediction str:  ilello\n",
            "58 loss:  0.5262525677680969 prediction:  [[1 3 2 3 3 4]] true Y:  [[1, 0, 2, 3, 3, 4]] prediction str:  ilello\n",
            "59 loss:  0.5261920094490051 prediction:  [[1 3 2 3 3 4]] true Y:  [[1, 0, 2, 3, 3, 4]] prediction str:  ilello\n",
            "60 loss:  0.5261322259902954 prediction:  [[1 3 2 3 3 4]] true Y:  [[1, 0, 2, 3, 3, 4]] prediction str:  ilello\n",
            "61 loss:  0.5260729193687439 prediction:  [[1 3 2 3 3 4]] true Y:  [[1, 0, 2, 3, 3, 4]] prediction str:  ilello\n",
            "62 loss:  0.5260142683982849 prediction:  [[1 3 2 3 3 4]] true Y:  [[1, 0, 2, 3, 3, 4]] prediction str:  ilello\n",
            "63 loss:  0.5259561538696289 prediction:  [[1 3 2 3 3 4]] true Y:  [[1, 0, 2, 3, 3, 4]] prediction str:  ilello\n",
            "64 loss:  0.5258986353874207 prediction:  [[1 3 2 3 3 4]] true Y:  [[1, 0, 2, 3, 3, 4]] prediction str:  ilello\n",
            "65 loss:  0.5258417725563049 prediction:  [[1 3 2 3 3 4]] true Y:  [[1, 0, 2, 3, 3, 4]] prediction str:  ilello\n",
            "66 loss:  0.5257853269577026 prediction:  [[1 3 2 3 3 4]] true Y:  [[1, 0, 2, 3, 3, 4]] prediction str:  ilello\n",
            "67 loss:  0.5257294774055481 prediction:  [[1 3 2 3 3 4]] true Y:  [[1, 0, 2, 3, 3, 4]] prediction str:  ilello\n",
            "68 loss:  0.5256742238998413 prediction:  [[1 3 2 3 3 4]] true Y:  [[1, 0, 2, 3, 3, 4]] prediction str:  ilello\n",
            "69 loss:  0.5256194472312927 prediction:  [[1 3 2 3 3 4]] true Y:  [[1, 0, 2, 3, 3, 4]] prediction str:  ilello\n",
            "70 loss:  0.5255650877952576 prediction:  [[1 3 2 3 3 4]] true Y:  [[1, 0, 2, 3, 3, 4]] prediction str:  ilello\n",
            "71 loss:  0.5255113244056702 prediction:  [[1 3 2 3 3 4]] true Y:  [[1, 0, 2, 3, 3, 4]] prediction str:  ilello\n",
            "72 loss:  0.525458037853241 prediction:  [[1 3 2 3 3 4]] true Y:  [[1, 0, 2, 3, 3, 4]] prediction str:  ilello\n",
            "73 loss:  0.5254052877426147 prediction:  [[1 3 2 3 3 4]] true Y:  [[1, 0, 2, 3, 3, 4]] prediction str:  ilello\n",
            "74 loss:  0.5253530144691467 prediction:  [[1 3 2 3 3 4]] true Y:  [[1, 0, 2, 3, 3, 4]] prediction str:  ilello\n",
            "75 loss:  0.5253011584281921 prediction:  [[1 3 2 3 3 4]] true Y:  [[1, 0, 2, 3, 3, 4]] prediction str:  ilello\n",
            "76 loss:  0.5252497792243958 prediction:  [[1 3 2 3 3 4]] true Y:  [[1, 0, 2, 3, 3, 4]] prediction str:  ilello\n",
            "77 loss:  0.5251988768577576 prediction:  [[1 3 2 3 3 4]] true Y:  [[1, 0, 2, 3, 3, 4]] prediction str:  ilello\n",
            "78 loss:  0.5251483917236328 prediction:  [[1 3 2 3 3 4]] true Y:  [[1, 0, 2, 3, 3, 4]] prediction str:  ilello\n",
            "79 loss:  0.5250983834266663 prediction:  [[1 3 2 3 3 4]] true Y:  [[1, 0, 2, 3, 3, 4]] prediction str:  ilello\n",
            "80 loss:  0.5250487923622131 prediction:  [[1 3 2 3 3 4]] true Y:  [[1, 0, 2, 3, 3, 4]] prediction str:  ilello\n",
            "81 loss:  0.5249996781349182 prediction:  [[1 3 2 3 3 4]] true Y:  [[1, 0, 2, 3, 3, 4]] prediction str:  ilello\n",
            "82 loss:  0.5249509215354919 prediction:  [[1 3 2 3 3 4]] true Y:  [[1, 0, 2, 3, 3, 4]] prediction str:  ilello\n",
            "83 loss:  0.5249025225639343 prediction:  [[1 3 2 3 3 4]] true Y:  [[1, 0, 2, 3, 3, 4]] prediction str:  ilello\n",
            "84 loss:  0.5248546004295349 prediction:  [[1 3 2 3 3 4]] true Y:  [[1, 0, 2, 3, 3, 4]] prediction str:  ilello\n",
            "85 loss:  0.5248071551322937 prediction:  [[1 3 2 3 3 4]] true Y:  [[1, 0, 2, 3, 3, 4]] prediction str:  ilello\n",
            "86 loss:  0.5247600674629211 prediction:  [[1 3 2 3 3 4]] true Y:  [[1, 0, 2, 3, 3, 4]] prediction str:  ilello\n",
            "87 loss:  0.5247133374214172 prediction:  [[1 3 2 3 3 4]] true Y:  [[1, 0, 2, 3, 3, 4]] prediction str:  ilello\n",
            "88 loss:  0.524666965007782 prediction:  [[1 3 2 3 3 4]] true Y:  [[1, 0, 2, 3, 3, 4]] prediction str:  ilello\n",
            "89 loss:  0.5246210694313049 prediction:  [[1 3 2 3 3 4]] true Y:  [[1, 0, 2, 3, 3, 4]] prediction str:  ilello\n",
            "90 loss:  0.5245754718780518 prediction:  [[1 3 2 3 3 4]] true Y:  [[1, 0, 2, 3, 3, 4]] prediction str:  ilello\n",
            "91 loss:  0.5245302319526672 prediction:  [[1 3 2 3 3 4]] true Y:  [[1, 0, 2, 3, 3, 4]] prediction str:  ilello\n",
            "92 loss:  0.5244854092597961 prediction:  [[1 3 2 3 3 4]] true Y:  [[1, 0, 2, 3, 3, 4]] prediction str:  ilello\n",
            "93 loss:  0.5244409441947937 prediction:  [[1 3 2 3 3 4]] true Y:  [[1, 0, 2, 3, 3, 4]] prediction str:  ilello\n",
            "94 loss:  0.5243967175483704 prediction:  [[1 3 2 3 3 4]] true Y:  [[1, 0, 2, 3, 3, 4]] prediction str:  ilello\n",
            "95 loss:  0.5243529677391052 prediction:  [[1 3 2 3 3 4]] true Y:  [[1, 0, 2, 3, 3, 4]] prediction str:  ilello\n",
            "96 loss:  0.5243094563484192 prediction:  [[1 3 2 3 3 4]] true Y:  [[1, 0, 2, 3, 3, 4]] prediction str:  ilello\n",
            "97 loss:  0.5242664217948914 prediction:  [[1 3 2 3 3 4]] true Y:  [[1, 0, 2, 3, 3, 4]] prediction str:  ilello\n",
            "98 loss:  0.5242236256599426 prediction:  [[1 3 2 3 3 4]] true Y:  [[1, 0, 2, 3, 3, 4]] prediction str:  ilello\n",
            "99 loss:  0.5241811275482178 prediction:  [[1 3 2 3 3 4]] true Y:  [[1, 0, 2, 3, 3, 4]] prediction str:  ilello\n"
          ]
        }
      ]
    }
  ]
}
