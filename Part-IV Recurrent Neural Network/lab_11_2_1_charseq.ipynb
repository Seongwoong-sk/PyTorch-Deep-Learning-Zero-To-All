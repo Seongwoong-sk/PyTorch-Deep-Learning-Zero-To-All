{
  "nbformat": 4,
  "nbformat_minor": 0,
  "metadata": {
    "kernelspec": {
      "display_name": "Python 3",
      "language": "python",
      "name": "python3"
    },
    "language_info": {
      "codemirror_mode": {
        "name": "ipython",
        "version": 3
      },
      "file_extension": ".py",
      "mimetype": "text/x-python",
      "name": "python",
      "nbconvert_exporter": "python",
      "pygments_lexer": "ipython3",
      "version": "3.7.0"
    },
    "colab": {
      "name": "lab-11_2_1_charseq.ipynb",
      "provenance": [],
      "collapsed_sections": [],
      "include_colab_link": true
    }
  },
  "cells": [
    {
      "cell_type": "markdown",
      "metadata": {
        "id": "view-in-github",
        "colab_type": "text"
      },
      "source": [
        "<a href=\"https://colab.research.google.com/github/Seongwoong-sk/PyTorch-Deep-Learning-Zero-To-All/blob/main/lab_11_2_1_charseq.ipynb\" target=\"_parent\"><img src=\"https://colab.research.google.com/assets/colab-badge.svg\" alt=\"Open In Colab\"/></a>"
      ]
    },
    {
      "cell_type": "code",
      "metadata": {
        "id": "rpWguPZ6mLA0"
      },
      "source": [
        "import torch\n",
        "import torch.optim as optim\n",
        "import numpy as np"
      ],
      "execution_count": null,
      "outputs": []
    },
    {
      "cell_type": "code",
      "metadata": {
        "id": "qSWVLWNImLA5",
        "colab": {
          "base_uri": "https://localhost:8080/"
        },
        "outputId": "a9bf90bd-6aea-4caa-ee3e-875c724a0a6e"
      },
      "source": [
        "# Random seed to make results deterministic and reproducible\n",
        "torch.manual_seed(0)"
      ],
      "execution_count": null,
      "outputs": [
        {
          "output_type": "execute_result",
          "data": {
            "text/plain": [
              "<torch._C.Generator at 0x7f1a79e6ea10>"
            ]
          },
          "metadata": {},
          "execution_count": 2
        }
      ]
    },
    {
      "cell_type": "code",
      "metadata": {
        "id": "SNv0N1nLmLA6"
      },
      "source": [
        "sample = \" if you want you\""
      ],
      "execution_count": null,
      "outputs": []
    },
    {
      "cell_type": "code",
      "metadata": {
        "id": "ajLIlJ-AmLA7",
        "colab": {
          "base_uri": "https://localhost:8080/"
        },
        "outputId": "fe68b567-6134-4e73-b636-8e7bcd64eb30"
      },
      "source": [
        "# make dictionary\n",
        "\n",
        "char_set = list(set(sample)) # set 함수 : 중복된 character들을 제외하고 유니크한 character들만 모아서 list로 만듬 \n",
        "\n",
        "# 특정 character를 주면 그 index를 알아서 찾아주는 character dictionary\n",
        "char_dic = {c: i for i, c in enumerate(char_set)}\n",
        "\n",
        "print(char_dic)"
      ],
      "execution_count": null,
      "outputs": [
        {
          "output_type": "stream",
          "name": "stdout",
          "text": [
            "{'u': 0, 'w': 1, 'a': 2, 'y': 3, 'o': 4, 'i': 5, 't': 6, 'n': 7, 'f': 8, ' ': 9}\n"
          ]
        }
      ]
    },
    {
      "cell_type": "code",
      "metadata": {
        "id": "TYaj_kd9mLA8"
      },
      "source": [
        "# hyper parameters\n",
        "\n",
        "dic_size = len(char_dic)\n",
        "hidden_size = len(char_dic) # 다른 숫자여도 상관 없음\n",
        "learning_rate = 0.1"
      ],
      "execution_count": null,
      "outputs": []
    },
    {
      "cell_type": "code",
      "metadata": {
        "id": "WAat3MAsmLA9"
      },
      "source": [
        "# data setting\n",
        "\n",
        "sample_idx = [char_dic[c] for c in sample]\n",
        "\n",
        "x_data = [sample_idx[:-1]]\n",
        "x_one_hot = [np.eye(dic_size)[x] for x in x_data] # np.eye() : 해당 인덱스가 1이고 나머지는 다 0으로 채워진 벡터를 생성\n",
        "\n",
        "y_data = [sample_idx[1:]]"
      ],
      "execution_count": null,
      "outputs": []
    },
    {
      "cell_type": "code",
      "metadata": {
        "id": "7hgEIP_7mLA-"
      },
      "source": [
        "# transform as torch tensor variable\n",
        "\n",
        "X = torch.FloatTensor(x_one_hot)\n",
        "Y = torch.LongTensor(y_data)"
      ],
      "execution_count": null,
      "outputs": []
    },
    {
      "cell_type": "code",
      "metadata": {
        "id": "6iDzlYJSmLA_"
      },
      "source": [
        "# declare RNN\n",
        "\n",
        "rnn = torch.nn.RNN(dic_size, hidden_size, batch_first=True)"
      ],
      "execution_count": null,
      "outputs": []
    },
    {
      "cell_type": "code",
      "metadata": {
        "id": "q74r__zAmLBB"
      },
      "source": [
        "# loss & optimizer setting\n",
        "\n",
        "criterion = torch.nn.CrossEntropyLoss()\n",
        "optimizer = optim.Adam(rnn.parameters(), learning_rate)"
      ],
      "execution_count": null,
      "outputs": []
    },
    {
      "cell_type": "code",
      "metadata": {
        "scrolled": true,
        "id": "5MMCAcU2mLBC",
        "colab": {
          "base_uri": "https://localhost:8080/"
        },
        "outputId": "b3334186-85ab-4c54-c6ca-4ebdf062a5ab"
      },
      "source": [
        "# start training\n",
        "\n",
        "for i in range(50):\n",
        "\n",
        "    optimizer.zero_grad()\n",
        "    \n",
        "    outputs, _status = rnn(X)\n",
        "\n",
        "    loss = criterion(outputs.view(-1, dic_size), Y.view(-1))\n",
        "\n",
        "    loss.backward()\n",
        "\n",
        "    optimizer.step()\n",
        "\n",
        "    result = outputs.data.numpy().argmax(axis=2)\n",
        "    result_str = ''.join([char_set[c] for c in np.squeeze(result)])\n",
        "    print(i, \"loss: \", loss.item(), \"prediction: \", result, \"true Y: \", y_data, \"prediction str: \", result_str)"
      ],
      "execution_count": null,
      "outputs": [
        {
          "output_type": "stream",
          "name": "stdout",
          "text": [
            "0 loss:  2.324430227279663 prediction:  [[8 7 8 5 7 7 5 8 5 7 0 2 8 7 8]] true Y:  [[5, 8, 9, 3, 4, 0, 9, 1, 2, 7, 6, 9, 3, 4, 0]] prediction str:  fnfinnifinuafnf\n",
            "1 loss:  1.9825464487075806 prediction:  [[1 0 9 1 0 0 9 3 8 7 1 9 3 9 0]] true Y:  [[5, 8, 9, 3, 4, 0, 9, 1, 2, 7, 6, 9, 3, 4, 0]] prediction str:  wu wuu yfnw y u\n",
            "2 loss:  1.756456971168518 prediction:  [[1 0 9 3 4 0 9 3 8 7 1 9 3 4 0]] true Y:  [[5, 8, 9, 3, 4, 0, 9, 1, 2, 7, 6, 9, 3, 4, 0]] prediction str:  wu you yfnw you\n",
            "3 loss:  1.5920380353927612 prediction:  [[3 0 9 3 4 0 9 3 5 7 0 9 3 4 0]] true Y:  [[5, 8, 9, 3, 4, 0, 9, 1, 2, 7, 6, 9, 3, 4, 0]] prediction str:  yu you yinu you\n",
            "4 loss:  1.492820143699646 prediction:  [[3 0 9 3 4 0 9 3 5 7 0 4 3 4 0]] true Y:  [[5, 8, 9, 3, 4, 0, 9, 1, 2, 7, 6, 9, 3, 4, 0]] prediction str:  yu you yinuoyou\n",
            "5 loss:  1.4059791564941406 prediction:  [[3 8 9 3 4 0 9 3 5 7 0 9 3 4 0]] true Y:  [[5, 8, 9, 3, 4, 0, 9, 1, 2, 7, 6, 9, 3, 4, 0]] prediction str:  yf you yinu you\n",
            "6 loss:  1.3378968238830566 prediction:  [[5 8 9 3 4 0 9 3 5 7 6 9 3 4 0]] true Y:  [[5, 8, 9, 3, 4, 0, 9, 1, 2, 7, 6, 9, 3, 4, 0]] prediction str:  if you yint you\n",
            "7 loss:  1.2815364599227905 prediction:  [[5 8 9 3 4 0 9 3 5 7 6 9 3 4 0]] true Y:  [[5, 8, 9, 3, 4, 0, 9, 1, 2, 7, 6, 9, 3, 4, 0]] prediction str:  if you yint you\n",
            "8 loss:  1.227378487586975 prediction:  [[5 8 9 3 4 0 9 3 8 7 6 9 3 4 0]] true Y:  [[5, 8, 9, 3, 4, 0, 9, 1, 2, 7, 6, 9, 3, 4, 0]] prediction str:  if you yfnt you\n",
            "9 loss:  1.1746653318405151 prediction:  [[5 8 9 3 4 0 9 3 2 7 6 9 3 4 0]] true Y:  [[5, 8, 9, 3, 4, 0, 9, 1, 2, 7, 6, 9, 3, 4, 0]] prediction str:  if you yant you\n",
            "10 loss:  1.132940411567688 prediction:  [[5 8 9 3 4 0 9 3 2 7 6 9 3 4 0]] true Y:  [[5, 8, 9, 3, 4, 0, 9, 1, 2, 7, 6, 9, 3, 4, 0]] prediction str:  if you yant you\n",
            "11 loss:  1.1047765016555786 prediction:  [[5 8 9 3 4 0 9 3 2 7 6 9 3 4 0]] true Y:  [[5, 8, 9, 3, 4, 0, 9, 1, 2, 7, 6, 9, 3, 4, 0]] prediction str:  if you yant you\n",
            "12 loss:  1.0795111656188965 prediction:  [[5 8 9 3 4 0 9 3 2 7 6 9 3 4 0]] true Y:  [[5, 8, 9, 3, 4, 0, 9, 1, 2, 7, 6, 9, 3, 4, 0]] prediction str:  if you yant you\n",
            "13 loss:  1.0556550025939941 prediction:  [[5 8 9 3 4 0 9 3 2 7 6 9 3 4 0]] true Y:  [[5, 8, 9, 3, 4, 0, 9, 1, 2, 7, 6, 9, 3, 4, 0]] prediction str:  if you yant you\n",
            "14 loss:  1.0376653671264648 prediction:  [[5 8 9 3 4 0 9 3 2 7 6 9 3 4 0]] true Y:  [[5, 8, 9, 3, 4, 0, 9, 1, 2, 7, 6, 9, 3, 4, 0]] prediction str:  if you yant you\n",
            "15 loss:  1.02181077003479 prediction:  [[5 8 9 3 4 0 9 3 2 7 6 9 3 4 0]] true Y:  [[5, 8, 9, 3, 4, 0, 9, 1, 2, 7, 6, 9, 3, 4, 0]] prediction str:  if you yant you\n",
            "16 loss:  1.0034551620483398 prediction:  [[5 8 9 3 4 0 9 3 2 7 6 9 3 4 0]] true Y:  [[5, 8, 9, 3, 4, 0, 9, 1, 2, 7, 6, 9, 3, 4, 0]] prediction str:  if you yant you\n",
            "17 loss:  0.9798159003257751 prediction:  [[5 8 9 3 4 0 9 3 2 7 6 9 3 4 0]] true Y:  [[5, 8, 9, 3, 4, 0, 9, 1, 2, 7, 6, 9, 3, 4, 0]] prediction str:  if you yant you\n",
            "18 loss:  0.9656385183334351 prediction:  [[5 8 9 3 4 0 9 3 2 7 6 9 3 4 0]] true Y:  [[5, 8, 9, 3, 4, 0, 9, 1, 2, 7, 6, 9, 3, 4, 0]] prediction str:  if you yant you\n",
            "19 loss:  0.9549118280410767 prediction:  [[5 8 9 3 4 0 9 3 2 7 6 9 3 4 0]] true Y:  [[5, 8, 9, 3, 4, 0, 9, 1, 2, 7, 6, 9, 3, 4, 0]] prediction str:  if you yant you\n",
            "20 loss:  0.9440104961395264 prediction:  [[5 8 9 3 4 0 9 3 2 7 6 9 3 4 0]] true Y:  [[5, 8, 9, 3, 4, 0, 9, 1, 2, 7, 6, 9, 3, 4, 0]] prediction str:  if you yant you\n",
            "21 loss:  0.9351357817649841 prediction:  [[5 8 9 3 4 0 9 3 2 7 6 9 3 4 0]] true Y:  [[5, 8, 9, 3, 4, 0, 9, 1, 2, 7, 6, 9, 3, 4, 0]] prediction str:  if you yant you\n",
            "22 loss:  0.9264558553695679 prediction:  [[5 8 9 3 4 0 9 3 2 7 6 9 3 4 0]] true Y:  [[5, 8, 9, 3, 4, 0, 9, 1, 2, 7, 6, 9, 3, 4, 0]] prediction str:  if you yant you\n",
            "23 loss:  0.9194234013557434 prediction:  [[5 8 9 3 4 0 9 3 2 7 6 9 3 4 0]] true Y:  [[5, 8, 9, 3, 4, 0, 9, 1, 2, 7, 6, 9, 3, 4, 0]] prediction str:  if you yant you\n",
            "24 loss:  0.9136821627616882 prediction:  [[5 8 9 3 4 0 9 3 2 7 6 9 3 4 0]] true Y:  [[5, 8, 9, 3, 4, 0, 9, 1, 2, 7, 6, 9, 3, 4, 0]] prediction str:  if you yant you\n",
            "25 loss:  0.9085507988929749 prediction:  [[5 8 9 3 4 0 9 3 2 7 6 9 3 4 0]] true Y:  [[5, 8, 9, 3, 4, 0, 9, 1, 2, 7, 6, 9, 3, 4, 0]] prediction str:  if you yant you\n",
            "26 loss:  0.9034028649330139 prediction:  [[5 8 9 3 4 0 9 3 2 7 6 9 3 4 0]] true Y:  [[5, 8, 9, 3, 4, 0, 9, 1, 2, 7, 6, 9, 3, 4, 0]] prediction str:  if you yant you\n",
            "27 loss:  0.8979284167289734 prediction:  [[5 8 9 3 4 0 9 3 2 7 6 9 3 4 0]] true Y:  [[5, 8, 9, 3, 4, 0, 9, 1, 2, 7, 6, 9, 3, 4, 0]] prediction str:  if you yant you\n",
            "28 loss:  0.8934339880943298 prediction:  [[5 8 9 3 4 0 9 3 2 7 6 9 3 4 0]] true Y:  [[5, 8, 9, 3, 4, 0, 9, 1, 2, 7, 6, 9, 3, 4, 0]] prediction str:  if you yant you\n",
            "29 loss:  0.8933597803115845 prediction:  [[5 8 9 1 4 0 9 1 2 7 6 9 1 4 0]] true Y:  [[5, 8, 9, 3, 4, 0, 9, 1, 2, 7, 6, 9, 3, 4, 0]] prediction str:  if wou want wou\n",
            "30 loss:  0.8895580172538757 prediction:  [[5 8 9 1 4 0 9 1 2 7 6 9 1 4 0]] true Y:  [[5, 8, 9, 3, 4, 0, 9, 1, 2, 7, 6, 9, 3, 4, 0]] prediction str:  if wou want wou\n",
            "31 loss:  0.8850457072257996 prediction:  [[5 8 9 1 4 0 9 1 2 7 6 9 1 4 0]] true Y:  [[5, 8, 9, 3, 4, 0, 9, 1, 2, 7, 6, 9, 3, 4, 0]] prediction str:  if wou want wou\n",
            "32 loss:  0.8831352591514587 prediction:  [[5 8 9 1 4 0 9 1 2 7 6 9 1 4 0]] true Y:  [[5, 8, 9, 3, 4, 0, 9, 1, 2, 7, 6, 9, 3, 4, 0]] prediction str:  if wou want wou\n",
            "33 loss:  0.8817600011825562 prediction:  [[5 8 9 1 4 0 9 1 2 7 6 9 1 4 0]] true Y:  [[5, 8, 9, 3, 4, 0, 9, 1, 2, 7, 6, 9, 3, 4, 0]] prediction str:  if wou want wou\n",
            "34 loss:  0.8800067901611328 prediction:  [[5 8 9 1 4 0 9 1 2 7 6 9 1 4 0]] true Y:  [[5, 8, 9, 3, 4, 0, 9, 1, 2, 7, 6, 9, 3, 4, 0]] prediction str:  if wou want wou\n",
            "35 loss:  0.8779628872871399 prediction:  [[5 8 9 1 4 0 9 1 2 7 6 9 1 4 0]] true Y:  [[5, 8, 9, 3, 4, 0, 9, 1, 2, 7, 6, 9, 3, 4, 0]] prediction str:  if wou want wou\n",
            "36 loss:  0.876045286655426 prediction:  [[5 8 9 1 4 0 9 1 2 7 6 9 1 4 0]] true Y:  [[5, 8, 9, 3, 4, 0, 9, 1, 2, 7, 6, 9, 3, 4, 0]] prediction str:  if wou want wou\n",
            "37 loss:  0.8745371699333191 prediction:  [[5 8 9 3 4 0 9 3 2 7 6 9 1 4 0]] true Y:  [[5, 8, 9, 3, 4, 0, 9, 1, 2, 7, 6, 9, 3, 4, 0]] prediction str:  if you yant wou\n",
            "38 loss:  0.8734327554702759 prediction:  [[5 8 9 3 4 0 9 3 2 7 6 9 3 4 0]] true Y:  [[5, 8, 9, 3, 4, 0, 9, 1, 2, 7, 6, 9, 3, 4, 0]] prediction str:  if you yant you\n",
            "39 loss:  0.8725947737693787 prediction:  [[5 8 9 3 4 0 9 3 2 7 6 9 3 4 0]] true Y:  [[5, 8, 9, 3, 4, 0, 9, 1, 2, 7, 6, 9, 3, 4, 0]] prediction str:  if you yant you\n",
            "40 loss:  0.8719103336334229 prediction:  [[5 8 9 3 4 0 9 3 2 7 6 9 3 4 0]] true Y:  [[5, 8, 9, 3, 4, 0, 9, 1, 2, 7, 6, 9, 3, 4, 0]] prediction str:  if you yant you\n",
            "41 loss:  0.871313750743866 prediction:  [[5 8 9 3 4 0 9 3 2 7 6 9 3 4 0]] true Y:  [[5, 8, 9, 3, 4, 0, 9, 1, 2, 7, 6, 9, 3, 4, 0]] prediction str:  if you yant you\n",
            "42 loss:  0.8707674145698547 prediction:  [[5 8 9 3 4 0 9 3 2 7 6 9 3 4 0]] true Y:  [[5, 8, 9, 3, 4, 0, 9, 1, 2, 7, 6, 9, 3, 4, 0]] prediction str:  if you yant you\n",
            "43 loss:  0.8702527284622192 prediction:  [[5 8 9 3 4 0 9 3 2 7 6 9 3 4 0]] true Y:  [[5, 8, 9, 3, 4, 0, 9, 1, 2, 7, 6, 9, 3, 4, 0]] prediction str:  if you yant you\n",
            "44 loss:  0.869763970375061 prediction:  [[5 8 9 3 4 0 9 3 2 7 6 9 3 4 0]] true Y:  [[5, 8, 9, 3, 4, 0, 9, 1, 2, 7, 6, 9, 3, 4, 0]] prediction str:  if you yant you\n",
            "45 loss:  0.8693029284477234 prediction:  [[5 8 9 3 4 0 9 3 2 7 6 9 3 4 0]] true Y:  [[5, 8, 9, 3, 4, 0, 9, 1, 2, 7, 6, 9, 3, 4, 0]] prediction str:  if you yant you\n",
            "46 loss:  0.8688747882843018 prediction:  [[5 8 9 3 4 0 9 3 2 7 6 9 3 4 0]] true Y:  [[5, 8, 9, 3, 4, 0, 9, 1, 2, 7, 6, 9, 3, 4, 0]] prediction str:  if you yant you\n",
            "47 loss:  0.868483304977417 prediction:  [[5 8 9 3 4 0 9 3 2 7 6 9 3 4 0]] true Y:  [[5, 8, 9, 3, 4, 0, 9, 1, 2, 7, 6, 9, 3, 4, 0]] prediction str:  if you yant you\n",
            "48 loss:  0.8681293725967407 prediction:  [[5 8 9 3 4 0 9 3 2 7 6 9 3 4 0]] true Y:  [[5, 8, 9, 3, 4, 0, 9, 1, 2, 7, 6, 9, 3, 4, 0]] prediction str:  if you yant you\n",
            "49 loss:  0.8678110837936401 prediction:  [[5 8 9 3 4 0 9 3 2 7 6 9 3 4 0]] true Y:  [[5, 8, 9, 3, 4, 0, 9, 1, 2, 7, 6, 9, 3, 4, 0]] prediction str:  if you yant you\n"
          ]
        }
      ]
    }
  ]
}
