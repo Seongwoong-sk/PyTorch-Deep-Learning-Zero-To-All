{
  "nbformat": 4,
  "nbformat_minor": 0,
  "metadata": {
    "kernelspec": {
      "display_name": "Python 3",
      "language": "python",
      "name": "python3"
    },
    "language_info": {
      "codemirror_mode": {
        "name": "ipython",
        "version": 3
      },
      "file_extension": ".py",
      "mimetype": "text/x-python",
      "name": "python",
      "nbconvert_exporter": "python",
      "pygments_lexer": "ipython3",
      "version": "3.7.0"
    },
    "colab": {
      "name": "lab-11_3_longseq.ipynb",
      "provenance": [],
      "collapsed_sections": [],
      "include_colab_link": true
    }
  },
  "cells": [
    {
      "cell_type": "markdown",
      "metadata": {
        "id": "view-in-github",
        "colab_type": "text"
      },
      "source": [
        "<a href=\"https://colab.research.google.com/github/Seongwoong-sk/PyTorch-Deep-Learning-Zero-To-All/blob/main/lab_11_3_longseq.ipynb\" target=\"_parent\"><img src=\"https://colab.research.google.com/assets/colab-badge.svg\" alt=\"Open In Colab\"/></a>"
      ]
    },
    {
      "cell_type": "markdown",
      "metadata": {
        "id": "qqUwHppCuUuG"
      },
      "source": [
        "# 'longseq' example\n",
        "**Longseq introduction**  \n",
        "- want to use longer dataset\n",
        "- but we wanna train in bigger chunkcs\n",
        "- how can we create *fixed size sequence dataset* from long sentence?\n",
        "  - 특정 사이즈의 winodw를 만들어서 하나씩 오른쪽으로 움직이면서 생성되는 chunk를 **input x**로 \n",
        "  - 한 character만큼 오른쪽으로 shift한 글을 **y**로\n",
        "  - `if you wan -> f you want` 이런식으로 반복되서 dataset 만듬\n",
        "**Making seqeunce dataset from long sentence**    \n",
        "**Adding FC layer and stacking RNN**    \n",
        "**Code run through**\n"
      ]
    },
    {
      "cell_type": "code",
      "metadata": {
        "id": "k_pSGHW9rR1k"
      },
      "source": [
        "import torch\n",
        "import torch.optim as optim\n",
        "import numpy as np"
      ],
      "execution_count": null,
      "outputs": []
    },
    {
      "cell_type": "code",
      "metadata": {
        "colab": {
          "base_uri": "https://localhost:8080/"
        },
        "id": "x3XntS6WrR1q",
        "outputId": "6063f29c-bf1e-496d-95bd-a4b1d7614c97"
      },
      "source": [
        "# Random seed to make results deterministic and reproducible\n",
        "torch.manual_seed(0)"
      ],
      "execution_count": null,
      "outputs": [
        {
          "output_type": "execute_result",
          "data": {
            "text/plain": [
              "<torch._C.Generator at 0x7f829864c970>"
            ]
          },
          "metadata": {},
          "execution_count": 2
        }
      ]
    },
    {
      "cell_type": "code",
      "metadata": {
        "id": "kq-mv9XfrR1u"
      },
      "source": [
        "sentence = (\"if you want to build a ship, don't drum up people together to \"\n",
        "            \"collect wood and don't assign them tasks and work, but rather \"\n",
        "            \"teach them to long for the endless immensity of the sea.\")"
      ],
      "execution_count": null,
      "outputs": []
    },
    {
      "cell_type": "markdown",
      "metadata": {
        "id": "f1buqigTvrbn"
      },
      "source": [
        "### make dictionary\n"
      ]
    },
    {
      "cell_type": "code",
      "metadata": {
        "id": "c0rEgQgWrR1y"
      },
      "source": [
        "char_set = list(set(sentence))\n",
        "char_dic = {c: i for i, c in enumerate(char_set)}"
      ],
      "execution_count": null,
      "outputs": []
    },
    {
      "cell_type": "markdown",
      "metadata": {
        "id": "Rd_PGGgRvvIW"
      },
      "source": [
        "### hyper parameters\n"
      ]
    },
    {
      "cell_type": "code",
      "metadata": {
        "id": "ze4iIyAGrR1z"
      },
      "source": [
        "dic_size = len(char_dic)\n",
        "hidden_size = len(char_dic)\n",
        "\n",
        "sequence_length = 10  # Any arbitrary number\n",
        "learning_rate = 0.1"
      ],
      "execution_count": null,
      "outputs": []
    },
    {
      "cell_type": "markdown",
      "metadata": {
        "id": "MZ54H02ZvxJ5"
      },
      "source": [
        "### data setting\n"
      ]
    },
    {
      "cell_type": "code",
      "metadata": {
        "colab": {
          "base_uri": "https://localhost:8080/"
        },
        "id": "XXV14_vkrR10",
        "outputId": "5402cb30-483f-43e9-9435-d369c445d573"
      },
      "source": [
        "# x_data와 y_data를 담고자 하는 list 생성\n",
        "x_data = []\n",
        "y_data = []\n",
        "\n",
        "# 앞에서부터 전체 문장의 길이 - length만큼 가져올 수 있는 chunk의 개수\n",
        "# 움직이면서 sequence length 만큼의 chunk를 i부터 시작해서 sequence length의 길이 만큼의 chunk를 x_str로\n",
        "# i + 1부터 시작해서 sequence length만큼 가지는 게 y_str\n",
        "for i in range(0, len(sentence) - sequence_length):\n",
        "    x_str = sentence[i : i+sequence_length]\n",
        "    y_str = sentence[i + 1 : i+sequence_length+1]\n",
        "    print(i, x_str, '->', y_str)\n",
        "\n",
        "    # 위에서 구한 건 string이기 때문에 index로 구성된 list를 다음과 같이 character dictionary를 통해서 만들어 준 후 x_data, y_data라는 list에 넣어줌\n",
        "    # 이렇게 되면 원하는 chunk들이 index로 변환된 list가 만들어짐\n",
        "    x_data.append([char_dic[c] for c in x_str])  # x str to index\n",
        "    y_data.append([char_dic[c] for c in y_str])  # y str to index\n",
        "\n",
        "# One-hot vectorization\n",
        "x_one_hot = [np.eye(dic_size)[x] for x in x_data]"
      ],
      "execution_count": null,
      "outputs": [
        {
          "output_type": "stream",
          "name": "stdout",
          "text": [
            "0 if you wan -> f you want\n",
            "1 f you want ->  you want \n",
            "2  you want  -> you want t\n",
            "3 you want t -> ou want to\n",
            "4 ou want to -> u want to \n",
            "5 u want to  ->  want to b\n",
            "6  want to b -> want to bu\n",
            "7 want to bu -> ant to bui\n",
            "8 ant to bui -> nt to buil\n",
            "9 nt to buil -> t to build\n",
            "10 t to build ->  to build \n",
            "11  to build  -> to build a\n",
            "12 to build a -> o build a \n",
            "13 o build a  ->  build a s\n",
            "14  build a s -> build a sh\n",
            "15 build a sh -> uild a shi\n",
            "16 uild a shi -> ild a ship\n",
            "17 ild a ship -> ld a ship,\n",
            "18 ld a ship, -> d a ship, \n",
            "19 d a ship,  ->  a ship, d\n",
            "20  a ship, d -> a ship, do\n",
            "21 a ship, do ->  ship, don\n",
            "22  ship, don -> ship, don'\n",
            "23 ship, don' -> hip, don't\n",
            "24 hip, don't -> ip, don't \n",
            "25 ip, don't  -> p, don't d\n",
            "26 p, don't d -> , don't dr\n",
            "27 , don't dr ->  don't dru\n",
            "28  don't dru -> don't drum\n",
            "29 don't drum -> on't drum \n",
            "30 on't drum  -> n't drum u\n",
            "31 n't drum u -> 't drum up\n",
            "32 't drum up -> t drum up \n",
            "33 t drum up  ->  drum up p\n",
            "34  drum up p -> drum up pe\n",
            "35 drum up pe -> rum up peo\n",
            "36 rum up peo -> um up peop\n",
            "37 um up peop -> m up peopl\n",
            "38 m up peopl ->  up people\n",
            "39  up people -> up people \n",
            "40 up people  -> p people t\n",
            "41 p people t ->  people to\n",
            "42  people to -> people tog\n",
            "43 people tog -> eople toge\n",
            "44 eople toge -> ople toget\n",
            "45 ople toget -> ple togeth\n",
            "46 ple togeth -> le togethe\n",
            "47 le togethe -> e together\n",
            "48 e together ->  together \n",
            "49  together  -> together t\n",
            "50 together t -> ogether to\n",
            "51 ogether to -> gether to \n",
            "52 gether to  -> ether to c\n",
            "53 ether to c -> ther to co\n",
            "54 ther to co -> her to col\n",
            "55 her to col -> er to coll\n",
            "56 er to coll -> r to colle\n",
            "57 r to colle ->  to collec\n",
            "58  to collec -> to collect\n",
            "59 to collect -> o collect \n",
            "60 o collect  ->  collect w\n",
            "61  collect w -> collect wo\n",
            "62 collect wo -> ollect woo\n",
            "63 ollect woo -> llect wood\n",
            "64 llect wood -> lect wood \n",
            "65 lect wood  -> ect wood a\n",
            "66 ect wood a -> ct wood an\n",
            "67 ct wood an -> t wood and\n",
            "68 t wood and ->  wood and \n",
            "69  wood and  -> wood and d\n",
            "70 wood and d -> ood and do\n",
            "71 ood and do -> od and don\n",
            "72 od and don -> d and don'\n",
            "73 d and don' ->  and don't\n",
            "74  and don't -> and don't \n",
            "75 and don't  -> nd don't a\n",
            "76 nd don't a -> d don't as\n",
            "77 d don't as ->  don't ass\n",
            "78  don't ass -> don't assi\n",
            "79 don't assi -> on't assig\n",
            "80 on't assig -> n't assign\n",
            "81 n't assign -> 't assign \n",
            "82 't assign  -> t assign t\n",
            "83 t assign t ->  assign th\n",
            "84  assign th -> assign the\n",
            "85 assign the -> ssign them\n",
            "86 ssign them -> sign them \n",
            "87 sign them  -> ign them t\n",
            "88 ign them t -> gn them ta\n",
            "89 gn them ta -> n them tas\n",
            "90 n them tas ->  them task\n",
            "91  them task -> them tasks\n",
            "92 them tasks -> hem tasks \n",
            "93 hem tasks  -> em tasks a\n",
            "94 em tasks a -> m tasks an\n",
            "95 m tasks an ->  tasks and\n",
            "96  tasks and -> tasks and \n",
            "97 tasks and  -> asks and w\n",
            "98 asks and w -> sks and wo\n",
            "99 sks and wo -> ks and wor\n",
            "100 ks and wor -> s and work\n",
            "101 s and work ->  and work,\n",
            "102  and work, -> and work, \n",
            "103 and work,  -> nd work, b\n",
            "104 nd work, b -> d work, bu\n",
            "105 d work, bu ->  work, but\n",
            "106  work, but -> work, but \n",
            "107 work, but  -> ork, but r\n",
            "108 ork, but r -> rk, but ra\n",
            "109 rk, but ra -> k, but rat\n",
            "110 k, but rat -> , but rath\n",
            "111 , but rath ->  but rathe\n",
            "112  but rathe -> but rather\n",
            "113 but rather -> ut rather \n",
            "114 ut rather  -> t rather t\n",
            "115 t rather t ->  rather te\n",
            "116  rather te -> rather tea\n",
            "117 rather tea -> ather teac\n",
            "118 ather teac -> ther teach\n",
            "119 ther teach -> her teach \n",
            "120 her teach  -> er teach t\n",
            "121 er teach t -> r teach th\n",
            "122 r teach th ->  teach the\n",
            "123  teach the -> teach them\n",
            "124 teach them -> each them \n",
            "125 each them  -> ach them t\n",
            "126 ach them t -> ch them to\n",
            "127 ch them to -> h them to \n",
            "128 h them to  ->  them to l\n",
            "129  them to l -> them to lo\n",
            "130 them to lo -> hem to lon\n",
            "131 hem to lon -> em to long\n",
            "132 em to long -> m to long \n",
            "133 m to long  ->  to long f\n",
            "134  to long f -> to long fo\n",
            "135 to long fo -> o long for\n",
            "136 o long for ->  long for \n",
            "137  long for  -> long for t\n",
            "138 long for t -> ong for th\n",
            "139 ong for th -> ng for the\n",
            "140 ng for the -> g for the \n",
            "141 g for the  ->  for the e\n",
            "142  for the e -> for the en\n",
            "143 for the en -> or the end\n",
            "144 or the end -> r the endl\n",
            "145 r the endl ->  the endle\n",
            "146  the endle -> the endles\n",
            "147 the endles -> he endless\n",
            "148 he endless -> e endless \n",
            "149 e endless  ->  endless i\n",
            "150  endless i -> endless im\n",
            "151 endless im -> ndless imm\n",
            "152 ndless imm -> dless imme\n",
            "153 dless imme -> less immen\n",
            "154 less immen -> ess immens\n",
            "155 ess immens -> ss immensi\n",
            "156 ss immensi -> s immensit\n",
            "157 s immensit ->  immensity\n",
            "158  immensity -> immensity \n",
            "159 immensity  -> mmensity o\n",
            "160 mmensity o -> mensity of\n",
            "161 mensity of -> ensity of \n",
            "162 ensity of  -> nsity of t\n",
            "163 nsity of t -> sity of th\n",
            "164 sity of th -> ity of the\n",
            "165 ity of the -> ty of the \n",
            "166 ty of the  -> y of the s\n",
            "167 y of the s ->  of the se\n",
            "168  of the se -> of the sea\n",
            "169 of the sea -> f the sea.\n"
          ]
        }
      ]
    },
    {
      "cell_type": "code",
      "metadata": {
        "id": "sjKCOFCOrR11"
      },
      "source": [
        "# transform as torch tensor variable\n",
        "\n",
        "X = torch.FloatTensor(x_one_hot)\n",
        "Y = torch.LongTensor(y_data)"
      ],
      "execution_count": null,
      "outputs": []
    },
    {
      "cell_type": "markdown",
      "metadata": {
        "id": "i77GjlI7S77I"
      },
      "source": [
        "### Adding FC layer and stacking RNN"
      ]
    },
    {
      "cell_type": "code",
      "metadata": {
        "id": "pCn-t-ECrR13"
      },
      "source": [
        "# declare RNN + FC\n",
        "class Net(torch.nn.Module):\n",
        "    def __init__(self, input_dim, hidden_dim, layers):\n",
        "        super(Net, self).__init__()\n",
        "        self.rnn = torch.nn.RNN(input_dim, hidden_dim, num_layers=layers, batch_first=True)\n",
        "        self.fc = torch.nn.Linear(hidden_dim, hidden_dim, bias=True)\n",
        "\n",
        "    def forward(self, x):\n",
        "        x, _status = self.rnn(x)\n",
        "        x = self.fc(x)\n",
        "        return x\n",
        "\n",
        "\n",
        "net = Net(dic_size, hidden_size, 2)"
      ],
      "execution_count": null,
      "outputs": []
    },
    {
      "cell_type": "markdown",
      "metadata": {
        "id": "9NR8gtl6TyMD"
      },
      "source": [
        "### loss & optimizer setting\n"
      ]
    },
    {
      "cell_type": "code",
      "metadata": {
        "id": "o1MFjfTyrR14"
      },
      "source": [
        "criterion = torch.nn.CrossEntropyLoss()\n",
        "optimizer = optim.Adam(net.parameters(), learning_rate)"
      ],
      "execution_count": null,
      "outputs": []
    },
    {
      "cell_type": "markdown",
      "metadata": {
        "id": "ZtBmLtjXT1DI"
      },
      "source": [
        "### start training\n"
      ]
    },
    {
      "cell_type": "code",
      "metadata": {
        "id": "ZTiD_sOlrR15",
        "colab": {
          "base_uri": "https://localhost:8080/"
        },
        "outputId": "bc93c6b6-33af-49a8-c0b3-c0fe5562a89d"
      },
      "source": [
        "for i in range(100):\n",
        "\n",
        "    optimizer.zero_grad()\n",
        "\n",
        "    outputs = net(X)\n",
        "\n",
        "    loss = criterion(outputs.view(-1, dic_size), Y.view(-1))\n",
        "    loss.backward()\n",
        "    optimizer.step()\n",
        "\n",
        "\n",
        "    results = outputs.argmax(dim=2)\n",
        "    predict_str = \"\"\n",
        "    for j, result in enumerate(results):\n",
        "        # print(i, j, ''.join([char_set[t] for t in result]), loss.item())\n",
        "        \n",
        "        # 맨 처음에는 sequence length만큼 result에 있는 걸 전부 받아와서 sequence length만큼의 길이의 character를 만들고\n",
        "        if j == 0:\n",
        "            predict_str += ''.join([char_set[t] for t in result])\n",
        "\n",
        "        # 그 이후부터는 나머지는 이제 맨 마지막 값 빼고는 모두 기본 거랑 겹치기 때문에 result의 맨 마지막 값만 가져와서 \n",
        "        # 기존에 만들었던 predict_str에 하나씩 하나씩 붙임\n",
        "        else:\n",
        "            predict_str += char_set[result[-1]]\n",
        "\n",
        "    print(predict_str)"
      ],
      "execution_count": null,
      "outputs": [
        {
          "output_type": "stream",
          "name": "stdout",
          "text": [
            "a   uaauu auua auaua   uuauu  u  a   aa,u    a a saa  aa u aa uaaa aa  ua   u, sua a  uuauu ua u au uu  usuuu au aua  uu, u a uua aa u aa ua s  u  ua s asu uua uuuu aas a sua s au\n",
            "                                                                                                                                                                                   \n",
            " nn  ony tttttttttttttttttt ttttttttttttttttttttttttttttttttttttttttttttttttttttottttttttttttttttttttttttottttttttttttttttttttttttttttttttttttttttttttttt tttttttottttttttttttttttt\n",
            "                                                                                                                                                                                   \n",
            " rtttrtrttrttttttttrtrttrtrttrtrttrttt trttrttttrtrttttrtrtrtttttttttttttrtttttttrttrtrttrttttrttrtrtttttrtttrtrttttrttrttrtrttrttrttrtrttttttttt trtttttrtrttttrttrttrttrttrtrtttt\n",
            "tuauauauauaauauauauaaaaaaaaaauauauauuauauauauauauauauauauaauauauaauauaaaaaaaaaaaauauaaaaauauaauaaaauaaaauaaaauauauaaaaauauaauauaaaauuaauauauauauauauauauaaauauaauauaaaaaauuauauauaa\n",
            "lsto   n         an     n   a             a n          n  an   n       n                 n              n   n a an  a    n an    a n       n      an                     n a       \n",
            "toto  to          o t       t                    t        t           o                         t     t    o  t t  o       t              o    o  t   t                    t   t   \n",
            "tot   t             t       t   t t    t         t        t      t    t   t       t t      t    t     t       t t     t    t          t   t       t                     t  t   t   \n",
            "tot   t    t     t  t t t t t t tot  t t tt   tt t     t  t   t tt t tt   t   t   t t      t t  t t t t t t   t tot t t t  t   t t t  t   t   t   t t t   t   t     t  tt  t t t   \n",
            "t     t             t           t                         t      e                t        t          t       e t          t              e       t                                \n",
            "iodtn to totod d te t t d t tod tot    t t dn te tod t d  to ttndt tottn tt d t d tot   dn toe  tod t tod to  t tn o  tod  tod tntoe  tod t  e tn tod t   t  tt   d dt ttn toe t d \n",
            "io oo to toton o to totot toton toto  ot tpto to ton toe  tonttntt totoo ttot toe toto  to toe ttoe t tototon t toto  toe tton totoe tton to t oo toe to ot toto  t toot ootoe toe \n",
            "po o  to toto  o to t t e t to  t t   ot ept  to to  t e  to to te toto  ot e t e t t   t  toe  to  t t e to  t t  o  t e  to  e toe  to  e  e o  t e t   e  ot   t  t e o toe t e \n",
            " o o  to t t      e t t t t t   t t    t tpa  te t   t e  t   o te t to   t t t e t t   t  toe  t   t t t to  t t tot t e  t   t t e  t   e  oto  t e t t e  at   t  t a   t e t t \n",
            " o o  to toto t toe t t e t to  eoto   t eco  te to  eoe  to to to toto  ot e t   tot   to toe  to  t t e to  t t tot eoe  to  e toe  to to  oto  toe t toe  at   e  too  otoe t e \n",
            " eco  to tot  t t e t t e t t   t t    t tce  to t   toe  t  to te t to   t e t e t t   t  t e  t   t t e to  t t tot t e  t e t toe  t  te  oto  t e t   e   t   t  t  t  toe t e \n",
            "kofo  to totont t t t t t t ton toto   t tce  to ton  oe  tonto te t to   t e t e tot   t  toe  to  t t   to  t t tod t e  to  t toe  tonte  eton toe t   e   t   a  to t  toe t e \n",
            "kodon to todont d t t t e t ton todo   t tce  to ton toe  tonto to tode   t d ton todo  te toe  to  t t d to  t t tod toe  to  t toe  tonte dofon toe t d e   t      to to toe t e \n",
            "podon to todond d t t t e t don todo   t tpe  te ton  oe  tonto to todo   t d ton tod      toe  to  t t d to  t d to  toe  to  t toe  tonte defon toe t d e   t      d  to toe t e \n",
            "iofon to todont t e t t e t don thdo   t tpen to ton toe  tonto to thdondot d toe thdh   e toe  to  e t d ton t t thp the  to  entoe  tontendowon toe t d e   t      th to toe t e \n",
            "i fo  to t do t t e t t e t don t do   t tpe  te ton t e  t  to te t do   e d t e t d      t e  t   t t d to  t t t   t e  t d o toe  t  to d to  t e t d e   t      t  t  t e t e \n",
            "i po  to t to t t e t t e   do  t do   t tpo   e to  toe  to to te t do  ow t to  t d      toe  to  t t d to  t t t p toe  toe e toe  to to dowo  toe t d e   t      t  to toe t i \n",
            "i fo dao t to t t e t t e t do  t do   t tpen oe to  toe  to to to t tondoa t to  t d      toe  top t t d aon t t t p toe  toe ontoe  to tend won toe t d e   t      t  to toe t i \n",
            "i donstont tonc t e t t e t doept d    t tpen oe ton toe  tonto te t dond a t toept d   e  toe  toe t t d aon t t t p toe  toe ontoe  tonbendodon t e t d e   t      t  to toe t e \n",
            "d  on tont to c   e t t e t do pt d      tpen oe to  t e  to to te t dond a d ao  t d   a  toe  to  t t d aon t d t p toe  toe ontoe  to cend ton toe t d e   t      t  to toe t d \n",
            "d aondaont tont t d a t d e donpt ao   t tpen te ton toe  tontonte t aondoa d aonpt a   d ptoe  top a tnd aon t d t p toe  tod ontoe  tontend ton toe t d e   t      th tontoe t d \n",
            "d  h  to t thnc t d t t d t d e t d      tpe  te thn the  thnco te t dond t d the t d   d  the  thd t t d ton t d t   the  the e the  thncendepo  the t d e   t   i  d  tn the t d \n",
            "dooon tond to c t e d t e e do pt do     enee oe to  toe  to co te e tondoa doaonpt d   d ptoe  to  t t d aon t d thp toe  toe o toe  to cenpepon toe t dhe   a      do fo toe t d \n",
            "gofon tont tont tae w tod e do pt to   a epenpoe to  toe  tonto te o tondot d ao pt t   i ptoe  top o t d won t t top toe  tod o toe  to tend ton toe t dle   a      doofontoe t d \n",
            "goao  to t to t tai w t i t do pt to   t tpe pte to  toe  toptopte t topd t d wo pt t s i  toe  tod t t d wop t w t a toi  tod o tod  to tepd top tod t d e   w  i   i  an toe t d \n",
            "g ao  to d to c i ioa t i e do pt toe  t epeepee to  toe  to co te t wond t d woept t   i  toe  toi s t d ton t t t   toe  toe o toe  to cend to  toe t d e   a  i   i  an toe t d \n",
            "g po  to d to c  ie a t e e do pt do   t epe poe to  toe  to conte toaond t d ao pt d     ptoe  to    b d aon t d dop toe  toe o toe  to cenp bo  toe t d e   a  e   t  fo toe t d \n",
            "g fon tont to c s doa t e e donpt do   t epenpee to  toe  to conte toaond t d aonpt d   i ptoe  tod l t d aon t b top toe  toe o toe  to cond bon toe t dle s a  e d to af toe t d \n",
            "g aonstont th b t doa totpe tondt a e  t ependee th nthe  th bonte thaond tntoaonpt a  t epthe  thd t t a aon t t tha the  theco toe  th bond ton the t dle t t  t d th af toe toec\n",
            "g a nstont th c t d a tne , t npt d      epen'ee th  the  th conte t aond tnd a npt d   in the  thd l t d aon t t t   the  thd o the  th cond bon the t dle s t  e d t  ao the t d \n",
            "g aon tont th c sad a tndpe d npt d      epenpee th  toe  th conte toaond tnd t  pt d   e  the  thd   a d won o t i p toe  thd o toe  th cond bon the t d e   a  e d i  ao toe t d \n",
            "t won tont th c tad w t dpe d npt w    i epeopee th  the  th conte thwond t d wo pt w   i  the  thd   a d won h t tha the  thd o the  th cood bon the t d e   a  e d do oo the t e \n",
            "t ton tont th c tad w t dpe d n't d    i e'eepee th nt e  th conte towond t d ton't d s dn the  thd s w d won e t thr toe  thd o the  th cond ton the t d e s as e d i  on toe t d \n",
            "t won tont th c tad d t d'e d n't d    i e'eo'ee th nt e  th conte t dond tnd w n't d   dn the  thd c a d don e t t s toe  thd o toe  th cond bon t e t d e s i  e d t  oo t e t d \n",
            "t aon tond th c tad a todpe don't d  m   epeopeemth nthem th contemtoaond t d do 't d   inmthem th mc a d don e b thr them th co toe  th cood bon themt d e      e s th oo the t   \n",
            "' aon tont th b tadoa todpe don't d  m imepeopeemth eboem th bontemt dond t d don't d  ienmthem thiml a d don e b tha them theco toem th bond bon themt d ems i  e s th of toemt e \n",
            "g aon tont to l trd a t epe d n't a  s imepeopeemto et em to lontest dond t d aon't a s enmtoem togms a d aon e t t s toem toe o toem to lond bon themt d ems t  e s t  of t emt e \n",
            "' aon tont to l trdoa todp, donpt a      ,peop,e to ntoe  to lonte t dond t d wo 't a   e  toe  to  l a d won e b t r toe  to co toe  to lood bon toe t d e s i  e s to of toe t   \n",
            "f aonstont to b trd w todp, donpt a    a ,peop,e to ntoe  to boote t wood t d wo 't ac  dn toe  to  t a d woo , b tor toe  to co toe  to bood boo toe t d e s a  e s to of toe t  c\n",
            "towonsto t to b t d d t d', d n't dc s s ,peop,e to ntoe  to bonte t wond t d won't d s dn toe  tos s a d won , d t r toe  toa o toe  to bond bon toe t d e s t  e s t  of t e t ds\n",
            "toaonstont to b trd w todp, don't d    s ,peop,e to nthe  to conte t wond t d won't d s dn toe  tos t a d won , b t r toe  toa o toe  to cood bon the t d e s i  e s th oo t e t ic\n",
            "toaon tont th b trd w thdp, dhn't d      ,peop,e to nthe  th corte t word t d wo 't d s in the  th  t o d wor , b thr the  thaco toe  th cord bor the t d e s i  e ssth oo toe t  c\n",
            "toaon to t th c trd d thdp, dhn't dc     ,peop,emth ethem th cortemt dord t d don't d sisnmthem thsms a d dor e b thr them thgco toem th cord bor themt d ems i  e ssth of themt ic\n",
            "toaon tont th b trdod thdpe dhn't ar   dmepeopeemto ethem th bortemt dord t d aon't a sisnpthem thd s a d aorme b thr them thaco toem th bord bor themt d ems am e ssth of toemt ec\n",
            "toaon te t to c t i d thipe dhn't dr   imepeopeemto etoem to cortemt dord a d donmt d  isnmtoem tos s i d dorme d t c toem toecl toem to cord lor themt d ems i  e ssth of toemt ec\n",
            "toaon tont to b tldod todp, don't ar   s ,peop,emtonntoem to bortemt aord t d aon't a s dnptoem tod s a d aor e b t r toem toaco toem to bord bon toemt dle s a  e s to of toemt ec\n",
            "toaon tont to b tld d todp, don't dr     ,peop,e tonntoe  to bonte t wond and won't a s snmtoe  tos s and won , bnt r toe  toaco toe  tonbord bon toe tndle s i  ens to of toe t ac\n",
            "toaon tont th b tld d thdp, dhn't dr     ,peop,e thnnthe  th corte t word wnd dhn't a s sn the  ths s a d dor , b t c the  thaco the  thnlord bor the tndle s i  enssth of the t er\n",
            "toaon tont th b tld d thdp, dhn't dr   i ,peop,e thnnthe  th lorte t word a d whn't a sisn the  ths s and wor , b t r the  thaco the  th lord bor the tndle s a  enssth of the t er\n",
            "goaon lont th b tld d thdp, don't dc   s ,peop,e tonnthe  th borte t word a d won't d sisn the  ths s and wor , b t r the  thaco toe  th cord bor the tndle s a  enssth of toe t dr\n",
            "goaon tont th b tld d thdp, don't dr   i ,peop,e tonnthe  th corte t word and won't d sisn toe  ths s and wor , b t r the  thaco toe  th cord bor the tndle s i  enssth of toe t ir\n",
            "goaon tont th b tld i thip, don't dr   im,peop,emto nthe  th cortemt word and don't d siinmthem thsms and dor , b t r them thaco toem th cord bor the tndle s i  enssth of themt ic\n",
            "poaon tont th b tld d thdp, don't dr   im,peop,emto ethem th bortemt aord and don't d sisnmthem thsms and dorm, b t r them thaco toem th bord bor the tndlems i  enssth of themteic\n",
            "poaon tont to bntla d thdp, don't dr     ,peop,emtonethe  th bortemt aord and don't a sisnmthe  thsms and dor , b t r them thacl toe  th bond bor the tndle s am enssth of toemteic\n",
            "poaon tont th b tla d thdp, don't ar   s ,peop,e tonethe  th corte t aord and don't a sisnmthe  ths s and dor , b t r the  thacl toe  th cond bon the tndle s a  enssth of the t ac\n",
            "toaon tent th b tld i thip, don't ar   i ,peop,e tonethe  th corte t word and don't a sisn the  ths s and dor , b t r the  thach toe  th cond bor the tndle s i  enssth of the t ic\n",
            "toaon tont thpbntla dnthip, don't ar   i ,people tooethe  th borte t word and won't a sisnmthe  ths s and wor , b t r the  thach toe  th bond bor the tndle s i  enssth of the teic\n",
            "toaon tent th b tld i thip, don't dre   m,peoplemtonethem th cortemt word and don't d sisnmthem thsms and wor , b t r them thach boem th cons bor themtndlems im enssth of themteic\n",
            "toaon tont th b tla w thep, don't dre  im,peoplemtooethe  th bortemt word and won't d sisnmthe  thsms and wor , b t r the  thach the  th bons bor themtndle s im enssthaof themteic\n",
            "toaon tont th bntld d thip, don't drem im,peoplemthnethem th bortemt dord and don't d sisnmthem thsms and dor , b t r them thach them th bons bor themtndlems im enssth of themteic\n",
            "toaon tont th b tld d thip, don't dr    mlpeoplemthrethep th cortemt dord and don't d sisnmthem ths s and dor , b t r them thach toem th cond bor themtn'lems im ens th of themteic\n",
            "poaon tont th lntla d thep, don't ar   i lpeople torethep th borte t word and won't a sisn the  ths s and wor , fet r thep thach the  th cond for the tndle s i  enssthaof the teic\n",
            "toaon tont th cetld d thepe don't ar   i lpeople tonethe  thnconte t word and don't a sisn the  ths s and wor , bet r the  thach toe  thncons bor the tnsle s i  enssth of the tea \n",
            "foaon tont th betlw w thipt donpt are  i lpeople torethe  thnborle t wood and won't a sisn the  ths s and wor , bet r the  thacl toe  thnbon' bor the tndle s ts enssthaof the tea \n",
            "foaon tont thrbetla dnthep, don't dr   i lpeople torethe  th borle t word and won't d eisn the  ths shand wor , b t r the  thach the  th bon' bor the tndle s a  ensiihaof the teac\n",
            "toaonstent th c tli d thip, don't dce    ,people th ethe  th corte t dord and ion't d sign the  ths s i s ior , b t c the  thach bhe  th cons bor the tndle s i  enssthaof the teac\n",
            "foaon tont to betld dntoip, don't dre  g lpeople torethe  th borle t dord and don't d signsthe  ths s and dor , fet r the  thach toe  th bon' for the tndle s t  enssthaof toe teac\n",
            "foaon tont to betldodnioep, don't ao   g lpeople torethe  th borle t dord and don't a sisn toe  ths s and dor , fet r the  thaco toe  th bon' for the tndle s t  enssthaof toe teac\n",
            "poaon tent th butld d thip, don't acu    lpeople to ethe  t  borle t dord and don't a s snsthe  ths s and dor , but p the  t a h the  th bon' for the tnale s i  ens thaof the tei \n",
            "thaon tent th butld d thip, don't ace    lpeople th ethe  th borle t dord and don't a sisnsthe  ths s a d dor , bet r the  thach the  th bong for the tndle s i mensithaof the teac\n",
            "phaon tent th betldodnthep, don't doem umlpeople threthe  th borle t dord and don't d sisn the  ths s and dor , bet r the  thach the  th bon' for the tndle s a mensiih of the tehc\n",
            "poaon tont to butld dntoep, don't doum gmlpeople torethe  to borlemt dord and don't d sisn toe  tos s and dor , bet r the  toac  toe  to bon' for toe tn'le s i mensito of toe teoc\n",
            "goao  tont to b ild d toip, don't arum gm,people torethe  t  corlemt dord and don't a sisn toe  t s s and dor , but r the  t ac  toe  t  cong for toe tn'le s i mensito of toe teac\n",
            "t aou tont th b tld d thip, don't drem sm,people to ethe  th borle t dord and don't d sisn the  ths s and dor , but r thep thach the  th bons bor the tndle s ismensith of the teac\n",
            "thaon tont th bntla d thip, don't ar m smlpeople threthep th borle t aord and don't a sisn thep ths s and dor , bet r thep thar  the  th bong for theptndle s ismensith of the teac\n",
            "thaoe tont th cetla a thep, don't arum umlpeople to ethe  th borle t aord and aon't a sisn the  ths s and aor , bet ruthe  thach the  th bons for the tndle s i mensithaof the teh \n",
            "t aoe tont th betld d thep, fon't acem umlpeople tonethe  th borle t dord and don't a sign the  ths s and dors, bet ruthe  thach the  th bon' fog the tndle s i mensithaof the tee \n",
            "p aoemtent th betld dnthip, don't acem umlpeople torethe  th borle t dord and don't a s un the  ths s and dor , bet ruthep thach the  th bon' for the tndle s i mensithaof the teac\n",
            "f aoe tent th butld dnthip, don't acem umlpeople topethe  th borlu t aord and don't a s un the  ths s and wor , but ruthep thach the  th bong for the tndle s i mensith of toe teac\n",
            "f aou tent to build dnthip, don't arum umlpeople toruther th borlu t dord and won't a sisn toe  ths s and wor , but ruthep thach the  th bong for the tndle s i mensith of toe tee \n",
            "f lou tent th ruild d thip, don't doum umlpeople io uther th borlu t dord and don't d siun the  ths s and dor , but ruther thach the  th bons for the tnd e sii mensiihaof the iees\n",
            "f loe tant th build d shep, don't acum umlpeopleptorutheo th borlust tord and won't a sisn thep ths s and wors, but r ther thach the  th bong for theptngle s i mensith of the teac\n",
            "t lou tent th build d thep, don't acum umepeople to ethe  th borle t aord and won't a sisn the  ths s and wor , bet c the  thach the  th bons for the tnsle s i mensiihaof the tehs\n",
            "f lou tent th beild dnthep, don't aoum umlpeoplemto ethe  th borlemt aord and won't a sisnmthem ths s and wor , bet r ther thach them th bong for themtndle s immensiih of themteas\n",
            "p lou tant th build d thep, don't arum umlpeoplemtorethe  th borlumt dord and won't a sisnmthem ths s and wor , but d theo ioach them th bon' for themtndlems immensithrof themteec\n",
            "p you tant th build d thip, drn't acum umlpeople topethe  th borlu t dord and don't a sisn the  ths s and dor , bui r ther thach the  th bong for the tndle s i mensith of the teas\n",
            "p aou wont th build dnship, don't arum umlpeople to ethe  th borlu t aord and don't a sisn the  ths s and dor , bui r ther thach the  th bong for the tndle s i mensithiof the tehs\n",
            "g aoe wont th build dnship, don't aoum umlpeople to ethe  th borle t word and won't arsign the  ths s and wor , but rither thach the  th bong foo the tndle s i mensith of the tehs\n",
            "g aou want th builw w ship, don't acum umlpeople torethe  th lorle t word and won't a sign the  ths s and wor , but rither thach the  th long for the indle s ismensith of the ieas\n",
            "p aoa tant th buila a ship, don't acum umlpeople torether th lorle t aord and aon't a sign the  ths s and aor , but rather thach the  th lon' for the tndle s immensithaof the teac\n",
            "g aoa tant th buila anship, dongt arum umlpeople torether th borle t aord and aongt a sign the  ths s and aor , but ratheo thach the  th bong for the indle s immensith of the ieac\n",
            "g aou tant th buila dnship, don't drum umlpeople torether th borle t aord and aon't dcsignmthe  ths s and aor , but rither thach the  th bon' for the tndle s immensith of the teac\n",
            "f aou tant th buila d ship, don't drum umlpeople to ether th borle t aord and aon't dcsign the  ths s and aor , but rither thach the  th bong for the tndle s i mensith of the teac\n",
            "g aou tant th build d ship, don't arum um peop e torether th borle t aord and don't a sign the  ths s and dor , but rither thach the  th bong for the tndle s i mensith of the teac\n"
          ]
        }
      ]
    }
  ]
}
