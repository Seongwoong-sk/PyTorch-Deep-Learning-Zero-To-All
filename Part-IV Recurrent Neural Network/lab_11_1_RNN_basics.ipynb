{
  "nbformat": 4,
  "nbformat_minor": 0,
  "metadata": {
    "kernelspec": {
      "display_name": "Python 3",
      "language": "python",
      "name": "python3"
    },
    "language_info": {
      "codemirror_mode": {
        "name": "ipython",
        "version": 3
      },
      "file_extension": ".py",
      "mimetype": "text/x-python",
      "name": "python",
      "nbconvert_exporter": "python",
      "pygments_lexer": "ipython3",
      "version": "3.7.0"
    },
    "colab": {
      "name": "lab-11_1_RNN_basics.ipynb",
      "provenance": [],
      "collapsed_sections": [],
      "include_colab_link": true
    }
  },
  "cells": [
    {
      "cell_type": "markdown",
      "metadata": {
        "id": "view-in-github",
        "colab_type": "text"
      },
      "source": [
        "<a href=\"https://colab.research.google.com/github/Seongwoong-sk/PyTorch-Deep-Learning-Zero-To-All/blob/main/lab_11_1_RNN_basics.ipynb\" target=\"_parent\"><img src=\"https://colab.research.google.com/assets/colab-badge.svg\" alt=\"Open In Colab\"/></a>"
      ]
    },
    {
      "cell_type": "markdown",
      "metadata": {
        "id": "hdUmHYcVPXMA"
      },
      "source": [
        "<img src=\"https://drive.google.com/uc?export=view&id=1X9WYW7fQRVic25FtoD48eW0SG1kTAJ4o\" width=\"800px\" height=\"400px\" />\n",
        "\n",
        "- 이 함수는 기본적으로 hidden state 이전 단계의 hidden state와 지금 단계에서의 입력값을 가지고 함수 연산을 통해서 어떤 출력값 ht를 만드는 것이 본질\n",
        "- Hyperbolic tangent : -1과 1 사이에서 sigmoid 형태를 띄는 활성화 함수\n",
        "- LSTM이나 GRU가 RNN의 유명한 설계\n",
        "- 셀 A의 파라미터들은 학습의 대상(trainability)이기 때문에 이 구조가 복잡해지면 복잡해질수록 trainability는 감소\n",
        "  - trainability의 복잡도 : RNN < GRU < LSTM\n",
        "\n",
        "<img src=\"https://drive.google.com/uc?export=view&id=1BHloF9Wuqa8-wcDlC6z5NL48GxJg6ODY\" width=\"800px\" height=\"400px\" />\n"
      ]
    },
    {
      "cell_type": "markdown",
      "metadata": {
        "id": "B8RQv-JtS6yQ"
      },
      "source": [
        "**RNN in PyTorch**    \n",
        "**Simple Example**\n",
        "- input\n",
        "- Hidden State\n",
        "- Sequence Length\n",
        "- Batch Size"
      ]
    },
    {
      "cell_type": "code",
      "metadata": {
        "id": "N0fOJbWZLoc9"
      },
      "source": [
        "import torch\n",
        "import numpy as np"
      ],
      "execution_count": null,
      "outputs": []
    },
    {
      "cell_type": "code",
      "metadata": {
        "colab": {
          "base_uri": "https://localhost:8080/"
        },
        "id": "LVCWiCiZLodB",
        "outputId": "cdaa41de-8d12-4212-a92c-d7fbf63b2988"
      },
      "source": [
        "# Random seed to make results deterministic and reproducible\n",
        "torch.manual_seed(0)"
      ],
      "execution_count": null,
      "outputs": [
        {
          "output_type": "execute_result",
          "data": {
            "text/plain": [
              "<torch._C.Generator at 0x7fecd02a79f0>"
            ]
          },
          "metadata": {},
          "execution_count": 2
        }
      ]
    },
    {
      "cell_type": "code",
      "metadata": {
        "id": "TufmxRszLodD"
      },
      "source": [
        "# declare dimension\n",
        "# 선언하기 전에 미리 Cell에게 알려주는 역할\n",
        "\n",
        "# 4차원짜리 벡터를 입력으로 하겠다.\n",
        "input_size = 4 \n",
        "\n",
        "# 몇 개의 차원을 가진 vector를 출력받을지 결정해주는 변수\n",
        "hidden_size = 2"
      ],
      "execution_count": null,
      "outputs": []
    },
    {
      "cell_type": "markdown",
      "metadata": {
        "id": "Eya89tWmazyk"
      },
      "source": [
        "Shape of Input Data\n",
        "- Batch Size : 모델에서 자동으로 batch size 파악 가능\n",
        "- Sequence of Length  : 모델이 자동으로 파악가능\n",
        "- Dimension size of Input Vector"
      ]
    },
    {
      "cell_type": "markdown",
      "metadata": {
        "id": "K-kB2YOHbakK"
      },
      "source": [
        "Data Manipultaion"
      ]
    },
    {
      "cell_type": "code",
      "metadata": {
        "id": "tnTsqzSnLodD"
      },
      "source": [
        "# singleton example\n",
        "# shape : (1, 1, 4)\n",
        "# input_data_np = np.array([[[1, 0, 0, 0]]])\n",
        "\n",
        "# sequential example\n",
        "# shape : (3, 5, 4) \n",
        "# --> 여기서 4 : 한 sequence의 각각의 원소들은 1-hot encoding에 의하면 4개의 차원을 가지는 Vector\n",
        "# --> h, e, l, o\n",
        "\n",
        "# one-hot encoding\n",
        "h = [1, 0, 0, 0]\n",
        "e = [0, 1, 0, 0]\n",
        "l = [0, 0, 1, 0]\n",
        "o = [0, 0, 0, 1]\n",
        "input_data_np = np.array([[h, e, l, l, o],\n",
        "                          [e, o, l, l, l], \n",
        "                          [l, l, e, e, l]], dtype=np.float32)"
      ],
      "execution_count": null,
      "outputs": []
    },
    {
      "cell_type": "markdown",
      "metadata": {
        "id": "sXjrYF5ZTbkq"
      },
      "source": [
        "<img src=\"https://drive.google.com/uc?export=view&id=11OHI-BAa7BriFr0y_RAggWWUHSDYxFGl\" width=\"800px\" height=\"400px\" />\n",
        "\n"
      ]
    },
    {
      "cell_type": "markdown",
      "metadata": {
        "id": "uvpXO_ZTWMBR"
      },
      "source": [
        "<img src=\"https://drive.google.com/uc?export=view&id=1Ky6RpcYWQeW81fltlKHma2CZQGzwAh1e\" width=\"800px\" height=\"400px\" />\n",
        "\n",
        "**hidden state의 size와 output_size가 같은 값을 갖는 이유**\n",
        "- 출력 직전의 똑같은 값이 2가지의 가지로 갈라짐\n",
        "  - 하나는 output\n",
        "  - 다른 하나는 hidden state로 출력이 됨\n",
        "  - 그래서 외부로 나가지 않고 다음 번 input으로 들어오기 때문\n",
        "- 결국 같은 값이 갈라지는 것이기 때문에 값이 같음"
      ]
    },
    {
      "cell_type": "code",
      "metadata": {
        "id": "lRTQiDZLLodE"
      },
      "source": [
        "# transform as torch tensor\n",
        "input_data = torch.Tensor(input_data_np)"
      ],
      "execution_count": null,
      "outputs": []
    },
    {
      "cell_type": "code",
      "metadata": {
        "id": "9XVslQ0yLodE"
      },
      "source": [
        "# declare RNN (Cell A)\n",
        "rnn = torch.nn.RNN(input_size, hidden_size)"
      ],
      "execution_count": null,
      "outputs": []
    },
    {
      "cell_type": "code",
      "metadata": {
        "colab": {
          "base_uri": "https://localhost:8080/"
        },
        "id": "wyr6BJyeLodG",
        "outputId": "f0159ccc-e87b-4651-9d3a-9ebb79b9f559"
      },
      "source": [
        "# check output (ht)\n",
        "# |input_data| = (_,_,_)\n",
        "outputs, _status = rnn(input_data)\n",
        "\n",
        "print(outputs)\n",
        "print(outputs.size())\n",
        "print(_status)"
      ],
      "execution_count": null,
      "outputs": [
        {
          "output_type": "stream",
          "name": "stdout",
          "text": [
            "tensor([[[-0.7497, -0.6135],\n",
            "         [-0.5282, -0.2473],\n",
            "         [-0.9136, -0.4269],\n",
            "         [-0.9136, -0.4269],\n",
            "         [-0.9028,  0.1180]],\n",
            "\n",
            "        [[-0.5753, -0.0070],\n",
            "         [-0.9052,  0.2597],\n",
            "         [-0.9173, -0.1989],\n",
            "         [-0.9173, -0.1989],\n",
            "         [-0.8996, -0.2725]],\n",
            "\n",
            "        [[-0.9077, -0.3205],\n",
            "         [-0.8944, -0.2902],\n",
            "         [-0.5134, -0.0288],\n",
            "         [-0.5134, -0.0288],\n",
            "         [-0.9127, -0.2222]]], grad_fn=<StackBackward>)\n",
            "torch.Size([3, 5, 2])\n",
            "tensor([[[-0.9077, -0.3205],\n",
            "         [-0.8944, -0.2902],\n",
            "         [-0.5134, -0.0288],\n",
            "         [-0.5134, -0.0288],\n",
            "         [-0.9127, -0.2222]]], grad_fn=<StackBackward>)\n"
          ]
        }
      ]
    }
  ]
}
