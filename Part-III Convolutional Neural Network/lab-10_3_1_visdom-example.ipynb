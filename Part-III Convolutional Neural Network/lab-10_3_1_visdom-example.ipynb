version https://git-lfs.github.com/spec/v1
oid sha256:88256ff55981988a76b0a57941fa02f26ecd82a8891eca38cff4d3a0ba9659b4
size 24994
