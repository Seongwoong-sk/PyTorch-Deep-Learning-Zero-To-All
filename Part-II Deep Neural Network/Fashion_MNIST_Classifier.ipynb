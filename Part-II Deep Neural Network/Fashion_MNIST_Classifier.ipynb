{
  "nbformat": 4,
  "nbformat_minor": 0,
  "metadata": {
    "kernelspec": {
      "display_name": "Python 3",
      "language": "python",
      "name": "python3"
    },
    "language_info": {
      "codemirror_mode": {
        "name": "ipython",
        "version": 3
      },
      "file_extension": ".py",
      "mimetype": "text/x-python",
      "name": "python",
      "nbconvert_exporter": "python",
      "pygments_lexer": "ipython3",
      "version": "3.6.8"
    },
    "toc": {
      "base_numbering": 1,
      "nav_menu": {},
      "number_sections": false,
      "sideBar": true,
      "skip_h1_title": false,
      "title_cell": "목차",
      "title_sidebar": "Contents",
      "toc_cell": true,
      "toc_position": {
        "height": "calc(100% - 180px)",
        "left": "10px",
        "top": "150px",
        "width": "321.25px"
      },
      "toc_section_display": true,
      "toc_window_display": true
    },
    "colab": {
      "name": "Fashion_MNIST_Classifier.ipynb",
      "provenance": [],
      "collapsed_sections": [],
      "include_colab_link": true
    },
    "accelerator": "GPU",
    "widgets": {
      "application/vnd.jupyter.widget-state+json": {
        "574b5358a1a44f6790f70a815b240f43": {
          "model_module": "@jupyter-widgets/controls",
          "model_name": "HBoxModel",
          "model_module_version": "1.5.0",
          "state": {
            "_view_name": "HBoxView",
            "_dom_classes": [],
            "_model_name": "HBoxModel",
            "_view_module": "@jupyter-widgets/controls",
            "_model_module_version": "1.5.0",
            "_view_count": null,
            "_view_module_version": "1.5.0",
            "box_style": "",
            "layout": "IPY_MODEL_5a0d4da581eb40eda873acf30874b418",
            "_model_module": "@jupyter-widgets/controls",
            "children": [
              "IPY_MODEL_96bac256a80d44b4b611eab48a2235f1",
              "IPY_MODEL_ab4154266cd343a191abb0765460a242",
              "IPY_MODEL_7ee4c4f43fd44c4393d9cc52ba09f358"
            ]
          }
        },
        "5a0d4da581eb40eda873acf30874b418": {
          "model_module": "@jupyter-widgets/base",
          "model_name": "LayoutModel",
          "model_module_version": "1.2.0",
          "state": {
            "_view_name": "LayoutView",
            "grid_template_rows": null,
            "right": null,
            "justify_content": null,
            "_view_module": "@jupyter-widgets/base",
            "overflow": null,
            "_model_module_version": "1.2.0",
            "_view_count": null,
            "flex_flow": null,
            "width": null,
            "min_width": null,
            "border": null,
            "align_items": null,
            "bottom": null,
            "_model_module": "@jupyter-widgets/base",
            "top": null,
            "grid_column": null,
            "overflow_y": null,
            "overflow_x": null,
            "grid_auto_flow": null,
            "grid_area": null,
            "grid_template_columns": null,
            "flex": null,
            "_model_name": "LayoutModel",
            "justify_items": null,
            "grid_row": null,
            "max_height": null,
            "align_content": null,
            "visibility": null,
            "align_self": null,
            "height": null,
            "min_height": null,
            "padding": null,
            "grid_auto_rows": null,
            "grid_gap": null,
            "max_width": null,
            "order": null,
            "_view_module_version": "1.2.0",
            "grid_template_areas": null,
            "object_position": null,
            "object_fit": null,
            "grid_auto_columns": null,
            "margin": null,
            "display": null,
            "left": null
          }
        },
        "96bac256a80d44b4b611eab48a2235f1": {
          "model_module": "@jupyter-widgets/controls",
          "model_name": "HTMLModel",
          "model_module_version": "1.5.0",
          "state": {
            "_view_name": "HTMLView",
            "style": "IPY_MODEL_3d071adb05cf4409ad9a069e3168e1b7",
            "_dom_classes": [],
            "description": "",
            "_model_name": "HTMLModel",
            "placeholder": "​",
            "_view_module": "@jupyter-widgets/controls",
            "_model_module_version": "1.5.0",
            "value": "",
            "_view_count": null,
            "_view_module_version": "1.5.0",
            "description_tooltip": null,
            "_model_module": "@jupyter-widgets/controls",
            "layout": "IPY_MODEL_1c48b80a3db44bae8a396683f1364cb8"
          }
        },
        "ab4154266cd343a191abb0765460a242": {
          "model_module": "@jupyter-widgets/controls",
          "model_name": "FloatProgressModel",
          "model_module_version": "1.5.0",
          "state": {
            "_view_name": "ProgressView",
            "style": "IPY_MODEL_4c7676c224cd4bf88904456978015c83",
            "_dom_classes": [],
            "description": "",
            "_model_name": "FloatProgressModel",
            "bar_style": "success",
            "max": 26421880,
            "_view_module": "@jupyter-widgets/controls",
            "_model_module_version": "1.5.0",
            "value": 26421880,
            "_view_count": null,
            "_view_module_version": "1.5.0",
            "orientation": "horizontal",
            "min": 0,
            "description_tooltip": null,
            "_model_module": "@jupyter-widgets/controls",
            "layout": "IPY_MODEL_9d71c46cbbce450c9413f7c342edd8f8"
          }
        },
        "7ee4c4f43fd44c4393d9cc52ba09f358": {
          "model_module": "@jupyter-widgets/controls",
          "model_name": "HTMLModel",
          "model_module_version": "1.5.0",
          "state": {
            "_view_name": "HTMLView",
            "style": "IPY_MODEL_bbb1fd4d426f42949cb888610836a9cf",
            "_dom_classes": [],
            "description": "",
            "_model_name": "HTMLModel",
            "placeholder": "​",
            "_view_module": "@jupyter-widgets/controls",
            "_model_module_version": "1.5.0",
            "value": " 26422272/? [00:01&lt;00:00, 21902435.18it/s]",
            "_view_count": null,
            "_view_module_version": "1.5.0",
            "description_tooltip": null,
            "_model_module": "@jupyter-widgets/controls",
            "layout": "IPY_MODEL_2a18b26851b84cdd90ff86dd1fffd3ff"
          }
        },
        "3d071adb05cf4409ad9a069e3168e1b7": {
          "model_module": "@jupyter-widgets/controls",
          "model_name": "DescriptionStyleModel",
          "model_module_version": "1.5.0",
          "state": {
            "_view_name": "StyleView",
            "_model_name": "DescriptionStyleModel",
            "description_width": "",
            "_view_module": "@jupyter-widgets/base",
            "_model_module_version": "1.5.0",
            "_view_count": null,
            "_view_module_version": "1.2.0",
            "_model_module": "@jupyter-widgets/controls"
          }
        },
        "1c48b80a3db44bae8a396683f1364cb8": {
          "model_module": "@jupyter-widgets/base",
          "model_name": "LayoutModel",
          "model_module_version": "1.2.0",
          "state": {
            "_view_name": "LayoutView",
            "grid_template_rows": null,
            "right": null,
            "justify_content": null,
            "_view_module": "@jupyter-widgets/base",
            "overflow": null,
            "_model_module_version": "1.2.0",
            "_view_count": null,
            "flex_flow": null,
            "width": null,
            "min_width": null,
            "border": null,
            "align_items": null,
            "bottom": null,
            "_model_module": "@jupyter-widgets/base",
            "top": null,
            "grid_column": null,
            "overflow_y": null,
            "overflow_x": null,
            "grid_auto_flow": null,
            "grid_area": null,
            "grid_template_columns": null,
            "flex": null,
            "_model_name": "LayoutModel",
            "justify_items": null,
            "grid_row": null,
            "max_height": null,
            "align_content": null,
            "visibility": null,
            "align_self": null,
            "height": null,
            "min_height": null,
            "padding": null,
            "grid_auto_rows": null,
            "grid_gap": null,
            "max_width": null,
            "order": null,
            "_view_module_version": "1.2.0",
            "grid_template_areas": null,
            "object_position": null,
            "object_fit": null,
            "grid_auto_columns": null,
            "margin": null,
            "display": null,
            "left": null
          }
        },
        "4c7676c224cd4bf88904456978015c83": {
          "model_module": "@jupyter-widgets/controls",
          "model_name": "ProgressStyleModel",
          "model_module_version": "1.5.0",
          "state": {
            "_view_name": "StyleView",
            "_model_name": "ProgressStyleModel",
            "description_width": "",
            "_view_module": "@jupyter-widgets/base",
            "_model_module_version": "1.5.0",
            "_view_count": null,
            "_view_module_version": "1.2.0",
            "bar_color": null,
            "_model_module": "@jupyter-widgets/controls"
          }
        },
        "9d71c46cbbce450c9413f7c342edd8f8": {
          "model_module": "@jupyter-widgets/base",
          "model_name": "LayoutModel",
          "model_module_version": "1.2.0",
          "state": {
            "_view_name": "LayoutView",
            "grid_template_rows": null,
            "right": null,
            "justify_content": null,
            "_view_module": "@jupyter-widgets/base",
            "overflow": null,
            "_model_module_version": "1.2.0",
            "_view_count": null,
            "flex_flow": null,
            "width": null,
            "min_width": null,
            "border": null,
            "align_items": null,
            "bottom": null,
            "_model_module": "@jupyter-widgets/base",
            "top": null,
            "grid_column": null,
            "overflow_y": null,
            "overflow_x": null,
            "grid_auto_flow": null,
            "grid_area": null,
            "grid_template_columns": null,
            "flex": null,
            "_model_name": "LayoutModel",
            "justify_items": null,
            "grid_row": null,
            "max_height": null,
            "align_content": null,
            "visibility": null,
            "align_self": null,
            "height": null,
            "min_height": null,
            "padding": null,
            "grid_auto_rows": null,
            "grid_gap": null,
            "max_width": null,
            "order": null,
            "_view_module_version": "1.2.0",
            "grid_template_areas": null,
            "object_position": null,
            "object_fit": null,
            "grid_auto_columns": null,
            "margin": null,
            "display": null,
            "left": null
          }
        },
        "bbb1fd4d426f42949cb888610836a9cf": {
          "model_module": "@jupyter-widgets/controls",
          "model_name": "DescriptionStyleModel",
          "model_module_version": "1.5.0",
          "state": {
            "_view_name": "StyleView",
            "_model_name": "DescriptionStyleModel",
            "description_width": "",
            "_view_module": "@jupyter-widgets/base",
            "_model_module_version": "1.5.0",
            "_view_count": null,
            "_view_module_version": "1.2.0",
            "_model_module": "@jupyter-widgets/controls"
          }
        },
        "2a18b26851b84cdd90ff86dd1fffd3ff": {
          "model_module": "@jupyter-widgets/base",
          "model_name": "LayoutModel",
          "model_module_version": "1.2.0",
          "state": {
            "_view_name": "LayoutView",
            "grid_template_rows": null,
            "right": null,
            "justify_content": null,
            "_view_module": "@jupyter-widgets/base",
            "overflow": null,
            "_model_module_version": "1.2.0",
            "_view_count": null,
            "flex_flow": null,
            "width": null,
            "min_width": null,
            "border": null,
            "align_items": null,
            "bottom": null,
            "_model_module": "@jupyter-widgets/base",
            "top": null,
            "grid_column": null,
            "overflow_y": null,
            "overflow_x": null,
            "grid_auto_flow": null,
            "grid_area": null,
            "grid_template_columns": null,
            "flex": null,
            "_model_name": "LayoutModel",
            "justify_items": null,
            "grid_row": null,
            "max_height": null,
            "align_content": null,
            "visibility": null,
            "align_self": null,
            "height": null,
            "min_height": null,
            "padding": null,
            "grid_auto_rows": null,
            "grid_gap": null,
            "max_width": null,
            "order": null,
            "_view_module_version": "1.2.0",
            "grid_template_areas": null,
            "object_position": null,
            "object_fit": null,
            "grid_auto_columns": null,
            "margin": null,
            "display": null,
            "left": null
          }
        },
        "ea37743afd854fb4b9a11e34f2e988a9": {
          "model_module": "@jupyter-widgets/controls",
          "model_name": "HBoxModel",
          "model_module_version": "1.5.0",
          "state": {
            "_view_name": "HBoxView",
            "_dom_classes": [],
            "_model_name": "HBoxModel",
            "_view_module": "@jupyter-widgets/controls",
            "_model_module_version": "1.5.0",
            "_view_count": null,
            "_view_module_version": "1.5.0",
            "box_style": "",
            "layout": "IPY_MODEL_893f9f4e274148b9aaf6b9a929e8a93a",
            "_model_module": "@jupyter-widgets/controls",
            "children": [
              "IPY_MODEL_3f91d627d9f3428eaf6d9d273eda700b",
              "IPY_MODEL_661d7feb0207476590ec2862b0b4219f",
              "IPY_MODEL_8682085af3e54f098499ae3e24d100ab"
            ]
          }
        },
        "893f9f4e274148b9aaf6b9a929e8a93a": {
          "model_module": "@jupyter-widgets/base",
          "model_name": "LayoutModel",
          "model_module_version": "1.2.0",
          "state": {
            "_view_name": "LayoutView",
            "grid_template_rows": null,
            "right": null,
            "justify_content": null,
            "_view_module": "@jupyter-widgets/base",
            "overflow": null,
            "_model_module_version": "1.2.0",
            "_view_count": null,
            "flex_flow": null,
            "width": null,
            "min_width": null,
            "border": null,
            "align_items": null,
            "bottom": null,
            "_model_module": "@jupyter-widgets/base",
            "top": null,
            "grid_column": null,
            "overflow_y": null,
            "overflow_x": null,
            "grid_auto_flow": null,
            "grid_area": null,
            "grid_template_columns": null,
            "flex": null,
            "_model_name": "LayoutModel",
            "justify_items": null,
            "grid_row": null,
            "max_height": null,
            "align_content": null,
            "visibility": null,
            "align_self": null,
            "height": null,
            "min_height": null,
            "padding": null,
            "grid_auto_rows": null,
            "grid_gap": null,
            "max_width": null,
            "order": null,
            "_view_module_version": "1.2.0",
            "grid_template_areas": null,
            "object_position": null,
            "object_fit": null,
            "grid_auto_columns": null,
            "margin": null,
            "display": null,
            "left": null
          }
        },
        "3f91d627d9f3428eaf6d9d273eda700b": {
          "model_module": "@jupyter-widgets/controls",
          "model_name": "HTMLModel",
          "model_module_version": "1.5.0",
          "state": {
            "_view_name": "HTMLView",
            "style": "IPY_MODEL_165513cf1547466995bf06c9234f36b5",
            "_dom_classes": [],
            "description": "",
            "_model_name": "HTMLModel",
            "placeholder": "​",
            "_view_module": "@jupyter-widgets/controls",
            "_model_module_version": "1.5.0",
            "value": "",
            "_view_count": null,
            "_view_module_version": "1.5.0",
            "description_tooltip": null,
            "_model_module": "@jupyter-widgets/controls",
            "layout": "IPY_MODEL_0ff6cb9021c140178b87bddcdd87e1c8"
          }
        },
        "661d7feb0207476590ec2862b0b4219f": {
          "model_module": "@jupyter-widgets/controls",
          "model_name": "FloatProgressModel",
          "model_module_version": "1.5.0",
          "state": {
            "_view_name": "ProgressView",
            "style": "IPY_MODEL_8ec7b39add6a461dac09e29003e647ba",
            "_dom_classes": [],
            "description": "",
            "_model_name": "FloatProgressModel",
            "bar_style": "success",
            "max": 29515,
            "_view_module": "@jupyter-widgets/controls",
            "_model_module_version": "1.5.0",
            "value": 29515,
            "_view_count": null,
            "_view_module_version": "1.5.0",
            "orientation": "horizontal",
            "min": 0,
            "description_tooltip": null,
            "_model_module": "@jupyter-widgets/controls",
            "layout": "IPY_MODEL_03f99bbfeb2b481ba335930d4d62092d"
          }
        },
        "8682085af3e54f098499ae3e24d100ab": {
          "model_module": "@jupyter-widgets/controls",
          "model_name": "HTMLModel",
          "model_module_version": "1.5.0",
          "state": {
            "_view_name": "HTMLView",
            "style": "IPY_MODEL_8bc44e8537fb4fd1a53690eb089faea3",
            "_dom_classes": [],
            "description": "",
            "_model_name": "HTMLModel",
            "placeholder": "​",
            "_view_module": "@jupyter-widgets/controls",
            "_model_module_version": "1.5.0",
            "value": " 29696/? [00:00&lt;00:00, 135423.54it/s]",
            "_view_count": null,
            "_view_module_version": "1.5.0",
            "description_tooltip": null,
            "_model_module": "@jupyter-widgets/controls",
            "layout": "IPY_MODEL_4ad12cd3a04e48ef872b1192d59840d4"
          }
        },
        "165513cf1547466995bf06c9234f36b5": {
          "model_module": "@jupyter-widgets/controls",
          "model_name": "DescriptionStyleModel",
          "model_module_version": "1.5.0",
          "state": {
            "_view_name": "StyleView",
            "_model_name": "DescriptionStyleModel",
            "description_width": "",
            "_view_module": "@jupyter-widgets/base",
            "_model_module_version": "1.5.0",
            "_view_count": null,
            "_view_module_version": "1.2.0",
            "_model_module": "@jupyter-widgets/controls"
          }
        },
        "0ff6cb9021c140178b87bddcdd87e1c8": {
          "model_module": "@jupyter-widgets/base",
          "model_name": "LayoutModel",
          "model_module_version": "1.2.0",
          "state": {
            "_view_name": "LayoutView",
            "grid_template_rows": null,
            "right": null,
            "justify_content": null,
            "_view_module": "@jupyter-widgets/base",
            "overflow": null,
            "_model_module_version": "1.2.0",
            "_view_count": null,
            "flex_flow": null,
            "width": null,
            "min_width": null,
            "border": null,
            "align_items": null,
            "bottom": null,
            "_model_module": "@jupyter-widgets/base",
            "top": null,
            "grid_column": null,
            "overflow_y": null,
            "overflow_x": null,
            "grid_auto_flow": null,
            "grid_area": null,
            "grid_template_columns": null,
            "flex": null,
            "_model_name": "LayoutModel",
            "justify_items": null,
            "grid_row": null,
            "max_height": null,
            "align_content": null,
            "visibility": null,
            "align_self": null,
            "height": null,
            "min_height": null,
            "padding": null,
            "grid_auto_rows": null,
            "grid_gap": null,
            "max_width": null,
            "order": null,
            "_view_module_version": "1.2.0",
            "grid_template_areas": null,
            "object_position": null,
            "object_fit": null,
            "grid_auto_columns": null,
            "margin": null,
            "display": null,
            "left": null
          }
        },
        "8ec7b39add6a461dac09e29003e647ba": {
          "model_module": "@jupyter-widgets/controls",
          "model_name": "ProgressStyleModel",
          "model_module_version": "1.5.0",
          "state": {
            "_view_name": "StyleView",
            "_model_name": "ProgressStyleModel",
            "description_width": "",
            "_view_module": "@jupyter-widgets/base",
            "_model_module_version": "1.5.0",
            "_view_count": null,
            "_view_module_version": "1.2.0",
            "bar_color": null,
            "_model_module": "@jupyter-widgets/controls"
          }
        },
        "03f99bbfeb2b481ba335930d4d62092d": {
          "model_module": "@jupyter-widgets/base",
          "model_name": "LayoutModel",
          "model_module_version": "1.2.0",
          "state": {
            "_view_name": "LayoutView",
            "grid_template_rows": null,
            "right": null,
            "justify_content": null,
            "_view_module": "@jupyter-widgets/base",
            "overflow": null,
            "_model_module_version": "1.2.0",
            "_view_count": null,
            "flex_flow": null,
            "width": null,
            "min_width": null,
            "border": null,
            "align_items": null,
            "bottom": null,
            "_model_module": "@jupyter-widgets/base",
            "top": null,
            "grid_column": null,
            "overflow_y": null,
            "overflow_x": null,
            "grid_auto_flow": null,
            "grid_area": null,
            "grid_template_columns": null,
            "flex": null,
            "_model_name": "LayoutModel",
            "justify_items": null,
            "grid_row": null,
            "max_height": null,
            "align_content": null,
            "visibility": null,
            "align_self": null,
            "height": null,
            "min_height": null,
            "padding": null,
            "grid_auto_rows": null,
            "grid_gap": null,
            "max_width": null,
            "order": null,
            "_view_module_version": "1.2.0",
            "grid_template_areas": null,
            "object_position": null,
            "object_fit": null,
            "grid_auto_columns": null,
            "margin": null,
            "display": null,
            "left": null
          }
        },
        "8bc44e8537fb4fd1a53690eb089faea3": {
          "model_module": "@jupyter-widgets/controls",
          "model_name": "DescriptionStyleModel",
          "model_module_version": "1.5.0",
          "state": {
            "_view_name": "StyleView",
            "_model_name": "DescriptionStyleModel",
            "description_width": "",
            "_view_module": "@jupyter-widgets/base",
            "_model_module_version": "1.5.0",
            "_view_count": null,
            "_view_module_version": "1.2.0",
            "_model_module": "@jupyter-widgets/controls"
          }
        },
        "4ad12cd3a04e48ef872b1192d59840d4": {
          "model_module": "@jupyter-widgets/base",
          "model_name": "LayoutModel",
          "model_module_version": "1.2.0",
          "state": {
            "_view_name": "LayoutView",
            "grid_template_rows": null,
            "right": null,
            "justify_content": null,
            "_view_module": "@jupyter-widgets/base",
            "overflow": null,
            "_model_module_version": "1.2.0",
            "_view_count": null,
            "flex_flow": null,
            "width": null,
            "min_width": null,
            "border": null,
            "align_items": null,
            "bottom": null,
            "_model_module": "@jupyter-widgets/base",
            "top": null,
            "grid_column": null,
            "overflow_y": null,
            "overflow_x": null,
            "grid_auto_flow": null,
            "grid_area": null,
            "grid_template_columns": null,
            "flex": null,
            "_model_name": "LayoutModel",
            "justify_items": null,
            "grid_row": null,
            "max_height": null,
            "align_content": null,
            "visibility": null,
            "align_self": null,
            "height": null,
            "min_height": null,
            "padding": null,
            "grid_auto_rows": null,
            "grid_gap": null,
            "max_width": null,
            "order": null,
            "_view_module_version": "1.2.0",
            "grid_template_areas": null,
            "object_position": null,
            "object_fit": null,
            "grid_auto_columns": null,
            "margin": null,
            "display": null,
            "left": null
          }
        },
        "0144262ded544b6e8b2615396b68df9a": {
          "model_module": "@jupyter-widgets/controls",
          "model_name": "HBoxModel",
          "model_module_version": "1.5.0",
          "state": {
            "_view_name": "HBoxView",
            "_dom_classes": [],
            "_model_name": "HBoxModel",
            "_view_module": "@jupyter-widgets/controls",
            "_model_module_version": "1.5.0",
            "_view_count": null,
            "_view_module_version": "1.5.0",
            "box_style": "",
            "layout": "IPY_MODEL_f6b5d38859b043a1a5215e2a8f93a1af",
            "_model_module": "@jupyter-widgets/controls",
            "children": [
              "IPY_MODEL_4429d6c5251a490ebe84eef0961ec851",
              "IPY_MODEL_3a066f524e51409d9ea5b3d56043085e",
              "IPY_MODEL_72622e380fb141b4ae0cca3705e6b9e7"
            ]
          }
        },
        "f6b5d38859b043a1a5215e2a8f93a1af": {
          "model_module": "@jupyter-widgets/base",
          "model_name": "LayoutModel",
          "model_module_version": "1.2.0",
          "state": {
            "_view_name": "LayoutView",
            "grid_template_rows": null,
            "right": null,
            "justify_content": null,
            "_view_module": "@jupyter-widgets/base",
            "overflow": null,
            "_model_module_version": "1.2.0",
            "_view_count": null,
            "flex_flow": null,
            "width": null,
            "min_width": null,
            "border": null,
            "align_items": null,
            "bottom": null,
            "_model_module": "@jupyter-widgets/base",
            "top": null,
            "grid_column": null,
            "overflow_y": null,
            "overflow_x": null,
            "grid_auto_flow": null,
            "grid_area": null,
            "grid_template_columns": null,
            "flex": null,
            "_model_name": "LayoutModel",
            "justify_items": null,
            "grid_row": null,
            "max_height": null,
            "align_content": null,
            "visibility": null,
            "align_self": null,
            "height": null,
            "min_height": null,
            "padding": null,
            "grid_auto_rows": null,
            "grid_gap": null,
            "max_width": null,
            "order": null,
            "_view_module_version": "1.2.0",
            "grid_template_areas": null,
            "object_position": null,
            "object_fit": null,
            "grid_auto_columns": null,
            "margin": null,
            "display": null,
            "left": null
          }
        },
        "4429d6c5251a490ebe84eef0961ec851": {
          "model_module": "@jupyter-widgets/controls",
          "model_name": "HTMLModel",
          "model_module_version": "1.5.0",
          "state": {
            "_view_name": "HTMLView",
            "style": "IPY_MODEL_1fbe9ff20cbb4fd19e153ae3d43dec63",
            "_dom_classes": [],
            "description": "",
            "_model_name": "HTMLModel",
            "placeholder": "​",
            "_view_module": "@jupyter-widgets/controls",
            "_model_module_version": "1.5.0",
            "value": "",
            "_view_count": null,
            "_view_module_version": "1.5.0",
            "description_tooltip": null,
            "_model_module": "@jupyter-widgets/controls",
            "layout": "IPY_MODEL_35ab9e6a0cae4639bead493bd725040a"
          }
        },
        "3a066f524e51409d9ea5b3d56043085e": {
          "model_module": "@jupyter-widgets/controls",
          "model_name": "FloatProgressModel",
          "model_module_version": "1.5.0",
          "state": {
            "_view_name": "ProgressView",
            "style": "IPY_MODEL_56931e457af44635bb55a2f7873875e3",
            "_dom_classes": [],
            "description": "",
            "_model_name": "FloatProgressModel",
            "bar_style": "success",
            "max": 4422102,
            "_view_module": "@jupyter-widgets/controls",
            "_model_module_version": "1.5.0",
            "value": 4422102,
            "_view_count": null,
            "_view_module_version": "1.5.0",
            "orientation": "horizontal",
            "min": 0,
            "description_tooltip": null,
            "_model_module": "@jupyter-widgets/controls",
            "layout": "IPY_MODEL_488c2650a7c54eea8e3851cd7d75b312"
          }
        },
        "72622e380fb141b4ae0cca3705e6b9e7": {
          "model_module": "@jupyter-widgets/controls",
          "model_name": "HTMLModel",
          "model_module_version": "1.5.0",
          "state": {
            "_view_name": "HTMLView",
            "style": "IPY_MODEL_ee4e48f74f6045d28b871f2e29e5cfe5",
            "_dom_classes": [],
            "description": "",
            "_model_name": "HTMLModel",
            "placeholder": "​",
            "_view_module": "@jupyter-widgets/controls",
            "_model_module_version": "1.5.0",
            "value": " 4422656/? [00:00&lt;00:00, 6832901.14it/s]",
            "_view_count": null,
            "_view_module_version": "1.5.0",
            "description_tooltip": null,
            "_model_module": "@jupyter-widgets/controls",
            "layout": "IPY_MODEL_ea61ea8ccc724d26b704bcf351ae7364"
          }
        },
        "1fbe9ff20cbb4fd19e153ae3d43dec63": {
          "model_module": "@jupyter-widgets/controls",
          "model_name": "DescriptionStyleModel",
          "model_module_version": "1.5.0",
          "state": {
            "_view_name": "StyleView",
            "_model_name": "DescriptionStyleModel",
            "description_width": "",
            "_view_module": "@jupyter-widgets/base",
            "_model_module_version": "1.5.0",
            "_view_count": null,
            "_view_module_version": "1.2.0",
            "_model_module": "@jupyter-widgets/controls"
          }
        },
        "35ab9e6a0cae4639bead493bd725040a": {
          "model_module": "@jupyter-widgets/base",
          "model_name": "LayoutModel",
          "model_module_version": "1.2.0",
          "state": {
            "_view_name": "LayoutView",
            "grid_template_rows": null,
            "right": null,
            "justify_content": null,
            "_view_module": "@jupyter-widgets/base",
            "overflow": null,
            "_model_module_version": "1.2.0",
            "_view_count": null,
            "flex_flow": null,
            "width": null,
            "min_width": null,
            "border": null,
            "align_items": null,
            "bottom": null,
            "_model_module": "@jupyter-widgets/base",
            "top": null,
            "grid_column": null,
            "overflow_y": null,
            "overflow_x": null,
            "grid_auto_flow": null,
            "grid_area": null,
            "grid_template_columns": null,
            "flex": null,
            "_model_name": "LayoutModel",
            "justify_items": null,
            "grid_row": null,
            "max_height": null,
            "align_content": null,
            "visibility": null,
            "align_self": null,
            "height": null,
            "min_height": null,
            "padding": null,
            "grid_auto_rows": null,
            "grid_gap": null,
            "max_width": null,
            "order": null,
            "_view_module_version": "1.2.0",
            "grid_template_areas": null,
            "object_position": null,
            "object_fit": null,
            "grid_auto_columns": null,
            "margin": null,
            "display": null,
            "left": null
          }
        },
        "56931e457af44635bb55a2f7873875e3": {
          "model_module": "@jupyter-widgets/controls",
          "model_name": "ProgressStyleModel",
          "model_module_version": "1.5.0",
          "state": {
            "_view_name": "StyleView",
            "_model_name": "ProgressStyleModel",
            "description_width": "",
            "_view_module": "@jupyter-widgets/base",
            "_model_module_version": "1.5.0",
            "_view_count": null,
            "_view_module_version": "1.2.0",
            "bar_color": null,
            "_model_module": "@jupyter-widgets/controls"
          }
        },
        "488c2650a7c54eea8e3851cd7d75b312": {
          "model_module": "@jupyter-widgets/base",
          "model_name": "LayoutModel",
          "model_module_version": "1.2.0",
          "state": {
            "_view_name": "LayoutView",
            "grid_template_rows": null,
            "right": null,
            "justify_content": null,
            "_view_module": "@jupyter-widgets/base",
            "overflow": null,
            "_model_module_version": "1.2.0",
            "_view_count": null,
            "flex_flow": null,
            "width": null,
            "min_width": null,
            "border": null,
            "align_items": null,
            "bottom": null,
            "_model_module": "@jupyter-widgets/base",
            "top": null,
            "grid_column": null,
            "overflow_y": null,
            "overflow_x": null,
            "grid_auto_flow": null,
            "grid_area": null,
            "grid_template_columns": null,
            "flex": null,
            "_model_name": "LayoutModel",
            "justify_items": null,
            "grid_row": null,
            "max_height": null,
            "align_content": null,
            "visibility": null,
            "align_self": null,
            "height": null,
            "min_height": null,
            "padding": null,
            "grid_auto_rows": null,
            "grid_gap": null,
            "max_width": null,
            "order": null,
            "_view_module_version": "1.2.0",
            "grid_template_areas": null,
            "object_position": null,
            "object_fit": null,
            "grid_auto_columns": null,
            "margin": null,
            "display": null,
            "left": null
          }
        },
        "ee4e48f74f6045d28b871f2e29e5cfe5": {
          "model_module": "@jupyter-widgets/controls",
          "model_name": "DescriptionStyleModel",
          "model_module_version": "1.5.0",
          "state": {
            "_view_name": "StyleView",
            "_model_name": "DescriptionStyleModel",
            "description_width": "",
            "_view_module": "@jupyter-widgets/base",
            "_model_module_version": "1.5.0",
            "_view_count": null,
            "_view_module_version": "1.2.0",
            "_model_module": "@jupyter-widgets/controls"
          }
        },
        "ea61ea8ccc724d26b704bcf351ae7364": {
          "model_module": "@jupyter-widgets/base",
          "model_name": "LayoutModel",
          "model_module_version": "1.2.0",
          "state": {
            "_view_name": "LayoutView",
            "grid_template_rows": null,
            "right": null,
            "justify_content": null,
            "_view_module": "@jupyter-widgets/base",
            "overflow": null,
            "_model_module_version": "1.2.0",
            "_view_count": null,
            "flex_flow": null,
            "width": null,
            "min_width": null,
            "border": null,
            "align_items": null,
            "bottom": null,
            "_model_module": "@jupyter-widgets/base",
            "top": null,
            "grid_column": null,
            "overflow_y": null,
            "overflow_x": null,
            "grid_auto_flow": null,
            "grid_area": null,
            "grid_template_columns": null,
            "flex": null,
            "_model_name": "LayoutModel",
            "justify_items": null,
            "grid_row": null,
            "max_height": null,
            "align_content": null,
            "visibility": null,
            "align_self": null,
            "height": null,
            "min_height": null,
            "padding": null,
            "grid_auto_rows": null,
            "grid_gap": null,
            "max_width": null,
            "order": null,
            "_view_module_version": "1.2.0",
            "grid_template_areas": null,
            "object_position": null,
            "object_fit": null,
            "grid_auto_columns": null,
            "margin": null,
            "display": null,
            "left": null
          }
        },
        "c81f1ac36838460eb20ad7eb563e4d9a": {
          "model_module": "@jupyter-widgets/controls",
          "model_name": "HBoxModel",
          "model_module_version": "1.5.0",
          "state": {
            "_view_name": "HBoxView",
            "_dom_classes": [],
            "_model_name": "HBoxModel",
            "_view_module": "@jupyter-widgets/controls",
            "_model_module_version": "1.5.0",
            "_view_count": null,
            "_view_module_version": "1.5.0",
            "box_style": "",
            "layout": "IPY_MODEL_0176a8a15c764cfb9f9a24773a2b8a78",
            "_model_module": "@jupyter-widgets/controls",
            "children": [
              "IPY_MODEL_45fc0285c7ac437f9a0059e55c23f1ad",
              "IPY_MODEL_0f96115c98524c1ba5f212c98dbede65",
              "IPY_MODEL_52ef56108da9478f97e9d85d288d9f12"
            ]
          }
        },
        "0176a8a15c764cfb9f9a24773a2b8a78": {
          "model_module": "@jupyter-widgets/base",
          "model_name": "LayoutModel",
          "model_module_version": "1.2.0",
          "state": {
            "_view_name": "LayoutView",
            "grid_template_rows": null,
            "right": null,
            "justify_content": null,
            "_view_module": "@jupyter-widgets/base",
            "overflow": null,
            "_model_module_version": "1.2.0",
            "_view_count": null,
            "flex_flow": null,
            "width": null,
            "min_width": null,
            "border": null,
            "align_items": null,
            "bottom": null,
            "_model_module": "@jupyter-widgets/base",
            "top": null,
            "grid_column": null,
            "overflow_y": null,
            "overflow_x": null,
            "grid_auto_flow": null,
            "grid_area": null,
            "grid_template_columns": null,
            "flex": null,
            "_model_name": "LayoutModel",
            "justify_items": null,
            "grid_row": null,
            "max_height": null,
            "align_content": null,
            "visibility": null,
            "align_self": null,
            "height": null,
            "min_height": null,
            "padding": null,
            "grid_auto_rows": null,
            "grid_gap": null,
            "max_width": null,
            "order": null,
            "_view_module_version": "1.2.0",
            "grid_template_areas": null,
            "object_position": null,
            "object_fit": null,
            "grid_auto_columns": null,
            "margin": null,
            "display": null,
            "left": null
          }
        },
        "45fc0285c7ac437f9a0059e55c23f1ad": {
          "model_module": "@jupyter-widgets/controls",
          "model_name": "HTMLModel",
          "model_module_version": "1.5.0",
          "state": {
            "_view_name": "HTMLView",
            "style": "IPY_MODEL_17b2a8ce68a84413a6d8b0e5ed9bb379",
            "_dom_classes": [],
            "description": "",
            "_model_name": "HTMLModel",
            "placeholder": "​",
            "_view_module": "@jupyter-widgets/controls",
            "_model_module_version": "1.5.0",
            "value": "",
            "_view_count": null,
            "_view_module_version": "1.5.0",
            "description_tooltip": null,
            "_model_module": "@jupyter-widgets/controls",
            "layout": "IPY_MODEL_e912bffa03b5459f86cdbc6f92308f9e"
          }
        },
        "0f96115c98524c1ba5f212c98dbede65": {
          "model_module": "@jupyter-widgets/controls",
          "model_name": "FloatProgressModel",
          "model_module_version": "1.5.0",
          "state": {
            "_view_name": "ProgressView",
            "style": "IPY_MODEL_12a8f3b922334c56b09c81a4dd2ae58d",
            "_dom_classes": [],
            "description": "",
            "_model_name": "FloatProgressModel",
            "bar_style": "success",
            "max": 5148,
            "_view_module": "@jupyter-widgets/controls",
            "_model_module_version": "1.5.0",
            "value": 5148,
            "_view_count": null,
            "_view_module_version": "1.5.0",
            "orientation": "horizontal",
            "min": 0,
            "description_tooltip": null,
            "_model_module": "@jupyter-widgets/controls",
            "layout": "IPY_MODEL_48aada0df45e402888910378588a56c2"
          }
        },
        "52ef56108da9478f97e9d85d288d9f12": {
          "model_module": "@jupyter-widgets/controls",
          "model_name": "HTMLModel",
          "model_module_version": "1.5.0",
          "state": {
            "_view_name": "HTMLView",
            "style": "IPY_MODEL_35a72e4df4024a2a9f85e56f54fd3db9",
            "_dom_classes": [],
            "description": "",
            "_model_name": "HTMLModel",
            "placeholder": "​",
            "_view_module": "@jupyter-widgets/controls",
            "_model_module_version": "1.5.0",
            "value": " 6144/? [00:00&lt;00:00, 157119.54it/s]",
            "_view_count": null,
            "_view_module_version": "1.5.0",
            "description_tooltip": null,
            "_model_module": "@jupyter-widgets/controls",
            "layout": "IPY_MODEL_1e4b03509b1b4924acfc9aa18d43adf9"
          }
        },
        "17b2a8ce68a84413a6d8b0e5ed9bb379": {
          "model_module": "@jupyter-widgets/controls",
          "model_name": "DescriptionStyleModel",
          "model_module_version": "1.5.0",
          "state": {
            "_view_name": "StyleView",
            "_model_name": "DescriptionStyleModel",
            "description_width": "",
            "_view_module": "@jupyter-widgets/base",
            "_model_module_version": "1.5.0",
            "_view_count": null,
            "_view_module_version": "1.2.0",
            "_model_module": "@jupyter-widgets/controls"
          }
        },
        "e912bffa03b5459f86cdbc6f92308f9e": {
          "model_module": "@jupyter-widgets/base",
          "model_name": "LayoutModel",
          "model_module_version": "1.2.0",
          "state": {
            "_view_name": "LayoutView",
            "grid_template_rows": null,
            "right": null,
            "justify_content": null,
            "_view_module": "@jupyter-widgets/base",
            "overflow": null,
            "_model_module_version": "1.2.0",
            "_view_count": null,
            "flex_flow": null,
            "width": null,
            "min_width": null,
            "border": null,
            "align_items": null,
            "bottom": null,
            "_model_module": "@jupyter-widgets/base",
            "top": null,
            "grid_column": null,
            "overflow_y": null,
            "overflow_x": null,
            "grid_auto_flow": null,
            "grid_area": null,
            "grid_template_columns": null,
            "flex": null,
            "_model_name": "LayoutModel",
            "justify_items": null,
            "grid_row": null,
            "max_height": null,
            "align_content": null,
            "visibility": null,
            "align_self": null,
            "height": null,
            "min_height": null,
            "padding": null,
            "grid_auto_rows": null,
            "grid_gap": null,
            "max_width": null,
            "order": null,
            "_view_module_version": "1.2.0",
            "grid_template_areas": null,
            "object_position": null,
            "object_fit": null,
            "grid_auto_columns": null,
            "margin": null,
            "display": null,
            "left": null
          }
        },
        "12a8f3b922334c56b09c81a4dd2ae58d": {
          "model_module": "@jupyter-widgets/controls",
          "model_name": "ProgressStyleModel",
          "model_module_version": "1.5.0",
          "state": {
            "_view_name": "StyleView",
            "_model_name": "ProgressStyleModel",
            "description_width": "",
            "_view_module": "@jupyter-widgets/base",
            "_model_module_version": "1.5.0",
            "_view_count": null,
            "_view_module_version": "1.2.0",
            "bar_color": null,
            "_model_module": "@jupyter-widgets/controls"
          }
        },
        "48aada0df45e402888910378588a56c2": {
          "model_module": "@jupyter-widgets/base",
          "model_name": "LayoutModel",
          "model_module_version": "1.2.0",
          "state": {
            "_view_name": "LayoutView",
            "grid_template_rows": null,
            "right": null,
            "justify_content": null,
            "_view_module": "@jupyter-widgets/base",
            "overflow": null,
            "_model_module_version": "1.2.0",
            "_view_count": null,
            "flex_flow": null,
            "width": null,
            "min_width": null,
            "border": null,
            "align_items": null,
            "bottom": null,
            "_model_module": "@jupyter-widgets/base",
            "top": null,
            "grid_column": null,
            "overflow_y": null,
            "overflow_x": null,
            "grid_auto_flow": null,
            "grid_area": null,
            "grid_template_columns": null,
            "flex": null,
            "_model_name": "LayoutModel",
            "justify_items": null,
            "grid_row": null,
            "max_height": null,
            "align_content": null,
            "visibility": null,
            "align_self": null,
            "height": null,
            "min_height": null,
            "padding": null,
            "grid_auto_rows": null,
            "grid_gap": null,
            "max_width": null,
            "order": null,
            "_view_module_version": "1.2.0",
            "grid_template_areas": null,
            "object_position": null,
            "object_fit": null,
            "grid_auto_columns": null,
            "margin": null,
            "display": null,
            "left": null
          }
        },
        "35a72e4df4024a2a9f85e56f54fd3db9": {
          "model_module": "@jupyter-widgets/controls",
          "model_name": "DescriptionStyleModel",
          "model_module_version": "1.5.0",
          "state": {
            "_view_name": "StyleView",
            "_model_name": "DescriptionStyleModel",
            "description_width": "",
            "_view_module": "@jupyter-widgets/base",
            "_model_module_version": "1.5.0",
            "_view_count": null,
            "_view_module_version": "1.2.0",
            "_model_module": "@jupyter-widgets/controls"
          }
        },
        "1e4b03509b1b4924acfc9aa18d43adf9": {
          "model_module": "@jupyter-widgets/base",
          "model_name": "LayoutModel",
          "model_module_version": "1.2.0",
          "state": {
            "_view_name": "LayoutView",
            "grid_template_rows": null,
            "right": null,
            "justify_content": null,
            "_view_module": "@jupyter-widgets/base",
            "overflow": null,
            "_model_module_version": "1.2.0",
            "_view_count": null,
            "flex_flow": null,
            "width": null,
            "min_width": null,
            "border": null,
            "align_items": null,
            "bottom": null,
            "_model_module": "@jupyter-widgets/base",
            "top": null,
            "grid_column": null,
            "overflow_y": null,
            "overflow_x": null,
            "grid_auto_flow": null,
            "grid_area": null,
            "grid_template_columns": null,
            "flex": null,
            "_model_name": "LayoutModel",
            "justify_items": null,
            "grid_row": null,
            "max_height": null,
            "align_content": null,
            "visibility": null,
            "align_self": null,
            "height": null,
            "min_height": null,
            "padding": null,
            "grid_auto_rows": null,
            "grid_gap": null,
            "max_width": null,
            "order": null,
            "_view_module_version": "1.2.0",
            "grid_template_areas": null,
            "object_position": null,
            "object_fit": null,
            "grid_auto_columns": null,
            "margin": null,
            "display": null,
            "left": null
          }
        }
      }
    }
  },
  "cells": [
    {
      "cell_type": "markdown",
      "metadata": {
        "id": "view-in-github",
        "colab_type": "text"
      },
      "source": [
        "<a href=\"https://colab.research.google.com/github/Seongwoong-sk/PyTorch-Deep-Learning-Zero-To-All/blob/main/Fashion_MNIST_Classifier.ipynb\" target=\"_parent\"><img src=\"https://colab.research.google.com/assets/colab-badge.svg\" alt=\"Open In Colab\"/></a>"
      ]
    },
    {
      "cell_type": "markdown",
      "metadata": {
        "id": "sOUfqfKOp1ec"
      },
      "source": [
        "# <font color='green'>Deep Neural Network: FashoinMNIST Classifier</font>\n",
        "\n",
        "<img src=\"http://drive.google.com/uc?export=view&id=1OSa44ql8zf9kq2r_D_Q0U1WWTkMPcCgm\" width=\"600px\" height=\"500px\" />\n",
        "\n",
        "* 이미지 출처: 네이버\n",
        "<br>\n",
        "\n",
        "\n",
        "**개요**\n",
        "- 스마트 렌즈는 여러분이 찍은 이미지가 어떤 옷인지 판별하고 쇼핑과 연결지어 검색까지 해줍니다. 이러한 기술은 어떻게 만들어 지는 것일까요? 물론 복잡한 기술이 들어가겠지만 여기에는 딥러닝 기술이 포함되어 있습니다. \n",
        "- 이번 프로젝트에서는 10 종류의 의류와 관련된 이미지를 학습시키고 판별하는 모델을 만들어 볼것입니다.     \n",
        "\n",
        "**목표**\n",
        "- [Fashion-Mnist](https://github.com/zalandoresearch/fashion-mnist) 데이터셋을 활용해 분류기를 학습한다.\n",
        "- Multi layer perceptron, Batch normalization, ReLU 를 활용해 네트워크를 설계한다.\n",
        "\n",
        "**설명**\n",
        "\n",
        "- 우리가 다뤄야 할 데이터는 1x28x28 (채널x이미지 높이x이미지 너비)의 흑백 이미지입니다. 즉, 밝기값만을 가지고 있습니다.\n",
        "    - 생활속에서 주로 접하게되는 컬러 이미지의 경우 빛의 3원색인 Red, Green, Blue의 3채널로 구성되어 있습니다. 일반적으로 이 3채널을 RGB채널이라고 부르며, 이 채널 값들의 조합으로 색상을 표현하게 됩니다.\n",
        "- DNN(Deep Neural Network)의 입력으로 사용되기 위해서 1X28X28의 3차원 은 784의 1차원 데이터로(1\\*28\\*28=784) 변환됩니다. \n",
        "- 784차원의 입력 데이터는 DNN을 통과하여 10차원의 의류 종류를 나타내는 출력으로 변환됩니다.\n",
        "\n",
        "**데이터셋**    \n",
        "[Fashion-MNIST](https://github.com/zalandoresearch/fashion-mnist)\n",
        "  - MNIST와 동일한 크기의 데이터(10개의 부류, 60,000개의 학습, 10,000개의 테스트 데이터)이지만 MNIST보다 분류하기 어려운 의류 영상데이터 입니다. \n",
        "  - Fashion-MNIST의 데이터 부류는 T-Shirts, Trouser, Pullover, Dress, Coat, Sandal, Shirt, Bag, Ankle boot로 10개의 클래스로 이루어져 있습니다.\n",
        "\n",
        "<img src=\"http://drive.google.com/uc?export=view&id=1N691obHfLeKvP7eJ842EkMovK0O_Nu5E\" width=\"800px\" height=\"300px\"/>\n",
        "<caption><center>&lt;1$\\times$28$\\times$28 의 이미지를 입력으로 받아 옷의 종류를 반환하는 DNN&gt;</center></caption>"
      ]
    },
    {
      "cell_type": "markdown",
      "metadata": {
        "id": "CpRmv2dyP7rC"
      },
      "source": [
        "# <font color='green'>PROCESS</font>\n",
        "1. Pacakge load\n",
        "2. Hyperparameter Setting\n",
        "3. Dataset 및 DataLoader 할당\n",
        "4. 데이터 샘플 시각화\n",
        "5. 네트워크 설계\n",
        "6. Weight initialization\n",
        "7. 모델 생성\n",
        "8. Loss function 및 Optimizer 정의\n",
        "9. Training\n",
        "10. Test"
      ]
    },
    {
      "cell_type": "code",
      "metadata": {
        "id": "VZxS3O5qp1eT",
        "colab": {
          "base_uri": "https://localhost:8080/"
        },
        "outputId": "e62bfa07-fce4-4924-bd8a-82e07bcb4e1f"
      },
      "source": [
        "# from google.colab import auth\n",
        "# auth.authenticate_user()\n",
        "\n",
        "# from google.colab import drive\n",
        "# drive.mount('/content/gdrive', force_remount=False)"
      ],
      "execution_count": null,
      "outputs": [
        {
          "output_type": "stream",
          "name": "stdout",
          "text": [
            "Drive already mounted at /content/gdrive; to attempt to forcibly remount, call drive.mount(\"/content/gdrive\", force_remount=True).\n"
          ]
        }
      ]
    },
    {
      "cell_type": "code",
      "metadata": {
        "colab": {
          "base_uri": "https://localhost:8080/"
        },
        "id": "3zBJ3gbpp1eY",
        "outputId": "0b4b82cd-f8cd-40a2-f011-6fb152e2e48b"
      },
      "source": [
        "import os\n",
        "from pathlib import Path\n",
        "\n",
        "folder = \"Project/\"\n",
        "project_dir = \"DNN_PT\"\n",
        "\n",
        "base_path = Path(\"/content/drive/MyDrive/\")\n",
        "project_path = base_path / folder / project_dir\n",
        "os.chdir(project_path)\n",
        "\n",
        "for x in list(project_path.glob(\"*\")):\n",
        "    if x.is_dir():\n",
        "        dir_name = str(x.relative_to(project_path))\n",
        "        os.rename(dir_name, dir_name.split(\" \",1)[0])\n",
        "print(f\"현재 디렉토리 위치: {os.getcwd()}\")"
      ],
      "execution_count": 2,
      "outputs": [
        {
          "output_type": "stream",
          "name": "stdout",
          "text": [
            "현재 디렉토리 위치: /content/drive/MyDrive/Project/DNN_PT\n"
          ]
        }
      ]
    },
    {
      "cell_type": "code",
      "metadata": {
        "colab": {
          "base_uri": "https://localhost:8080/"
        },
        "id": "M3aYC2QPp1ea",
        "outputId": "b6f8749b-2fe8-402c-ff7e-7f7ea8f3412b"
      },
      "source": [
        "import torch \n",
        "print('pytorch version: {}'.format(torch.__version__))"
      ],
      "execution_count": 3,
      "outputs": [
        {
          "output_type": "stream",
          "name": "stdout",
          "text": [
            "pytorch version: 1.9.0+cu102\n"
          ]
        }
      ]
    },
    {
      "cell_type": "markdown",
      "metadata": {
        "id": "lMkVJxV5p1ef"
      },
      "source": [
        "## 1. Package load\n"
      ]
    },
    {
      "cell_type": "code",
      "metadata": {
        "colab": {
          "base_uri": "https://localhost:8080/"
        },
        "id": "I21vNapmp1eg",
        "outputId": "aef4da92-8aa7-4599-bc84-99a98dcefd0b"
      },
      "source": [
        "import torch\n",
        "import torch.optim as optim\n",
        "import torch.nn as nn\n",
        "import torchvision.datasets as dset\n",
        "import torchvision.transforms as transforms\n",
        "import matplotlib.pyplot as plt\n",
        "import numpy as np\n",
        "%matplotlib inline\n",
        "\n",
        "print('pytorch version: {}'.format(torch.__version__))\n",
        "print('GPU 사용 가능 여부: {}'.format(torch.cuda.is_available()))\n",
        "\n",
        "torch.manual_seed(777)\n",
        "device = \"cuda\" if torch.cuda.is_available() else \"cpu\"   # GPU 사용 가능 여부에 따라 device 정보 저장\n",
        "if device == 'cuda':\n",
        "    torch.cuda.manual_seed_all(777)\n"
      ],
      "execution_count": 4,
      "outputs": [
        {
          "output_type": "stream",
          "name": "stdout",
          "text": [
            "pytorch version: 1.9.0+cu102\n",
            "GPU 사용 가능 여부: True\n"
          ]
        }
      ]
    },
    {
      "cell_type": "markdown",
      "metadata": {
        "id": "rFq9nZmXp1eg"
      },
      "source": [
        "## 2. 하이퍼파라미터 세팅"
      ]
    },
    {
      "cell_type": "code",
      "metadata": {
        "id": "NR4wqjasp1eg"
      },
      "source": [
        "batch_size = 100\n",
        "num_epochs = 20\n",
        "learning_rate = 0.001"
      ],
      "execution_count": 5,
      "outputs": []
    },
    {
      "cell_type": "markdown",
      "metadata": {
        "id": "6AMc_rxPp1eh"
      },
      "source": [
        "## 3. Dataset 및 DataLoader 할당\n"
      ]
    },
    {
      "cell_type": "code",
      "metadata": {
        "colab": {
          "base_uri": "https://localhost:8080/",
          "height": 479,
          "referenced_widgets": [
            "574b5358a1a44f6790f70a815b240f43",
            "5a0d4da581eb40eda873acf30874b418",
            "96bac256a80d44b4b611eab48a2235f1",
            "ab4154266cd343a191abb0765460a242",
            "7ee4c4f43fd44c4393d9cc52ba09f358",
            "3d071adb05cf4409ad9a069e3168e1b7",
            "1c48b80a3db44bae8a396683f1364cb8",
            "4c7676c224cd4bf88904456978015c83",
            "9d71c46cbbce450c9413f7c342edd8f8",
            "bbb1fd4d426f42949cb888610836a9cf",
            "2a18b26851b84cdd90ff86dd1fffd3ff",
            "ea37743afd854fb4b9a11e34f2e988a9",
            "893f9f4e274148b9aaf6b9a929e8a93a",
            "3f91d627d9f3428eaf6d9d273eda700b",
            "661d7feb0207476590ec2862b0b4219f",
            "8682085af3e54f098499ae3e24d100ab",
            "165513cf1547466995bf06c9234f36b5",
            "0ff6cb9021c140178b87bddcdd87e1c8",
            "8ec7b39add6a461dac09e29003e647ba",
            "03f99bbfeb2b481ba335930d4d62092d",
            "8bc44e8537fb4fd1a53690eb089faea3",
            "4ad12cd3a04e48ef872b1192d59840d4",
            "0144262ded544b6e8b2615396b68df9a",
            "f6b5d38859b043a1a5215e2a8f93a1af",
            "4429d6c5251a490ebe84eef0961ec851",
            "3a066f524e51409d9ea5b3d56043085e",
            "72622e380fb141b4ae0cca3705e6b9e7",
            "1fbe9ff20cbb4fd19e153ae3d43dec63",
            "35ab9e6a0cae4639bead493bd725040a",
            "56931e457af44635bb55a2f7873875e3",
            "488c2650a7c54eea8e3851cd7d75b312",
            "ee4e48f74f6045d28b871f2e29e5cfe5",
            "ea61ea8ccc724d26b704bcf351ae7364",
            "c81f1ac36838460eb20ad7eb563e4d9a",
            "0176a8a15c764cfb9f9a24773a2b8a78",
            "45fc0285c7ac437f9a0059e55c23f1ad",
            "0f96115c98524c1ba5f212c98dbede65",
            "52ef56108da9478f97e9d85d288d9f12",
            "17b2a8ce68a84413a6d8b0e5ed9bb379",
            "e912bffa03b5459f86cdbc6f92308f9e",
            "12a8f3b922334c56b09c81a4dd2ae58d",
            "48aada0df45e402888910378588a56c2",
            "35a72e4df4024a2a9f85e56f54fd3db9",
            "1e4b03509b1b4924acfc9aa18d43adf9"
          ]
        },
        "id": "aAx7mqhtp1ei",
        "outputId": "d578e77c-27ce-460f-bee9-7556a895bd3a"
      },
      "source": [
        "from torch.utils.data import DataLoader\n",
        "\n",
        "root = '/content/drive/MyDrive/Project/DNN_PT'\n",
        "\n",
        "\n",
        "transform = transforms.Compose([transforms.ToTensor(), transforms.Normalize(mean=(0.5,), std=(0.5,))])\n",
        "\n",
        "train_data = dset.FashionMNIST(root=root, train=True, transform=transform, download=True)\n",
        "test_data = dset.FashionMNIST(root=root, train=False, transform=transform, download=True)\n",
        "\n",
        "train_loader = torch.utils.data.DataLoader(dataset=train_data, batch_size=batch_size,shuffle=True)\n",
        "test_loader = torch.utils.data.DataLoader(dataset=test_data, batch_size=batch_size, shuffle=False)\n"
      ],
      "execution_count": 6,
      "outputs": [
        {
          "output_type": "stream",
          "name": "stdout",
          "text": [
            "Downloading http://fashion-mnist.s3-website.eu-central-1.amazonaws.com/train-images-idx3-ubyte.gz\n",
            "Downloading http://fashion-mnist.s3-website.eu-central-1.amazonaws.com/train-images-idx3-ubyte.gz to /content/drive/MyDrive/Project/DNN_PT/FashionMNIST/raw/train-images-idx3-ubyte.gz\n"
          ]
        },
        {
          "output_type": "display_data",
          "data": {
            "application/vnd.jupyter.widget-view+json": {
              "model_id": "574b5358a1a44f6790f70a815b240f43",
              "version_minor": 0,
              "version_major": 2
            },
            "text/plain": [
              "  0%|          | 0/26421880 [00:00<?, ?it/s]"
            ]
          },
          "metadata": {}
        },
        {
          "output_type": "stream",
          "name": "stdout",
          "text": [
            "Extracting /content/drive/MyDrive/Project/DNN_PT/FashionMNIST/raw/train-images-idx3-ubyte.gz to /content/drive/MyDrive/Project/DNN_PT/FashionMNIST/raw\n",
            "\n",
            "Downloading http://fashion-mnist.s3-website.eu-central-1.amazonaws.com/train-labels-idx1-ubyte.gz\n",
            "Downloading http://fashion-mnist.s3-website.eu-central-1.amazonaws.com/train-labels-idx1-ubyte.gz to /content/drive/MyDrive/Project/DNN_PT/FashionMNIST/raw/train-labels-idx1-ubyte.gz\n"
          ]
        },
        {
          "output_type": "display_data",
          "data": {
            "application/vnd.jupyter.widget-view+json": {
              "model_id": "ea37743afd854fb4b9a11e34f2e988a9",
              "version_minor": 0,
              "version_major": 2
            },
            "text/plain": [
              "  0%|          | 0/29515 [00:00<?, ?it/s]"
            ]
          },
          "metadata": {}
        },
        {
          "output_type": "stream",
          "name": "stdout",
          "text": [
            "Extracting /content/drive/MyDrive/Project/DNN_PT/FashionMNIST/raw/train-labels-idx1-ubyte.gz to /content/drive/MyDrive/Project/DNN_PT/FashionMNIST/raw\n",
            "\n",
            "Downloading http://fashion-mnist.s3-website.eu-central-1.amazonaws.com/t10k-images-idx3-ubyte.gz\n",
            "Downloading http://fashion-mnist.s3-website.eu-central-1.amazonaws.com/t10k-images-idx3-ubyte.gz to /content/drive/MyDrive/Project/DNN_PT/FashionMNIST/raw/t10k-images-idx3-ubyte.gz\n"
          ]
        },
        {
          "output_type": "display_data",
          "data": {
            "application/vnd.jupyter.widget-view+json": {
              "model_id": "0144262ded544b6e8b2615396b68df9a",
              "version_minor": 0,
              "version_major": 2
            },
            "text/plain": [
              "  0%|          | 0/4422102 [00:00<?, ?it/s]"
            ]
          },
          "metadata": {}
        },
        {
          "output_type": "stream",
          "name": "stdout",
          "text": [
            "Extracting /content/drive/MyDrive/Project/DNN_PT/FashionMNIST/raw/t10k-images-idx3-ubyte.gz to /content/drive/MyDrive/Project/DNN_PT/FashionMNIST/raw\n",
            "\n",
            "Downloading http://fashion-mnist.s3-website.eu-central-1.amazonaws.com/t10k-labels-idx1-ubyte.gz\n",
            "Downloading http://fashion-mnist.s3-website.eu-central-1.amazonaws.com/t10k-labels-idx1-ubyte.gz to /content/drive/MyDrive/Project/DNN_PT/FashionMNIST/raw/t10k-labels-idx1-ubyte.gz\n"
          ]
        },
        {
          "output_type": "display_data",
          "data": {
            "application/vnd.jupyter.widget-view+json": {
              "model_id": "c81f1ac36838460eb20ad7eb563e4d9a",
              "version_minor": 0,
              "version_major": 2
            },
            "text/plain": [
              "  0%|          | 0/5148 [00:00<?, ?it/s]"
            ]
          },
          "metadata": {}
        },
        {
          "output_type": "stream",
          "name": "stdout",
          "text": [
            "Extracting /content/drive/MyDrive/Project/DNN_PT/FashionMNIST/raw/t10k-labels-idx1-ubyte.gz to /content/drive/MyDrive/Project/DNN_PT/FashionMNIST/raw\n",
            "\n"
          ]
        },
        {
          "output_type": "stream",
          "name": "stderr",
          "text": [
            "/usr/local/lib/python3.7/dist-packages/torchvision/datasets/mnist.py:498: UserWarning: The given NumPy array is not writeable, and PyTorch does not support non-writeable tensors. This means you can write to the underlying (supposedly non-writeable) NumPy array using the tensor. You may want to copy the array to protect its data or make it writeable before converting it to a tensor. This type of warning will be suppressed for the rest of this program. (Triggered internally at  /pytorch/torch/csrc/utils/tensor_numpy.cpp:180.)\n",
            "  return torch.from_numpy(parsed.astype(m[2], copy=False)).view(*s)\n"
          ]
        }
      ]
    },
    {
      "cell_type": "markdown",
      "metadata": {
        "id": "iT87J54fp1ej"
      },
      "source": [
        "## 4. 데이터 샘플 시각화\n",
        "\n"
      ]
    },
    {
      "cell_type": "code",
      "metadata": {
        "scrolled": true,
        "colab": {
          "base_uri": "https://localhost:8080/",
          "height": 482
        },
        "id": "35oRkfeAp1ej",
        "outputId": "b1cd6885-d08e-4c18-f8a5-6e9634e97abd"
      },
      "source": [
        "# 클래스의 이름과 인덱스를 딕셔너리로 저장\n",
        "labels_map = {0 : 'T-Shirt', 1 : 'Trouser', 2 : 'Pullover', 3 : 'Dress', 4 : 'Coat', 5 : 'Sandal', 6 : 'Shirt',\n",
        "              7 : 'Sneaker', 8 : 'Bag', 9 : 'Ankle Boot'}\n",
        "              \n",
        "columns = 5\n",
        "rows = 5\n",
        "fig = plt.figure(figsize=(8,8))\n",
        "\n",
        "for i in range(1, columns*rows+1):\n",
        "    data_idx = np.random.randint(len(train_data))\n",
        "    img = train_data[data_idx][0][0,:,:].numpy() # numpy()를 통해 torch Tensor를 numpy array로 변환\n",
        "    label = labels_map[train_data[data_idx][1]] # item()을 통해 torch Tensor를 숫자로 변환\n",
        "    \n",
        "    fig.add_subplot(rows, columns, i)\n",
        "    plt.title(label)\n",
        "    plt.imshow(img, cmap='gray')\n",
        "    plt.axis('off')\n",
        "plt.show()"
      ],
      "execution_count": 7,
      "outputs": [
        {
          "output_type": "display_data",
          "data": {
            "image/png": "[encoded data removed]",
            "text/plain": [
              "<Figure size 576x576 with 25 Axes>"
            ]
          },
          "metadata": {
            "needs_background": "light"
          }
        }
      ]
    },
    {
      "cell_type": "markdown",
      "metadata": {
        "id": "egPfym5Pp1ej"
      },
      "source": [
        "## 5. 네트워크 설계\n",
        "<img src=\"http://drive.google.com/uc?export=view&id=1KuQg548RFXMm1Kih46IXkKLO-q76lBdQ\" width=\"800px\" height=\"400px\" />\n",
        "\n",
        "\n",
        "\n",
        "\n"
      ]
    },
    {
      "cell_type": "code",
      "metadata": {
        "id": "40wSpc1qp1ek"
      },
      "source": [
        "class DNN(nn.Module):\n",
        "    def __init__(self, num_classes=10):\n",
        "        super(DNN, self).__init__()\n",
        "        self.layer1 = nn.Sequential(\n",
        "            nn.Linear(28*28,512),    # Linear_1 해당하는 층\n",
        "            nn.BatchNorm1d(512),    # BatchNorm_1 해당하는 층\n",
        "            nn.ReLU()     # ReLU_1 해당하는 층\n",
        "        )\n",
        "\n",
        "        self.layer2 =nn.Sequential(\n",
        "            nn.Linear(512,256),\n",
        "            nn.BatchNorm1d(256),\n",
        "            nn.ReLU()\n",
        "        )\n",
        "\n",
        "        self.layer3 = nn.Sequential(\n",
        "\n",
        "            nn.Linear(256,10)    # Linear_3 해당하는 층 \n",
        "        )\n",
        "    \n",
        "    def forward(self, x):\n",
        "        x = x.view(x.size(0), -1) # flatten\n",
        "        x_out = self.layer1(x)\n",
        "        x_out = self.layer2(x_out)\n",
        "        x_out = self.layer3(x_out)\n",
        "        return x_out"
      ],
      "execution_count": 33,
      "outputs": []
    },
    {
      "cell_type": "markdown",
      "metadata": {
        "id": "SHalo_Vzp1el"
      },
      "source": [
        "## 6. Weight initialization\n"
      ]
    },
    {
      "cell_type": "code",
      "metadata": {
        "id": "8VkB_ZSlp1el"
      },
      "source": [
        "def weights_init(m):\n",
        "    if isinstance(m, nn.Linear): # 모델의 모든 MLP 레이어에 대해서\n",
        "        nn.init.xavier_normal_(m.weight) # Weight를 xavier_normal로 초기화\n",
        "        print(m.weight)"
      ],
      "execution_count": 34,
      "outputs": []
    },
    {
      "cell_type": "markdown",
      "metadata": {
        "id": "GWSXHUzMp1em"
      },
      "source": [
        "## 7. 모델 생성\n",
        "\n",
        "[model.apply()](https://pytorch.org/docs/stable/nn.html?highlight=apply#torch.nn.Module.apply)을 통해 가중치 초기화를 적용할 수 있습니다. apply 함수의 인자로 **<6. Weight initialization>** 에서 정의한 `weights_init` 함수를 주면 됩니다."
      ]
    },
    {
      "cell_type": "code",
      "metadata": {
        "colab": {
          "base_uri": "https://localhost:8080/"
        },
        "id": "-uSdQPnwp1em",
        "outputId": "63a9447e-1b31-49dd-bf6b-2ded4370ad1d"
      },
      "source": [
        "torch.manual_seed(777) # 일관된 weight initialization을 위한 random seed 설정\n",
        "model = DNN().to(device)\n",
        "model.apply(weights_init) # 모델에 weight_init 함수를 적용하여 weight를 초기화"
      ],
      "execution_count": 35,
      "outputs": [
        {
          "output_type": "stream",
          "name": "stdout",
          "text": [
            "Parameter containing:\n",
            "tensor([[-0.0507,  0.0154, -0.0074,  ..., -0.0064, -0.0129,  0.0220],\n",
            "        [-0.0658, -0.0096,  0.0362,  ...,  0.0376,  0.0242, -0.0166],\n",
            "        [ 0.0096,  0.0582, -0.0821,  ...,  0.0047,  0.0395, -0.0147],\n",
            "        ...,\n",
            "        [-0.0314, -0.0140, -0.0258,  ...,  0.0033, -0.0451,  0.0408],\n",
            "        [ 0.0020,  0.0297, -0.0689,  ..., -0.0444, -0.0145,  0.0079],\n",
            "        [-0.0121,  0.0778,  0.0086,  ...,  0.0002,  0.0608,  0.0590]],\n",
            "       device='cuda:0', requires_grad=True)\n",
            "Parameter containing:\n",
            "tensor([[ 0.0228, -0.0566, -0.0998,  ...,  0.0131,  0.0035,  0.0295],\n",
            "        [-0.0053, -0.0027,  0.1046,  ..., -0.0805, -0.0348,  0.0048],\n",
            "        [ 0.0008, -0.0065, -0.0037,  ..., -0.0145, -0.0438,  0.0085],\n",
            "        ...,\n",
            "        [ 0.0391, -0.0937, -0.0416,  ...,  0.0830,  0.0436,  0.0210],\n",
            "        [-0.0278, -0.0063, -0.0160,  ...,  0.0841, -0.0332, -0.0588],\n",
            "        [-0.0572,  0.0324, -0.0749,  ...,  0.0208, -0.0046,  0.0061]],\n",
            "       device='cuda:0', requires_grad=True)\n",
            "Parameter containing:\n",
            "tensor([[ 4.9657e-02, -5.1859e-02,  5.1514e-02,  ...,  1.7043e-02,\n",
            "          2.7368e-02,  2.3268e-05],\n",
            "        [-2.3535e-02,  5.6206e-02, -8.5010e-02,  ..., -1.2210e-01,\n",
            "          7.5235e-02,  7.0611e-02],\n",
            "        [ 7.4259e-02,  1.3732e-01, -1.1504e-01,  ..., -5.0733e-02,\n",
            "         -6.8089e-03, -2.2659e-01],\n",
            "        ...,\n",
            "        [-1.2397e-01,  4.0725e-02,  4.4033e-02,  ...,  7.1038e-02,\n",
            "         -5.0968e-02,  1.2629e-01],\n",
            "        [-5.0798e-03, -9.3790e-03, -4.2272e-02,  ...,  1.5198e-01,\n",
            "         -4.4210e-02, -1.0034e-01],\n",
            "        [ 6.1073e-02,  8.6911e-02,  8.2468e-02,  ..., -8.4151e-02,\n",
            "         -1.0627e-01,  6.6377e-02]], device='cuda:0', requires_grad=True)\n"
          ]
        },
        {
          "output_type": "execute_result",
          "data": {
            "text/plain": [
              "DNN(\n",
              "  (layer1): Sequential(\n",
              "    (0): Linear(in_features=784, out_features=512, bias=True)\n",
              "    (1): BatchNorm1d(512, eps=1e-05, momentum=0.1, affine=True, track_running_stats=True)\n",
              "    (2): ReLU()\n",
              "  )\n",
              "  (layer2): Sequential(\n",
              "    (0): Linear(in_features=512, out_features=256, bias=True)\n",
              "    (1): BatchNorm1d(256, eps=1e-05, momentum=0.1, affine=True, track_running_stats=True)\n",
              "    (2): ReLU()\n",
              "  )\n",
              "  (layer3): Sequential(\n",
              "    (0): Linear(in_features=256, out_features=10, bias=True)\n",
              "  )\n",
              ")"
            ]
          },
          "metadata": {},
          "execution_count": 35
        }
      ]
    },
    {
      "cell_type": "markdown",
      "metadata": {
        "id": "ZUxlqsH8p1em"
      },
      "source": [
        "## 8. Loss function 및 Optimizer 정의"
      ]
    },
    {
      "cell_type": "code",
      "metadata": {
        "id": "ersSXSfDp1em"
      },
      "source": [
        "criterion = nn.CrossEntropyLoss() # softmax internally computed\n",
        "optimizer = optim.Adam(model.parameters(),lr=learning_rate)"
      ],
      "execution_count": 36,
      "outputs": []
    },
    {
      "cell_type": "markdown",
      "metadata": {
        "id": "SwWvMvmWp1en"
      },
      "source": [
        "## 9. Training"
      ]
    },
    {
      "cell_type": "code",
      "metadata": {
        "colab": {
          "base_uri": "https://localhost:8080/"
        },
        "id": "pB3q4Lktp1eo",
        "outputId": "9fb1e2c0-6784-429e-aed7-5955f59269fa"
      },
      "source": [
        "for epoch in range(num_epochs):\n",
        "\n",
        "    for i, (imgs, labels) in enumerate(train_loader):\n",
        "\n",
        "        imgs, labels = imgs.to(device), labels.to(device)\n",
        "        outputs = model(imgs)  \n",
        "        loss = criterion(outputs, labels)     \n",
        "        \n",
        "        optimizer.zero_grad()            # Clear gradients\n",
        "        loss.backward()            # Gradients 기울기 계산\n",
        "        optimizer.step()            # Parameters 업데이트\n",
        "        \n",
        "        _, argmax = torch.max(outputs, 1)\n",
        "        accuracy = (labels == argmax).float().mean()\n",
        "        \n",
        "        if (i+1) % 100 == 0:\n",
        "            print('Epoch [{}/{}], Step [{}/{}], Loss: {:.4f}, Accuracy: {:.2f}%'.format(\n",
        "                epoch+1, num_epochs, i+1, len(train_loader), loss.item(), accuracy.item() * 100))"
      ],
      "execution_count": 37,
      "outputs": [
        {
          "output_type": "stream",
          "name": "stdout",
          "text": [
            "Epoch [1/20], Step [100/600], Loss: 0.4717, Accuracy: 79.00%\n",
            "Epoch [1/20], Step [200/600], Loss: 0.5032, Accuracy: 82.00%\n",
            "Epoch [1/20], Step [300/600], Loss: 0.3777, Accuracy: 83.00%\n",
            "Epoch [1/20], Step [400/600], Loss: 0.4622, Accuracy: 85.00%\n",
            "Epoch [1/20], Step [500/600], Loss: 0.3481, Accuracy: 90.00%\n",
            "Epoch [1/20], Step [600/600], Loss: 0.3316, Accuracy: 88.00%\n",
            "Epoch [2/20], Step [100/600], Loss: 0.3082, Accuracy: 87.00%\n",
            "Epoch [2/20], Step [200/600], Loss: 0.2934, Accuracy: 88.00%\n",
            "Epoch [2/20], Step [300/600], Loss: 0.4339, Accuracy: 84.00%\n",
            "Epoch [2/20], Step [400/600], Loss: 0.3849, Accuracy: 85.00%\n",
            "Epoch [2/20], Step [500/600], Loss: 0.3778, Accuracy: 83.00%\n",
            "Epoch [2/20], Step [600/600], Loss: 0.3754, Accuracy: 85.00%\n",
            "Epoch [3/20], Step [100/600], Loss: 0.1686, Accuracy: 95.00%\n",
            "Epoch [3/20], Step [200/600], Loss: 0.2814, Accuracy: 92.00%\n",
            "Epoch [3/20], Step [300/600], Loss: 0.2689, Accuracy: 90.00%\n",
            "Epoch [3/20], Step [400/600], Loss: 0.3121, Accuracy: 89.00%\n",
            "Epoch [3/20], Step [500/600], Loss: 0.1924, Accuracy: 91.00%\n",
            "Epoch [3/20], Step [600/600], Loss: 0.2140, Accuracy: 89.00%\n",
            "Epoch [4/20], Step [100/600], Loss: 0.1902, Accuracy: 92.00%\n",
            "Epoch [4/20], Step [200/600], Loss: 0.2298, Accuracy: 91.00%\n",
            "Epoch [4/20], Step [300/600], Loss: 0.2687, Accuracy: 91.00%\n",
            "Epoch [4/20], Step [400/600], Loss: 0.1260, Accuracy: 96.00%\n",
            "Epoch [4/20], Step [500/600], Loss: 0.2132, Accuracy: 88.00%\n",
            "Epoch [4/20], Step [600/600], Loss: 0.2245, Accuracy: 93.00%\n",
            "Epoch [5/20], Step [100/600], Loss: 0.1950, Accuracy: 94.00%\n",
            "Epoch [5/20], Step [200/600], Loss: 0.1388, Accuracy: 95.00%\n",
            "Epoch [5/20], Step [300/600], Loss: 0.1295, Accuracy: 97.00%\n",
            "Epoch [5/20], Step [400/600], Loss: 0.1667, Accuracy: 95.00%\n",
            "Epoch [5/20], Step [500/600], Loss: 0.2603, Accuracy: 90.00%\n",
            "Epoch [5/20], Step [600/600], Loss: 0.3291, Accuracy: 85.00%\n",
            "Epoch [6/20], Step [100/600], Loss: 0.1994, Accuracy: 92.00%\n",
            "Epoch [6/20], Step [200/600], Loss: 0.2114, Accuracy: 91.00%\n",
            "Epoch [6/20], Step [300/600], Loss: 0.3032, Accuracy: 89.00%\n",
            "Epoch [6/20], Step [400/600], Loss: 0.1764, Accuracy: 95.00%\n",
            "Epoch [6/20], Step [500/600], Loss: 0.2308, Accuracy: 93.00%\n",
            "Epoch [6/20], Step [600/600], Loss: 0.1300, Accuracy: 93.00%\n",
            "Epoch [7/20], Step [100/600], Loss: 0.2117, Accuracy: 89.00%\n",
            "Epoch [7/20], Step [200/600], Loss: 0.2146, Accuracy: 90.00%\n",
            "Epoch [7/20], Step [300/600], Loss: 0.2261, Accuracy: 91.00%\n",
            "Epoch [7/20], Step [400/600], Loss: 0.2473, Accuracy: 91.00%\n",
            "Epoch [7/20], Step [500/600], Loss: 0.2676, Accuracy: 90.00%\n",
            "Epoch [7/20], Step [600/600], Loss: 0.1737, Accuracy: 92.00%\n",
            "Epoch [8/20], Step [100/600], Loss: 0.2088, Accuracy: 96.00%\n",
            "Epoch [8/20], Step [200/600], Loss: 0.2074, Accuracy: 92.00%\n",
            "Epoch [8/20], Step [300/600], Loss: 0.1511, Accuracy: 93.00%\n",
            "Epoch [8/20], Step [400/600], Loss: 0.1499, Accuracy: 93.00%\n",
            "Epoch [8/20], Step [500/600], Loss: 0.2831, Accuracy: 88.00%\n",
            "Epoch [8/20], Step [600/600], Loss: 0.1525, Accuracy: 96.00%\n",
            "Epoch [9/20], Step [100/600], Loss: 0.1273, Accuracy: 96.00%\n",
            "Epoch [9/20], Step [200/600], Loss: 0.1446, Accuracy: 93.00%\n",
            "Epoch [9/20], Step [300/600], Loss: 0.2386, Accuracy: 93.00%\n",
            "Epoch [9/20], Step [400/600], Loss: 0.1486, Accuracy: 95.00%\n",
            "Epoch [9/20], Step [500/600], Loss: 0.1128, Accuracy: 96.00%\n",
            "Epoch [9/20], Step [600/600], Loss: 0.2156, Accuracy: 90.00%\n",
            "Epoch [10/20], Step [100/600], Loss: 0.1707, Accuracy: 96.00%\n",
            "Epoch [10/20], Step [200/600], Loss: 0.1478, Accuracy: 95.00%\n",
            "Epoch [10/20], Step [300/600], Loss: 0.2106, Accuracy: 89.00%\n",
            "Epoch [10/20], Step [400/600], Loss: 0.1172, Accuracy: 94.00%\n",
            "Epoch [10/20], Step [500/600], Loss: 0.1717, Accuracy: 92.00%\n",
            "Epoch [10/20], Step [600/600], Loss: 0.2021, Accuracy: 91.00%\n",
            "Epoch [11/20], Step [100/600], Loss: 0.1892, Accuracy: 93.00%\n",
            "Epoch [11/20], Step [200/600], Loss: 0.1418, Accuracy: 95.00%\n",
            "Epoch [11/20], Step [300/600], Loss: 0.1797, Accuracy: 95.00%\n",
            "Epoch [11/20], Step [400/600], Loss: 0.1145, Accuracy: 97.00%\n",
            "Epoch [11/20], Step [500/600], Loss: 0.0915, Accuracy: 96.00%\n",
            "Epoch [11/20], Step [600/600], Loss: 0.1398, Accuracy: 93.00%\n",
            "Epoch [12/20], Step [100/600], Loss: 0.1966, Accuracy: 91.00%\n",
            "Epoch [12/20], Step [200/600], Loss: 0.1207, Accuracy: 95.00%\n",
            "Epoch [12/20], Step [300/600], Loss: 0.1323, Accuracy: 95.00%\n",
            "Epoch [12/20], Step [400/600], Loss: 0.1108, Accuracy: 95.00%\n",
            "Epoch [12/20], Step [500/600], Loss: 0.1393, Accuracy: 95.00%\n",
            "Epoch [12/20], Step [600/600], Loss: 0.1029, Accuracy: 96.00%\n",
            "Epoch [13/20], Step [100/600], Loss: 0.0810, Accuracy: 99.00%\n",
            "Epoch [13/20], Step [200/600], Loss: 0.1014, Accuracy: 95.00%\n",
            "Epoch [13/20], Step [300/600], Loss: 0.1309, Accuracy: 95.00%\n",
            "Epoch [13/20], Step [400/600], Loss: 0.1434, Accuracy: 94.00%\n",
            "Epoch [13/20], Step [500/600], Loss: 0.2320, Accuracy: 94.00%\n",
            "Epoch [13/20], Step [600/600], Loss: 0.1160, Accuracy: 96.00%\n",
            "Epoch [14/20], Step [100/600], Loss: 0.1229, Accuracy: 95.00%\n",
            "Epoch [14/20], Step [200/600], Loss: 0.1805, Accuracy: 93.00%\n",
            "Epoch [14/20], Step [300/600], Loss: 0.1519, Accuracy: 94.00%\n",
            "Epoch [14/20], Step [400/600], Loss: 0.0994, Accuracy: 96.00%\n",
            "Epoch [14/20], Step [500/600], Loss: 0.1945, Accuracy: 96.00%\n",
            "Epoch [14/20], Step [600/600], Loss: 0.0718, Accuracy: 97.00%\n",
            "Epoch [15/20], Step [100/600], Loss: 0.0577, Accuracy: 97.00%\n",
            "Epoch [15/20], Step [200/600], Loss: 0.2087, Accuracy: 94.00%\n",
            "Epoch [15/20], Step [300/600], Loss: 0.1022, Accuracy: 97.00%\n",
            "Epoch [15/20], Step [400/600], Loss: 0.1096, Accuracy: 97.00%\n",
            "Epoch [15/20], Step [500/600], Loss: 0.0597, Accuracy: 99.00%\n",
            "Epoch [15/20], Step [600/600], Loss: 0.0595, Accuracy: 98.00%\n",
            "Epoch [16/20], Step [100/600], Loss: 0.1111, Accuracy: 96.00%\n",
            "Epoch [16/20], Step [200/600], Loss: 0.1270, Accuracy: 94.00%\n",
            "Epoch [16/20], Step [300/600], Loss: 0.0593, Accuracy: 98.00%\n",
            "Epoch [16/20], Step [400/600], Loss: 0.1071, Accuracy: 94.00%\n",
            "Epoch [16/20], Step [500/600], Loss: 0.1346, Accuracy: 94.00%\n",
            "Epoch [16/20], Step [600/600], Loss: 0.0701, Accuracy: 98.00%\n",
            "Epoch [17/20], Step [100/600], Loss: 0.0761, Accuracy: 97.00%\n",
            "Epoch [17/20], Step [200/600], Loss: 0.0941, Accuracy: 96.00%\n",
            "Epoch [17/20], Step [300/600], Loss: 0.0490, Accuracy: 99.00%\n",
            "Epoch [17/20], Step [400/600], Loss: 0.2467, Accuracy: 94.00%\n",
            "Epoch [17/20], Step [500/600], Loss: 0.1116, Accuracy: 96.00%\n",
            "Epoch [17/20], Step [600/600], Loss: 0.0794, Accuracy: 97.00%\n",
            "Epoch [18/20], Step [100/600], Loss: 0.0984, Accuracy: 97.00%\n",
            "Epoch [18/20], Step [200/600], Loss: 0.0430, Accuracy: 99.00%\n",
            "Epoch [18/20], Step [300/600], Loss: 0.1155, Accuracy: 95.00%\n",
            "Epoch [18/20], Step [400/600], Loss: 0.1090, Accuracy: 96.00%\n",
            "Epoch [18/20], Step [500/600], Loss: 0.1171, Accuracy: 94.00%\n",
            "Epoch [18/20], Step [600/600], Loss: 0.0613, Accuracy: 98.00%\n",
            "Epoch [19/20], Step [100/600], Loss: 0.0981, Accuracy: 96.00%\n",
            "Epoch [19/20], Step [200/600], Loss: 0.0826, Accuracy: 97.00%\n",
            "Epoch [19/20], Step [300/600], Loss: 0.0774, Accuracy: 98.00%\n",
            "Epoch [19/20], Step [400/600], Loss: 0.0757, Accuracy: 97.00%\n",
            "Epoch [19/20], Step [500/600], Loss: 0.0682, Accuracy: 97.00%\n",
            "Epoch [19/20], Step [600/600], Loss: 0.1239, Accuracy: 94.00%\n",
            "Epoch [20/20], Step [100/600], Loss: 0.1096, Accuracy: 96.00%\n",
            "Epoch [20/20], Step [200/600], Loss: 0.0797, Accuracy: 97.00%\n",
            "Epoch [20/20], Step [300/600], Loss: 0.0490, Accuracy: 98.00%\n",
            "Epoch [20/20], Step [400/600], Loss: 0.1417, Accuracy: 95.00%\n",
            "Epoch [20/20], Step [500/600], Loss: 0.0783, Accuracy: 97.00%\n",
            "Epoch [20/20], Step [600/600], Loss: 0.0641, Accuracy: 97.00%\n"
          ]
        }
      ]
    },
    {
      "cell_type": "code",
      "metadata": {
        "colab": {
          "base_uri": "https://localhost:8080/"
        },
        "id": "h5I_STw4p1ep",
        "outputId": "fc27c590-106a-46b3-af95-7391750b5219"
      },
      "source": [
        "model.eval() # Batch Normalization 할 때 사용\n",
        "\n",
        "with torch.no_grad():\n",
        "    correct = 0\n",
        "    total = 0\n",
        "\n",
        "    for i, (imgs, labels) in enumerate(test_loader):\n",
        "\n",
        "        imgs, labels = imgs.to(device), labels.to(device)\n",
        "        outputs = model(imgs)\n",
        "        _, argmax = torch.max(outputs, 1) # max()를 통해 최종 출력이 가장 높은 class 선택\n",
        "        total += imgs.size(0) # batch_size : 100\n",
        "        correct += (labels == argmax).sum().item() # batch_size 중 맞는 것 계속 +=\n",
        "    \n",
        "    print('Test accuracy for {} images: {:.2f}%'.format(total, correct / total * 100))"
      ],
      "execution_count": 38,
      "outputs": [
        {
          "output_type": "stream",
          "name": "stdout",
          "text": [
            "Test accuracy for 10000 images: 89.63%\n"
          ]
        }
      ]
    },
    {
      "cell_type": "code",
      "metadata": {
        "colab": {
          "base_uri": "https://localhost:8080/",
          "height": 482
        },
        "id": "_zaMDl6gp1er",
        "outputId": "ebe377d2-a476-450e-d2ae-42ab927cf769"
      },
      "source": [
        "columns = 5\n",
        "rows = 5\n",
        "fig = plt.figure(figsize=(8,8))\n",
        "\n",
        "model.eval()\n",
        "\n",
        "for i in range(1, columns*rows+1):\n",
        "    \n",
        "    data_idx = np.random.randint(len(test_data))\n",
        "    input_img = test_data[data_idx][0].unsqueeze(dim=0).to(device) \n",
        "    '''\n",
        "    unsqueeze()를 통해 입력 이미지의 shape을 (1, 28, 28)에서 (1, 1, 28, 28)로 변환. \n",
        "    모델에 들어가는 입력 이미지의 shape은 (batch_size, channel, width, height) 되어야 함에 주의!\n",
        "    '''\n",
        "    output = model(input_img)\n",
        "    _, argmax = torch.max(output, 1)\n",
        "    pred = labels_map[argmax.item()]\n",
        "    label = labels_map[test_data[data_idx][1]]\n",
        "    \n",
        "    fig.add_subplot(rows, columns, i)\n",
        "    if pred == label:\n",
        "        plt.title(pred + '(O)')\n",
        "    else:\n",
        "        plt.title(pred + '(X)' + ' / ' + label)\n",
        "    plot_img = test_data[data_idx][0][0,:,:]\n",
        "    plt.imshow(plot_img, cmap='gray')\n",
        "    plt.axis('off')\n",
        "model.train()\n",
        "plt.show()"
      ],
      "execution_count": 39,
      "outputs": [
        {
          "output_type": "display_data",
          "data": {
            "image/png": "[encoded data removed]",
            "text/plain": [
              "<Figure size 576x576 with 25 Axes>"
            ]
          },
          "metadata": {
            "needs_background": "light"
          }
        }
      ]
    },
    {
      "cell_type": "markdown",
      "metadata": {
        "id": "ZA1KACmQp1et"
      },
      "source": [
        "---"
      ]
    }
  ]
} 
