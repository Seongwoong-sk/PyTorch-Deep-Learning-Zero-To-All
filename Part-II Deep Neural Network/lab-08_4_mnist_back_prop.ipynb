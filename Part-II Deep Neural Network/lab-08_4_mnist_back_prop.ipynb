version https://git-lfs.github.com/spec/v1
oid sha256:feb6f992f2a761ff131e59bd7688029bb33fffaad5816885ec76aa0e24dd2c08
size 5212
