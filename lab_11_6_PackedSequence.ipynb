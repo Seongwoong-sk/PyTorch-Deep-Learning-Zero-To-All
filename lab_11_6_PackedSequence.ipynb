{
  "nbformat": 4,
  "nbformat_minor": 0,
  "metadata": {
    "kernelspec": {
      "display_name": "Python 3",
      "language": "python",
      "name": "python3"
    },
    "language_info": {
      "codemirror_mode": {
        "name": "ipython",
        "version": 3
      },
      "file_extension": ".py",
      "mimetype": "text/x-python",
      "name": "python",
      "nbconvert_exporter": "python",
      "pygments_lexer": "ipython3",
      "version": "3.6.5"
    },
    "colab": {
      "name": "lab-11_6_PackedSequence.ipynb",
      "provenance": [],
      "collapsed_sections": [],
      "include_colab_link": true
    }
  },
  "cells": [
    {
      "cell_type": "markdown",
      "metadata": {
        "id": "view-in-github",
        "colab_type": "text"
      },
      "source": [
        "<a href=\"https://colab.research.google.com/github/Seongwoong-sk/PyTorch-Deep-Learning-Zero-To-All/blob/main/lab_11_6_PackedSequence.ipynb\" target=\"_parent\"><img src=\"https://colab.research.google.com/assets/colab-badge.svg\" alt=\"Open In Colab\"/></a>"
      ]
    },
    {
      "cell_type": "markdown",
      "metadata": {
        "id": "KqX7rL9PfB6S"
      },
      "source": [
        "# Padding & Packing\n",
        "## <font color='green'>Padding Method</font>\n",
        "가장 긴 seq의 길이를 맞춰 나머지 data의 뒷부분을 pad라는 token을 써서 채워 넣는 방식\n",
        "- 이렇게 되면 데이터가 깔끔하게 batch_size X 가장 긴 seq의 길이가 되어서 하나의 Tensor로 표현되기 때문에 컴퓨터에서 처리하게 편리한 장점이 있음\n",
        "- 뒷 부분이 pad로 채워져 있기 때문에 계산하지 않아도 될 뒷 부분을 계산한다는 단점도 있음\n",
        "\n",
        "## <font color='green'>Packing Method</font>\n",
        "token을 쓰지 않고 seq 길이에 대한 정보를 저장하고 있는 방식으로 진행됨\n",
        "- pytorch에서 정상적으로 작동하기 위해서는 이 batch data는 길이 내림 차순으로 정렬이 되어야 함\n",
        "- seq에 대한 정보와 실제 data Tensor를 같이 가지고 있는 자료구조를 `pack_sequence`라고 함"
      ]
    },
    {
      "cell_type": "markdown",
      "metadata": {
        "id": "AM0IBVnLeZBC"
      },
      "source": [
        "# PackedSequence 와 PaddedSequence\n",
        "\n",
        "[링크: PackedSequence에 대한 PyTorch 공식 문서](https://pytorch.org/docs/stable/nn.html#packedsequence)\n",
        "\n",
        "이 튜토리얼에서는 RNN / LSTM 계열의 모델에서 sequence batch를 잘 활용할 수 있는 `PackedSequence` 와 `PaddedSequence`를 만드는 법을 배워보겠습니다.\n",
        "\n",
        "PyTorch 라이브러리 안에는 다음 4가지 함수들이 주어집니다.\n",
        "\n",
        "`pad_sequence`, `pack_sequence`, `pack_padded_sequence`, `pad_packed_sequence`\n",
        "\n",
        "하지만 함수 이름만 봐서는 상당히 헷갈릴 수 있기 때문에 다음 그림을 참고하시면 이해하기 편하실 것 같습니다."
      ]
    },
    {
      "cell_type": "markdown",
      "metadata": {
        "id": "egNvzM-VgqPE"
      },
      "source": [
        "<img src=\"https://drive.google.com/uc?export=view&id=1Yga5wTH7J4lZGsqUqMJMhdWfsKkqzCYy\" width=\"800px\" height=\"400px\" />\n"
      ]
    },
    {
      "cell_type": "code",
      "metadata": {
        "id": "xddDfGcBeZBL"
      },
      "source": [
        "import torch\n",
        "import numpy as np\n",
        "from torch.nn.utils.rnn import pad_sequence, pack_sequence, pack_padded_sequence, pad_packed_sequence"
      ],
      "execution_count": null,
      "outputs": []
    },
    {
      "cell_type": "markdown",
      "metadata": {
        "id": "OGNfyESleZBO"
      },
      "source": [
        "## 예제 데이터\n",
        "\n",
        "실습을 위해 간단한 예제 데이터를 만들었습니다.\n",
        "여기서 잘 기억하셔야할 점은 batch size가 5이고, sequence 중 가장 긴 길이는 13라는 것 입니다."
      ]
    },
    {
      "cell_type": "code",
      "metadata": {
        "scrolled": true,
        "colab": {
          "base_uri": "https://localhost:8080/"
        },
        "id": "SMWHb33eeZBP",
        "outputId": "959e0dc5-ebc8-45b9-e79f-31c823013363"
      },
      "source": [
        "# Random word from random word generator\n",
        "data = ['hello world',\n",
        "        'midnight',\n",
        "        'calculation',\n",
        "        'path',\n",
        "        'short circuit']\n",
        "\n",
        "# Make dictionary\n",
        "char_set = ['<pad>'] + list(set(char for seq in data for char in seq)) # Get all characters and include pad token\n",
        "char2idx = {char: idx for idx, char in enumerate(char_set)} # Constuct character to index dictionary\n",
        "print('char_set:', char_set)\n",
        "print('char_set length:', len(char_set))"
      ],
      "execution_count": null,
      "outputs": [
        {
          "output_type": "stream",
          "name": "stdout",
          "text": [
            "char_set: ['<pad>', 'i', 'r', 'm', 'p', 'o', ' ', 'c', 's', 'l', 'n', 'g', 't', 'u', 'a', 'w', 'h', 'e', 'd']\n",
            "char_set length: 19\n"
          ]
        }
      ]
    },
    {
      "cell_type": "code",
      "metadata": {
        "colab": {
          "base_uri": "https://localhost:8080/"
        },
        "id": "v6oMoJxKeZBS",
        "outputId": "ff988245-7422-4d22-fee2-4219eb90fc31"
      },
      "source": [
        "# Convert character to index and make list of tensors\n",
        "X = [torch.LongTensor([char2idx[char] for char in seq]) for seq in data]\n",
        "\n",
        "# Check converted result\n",
        "for sequence in X:\n",
        "    print(sequence)"
      ],
      "execution_count": null,
      "outputs": [
        {
          "output_type": "stream",
          "name": "stdout",
          "text": [
            "tensor([16, 17,  9,  9,  5,  6, 15,  5,  2,  9, 18])\n",
            "tensor([ 3,  1, 18, 10,  1, 11, 16, 12])\n",
            "tensor([ 7, 14,  9,  7, 13,  9, 14, 12,  1,  5, 10])\n",
            "tensor([ 4, 14, 12, 16])\n",
            "tensor([ 8, 16,  5,  2, 12,  6,  7,  1,  2,  7, 13,  1, 12])\n"
          ]
        }
      ]
    },
    {
      "cell_type": "markdown",
      "metadata": {
        "id": "wRMMe3hneZBT"
      },
      "source": [
        "다음과 같이 sequence의 길이가 제각각인 것을 확인하실 수 있습니다."
      ]
    },
    {
      "cell_type": "code",
      "metadata": {
        "colab": {
          "base_uri": "https://localhost:8080/"
        },
        "id": "KVFXcptDeZBV",
        "outputId": "c3c8e6a8-fba7-4ab1-8e38-1a33b4322681"
      },
      "source": [
        "# Make length tensor (will be used later in 'pack_padded_sequence' function)\n",
        "\n",
        "lengths = [len(seq) for seq in X]\n",
        "print('lengths:', lengths)"
      ],
      "execution_count": null,
      "outputs": [
        {
          "output_type": "stream",
          "name": "stdout",
          "text": [
            "lengths: [11, 8, 11, 4, 13]\n"
          ]
        }
      ]
    },
    {
      "cell_type": "markdown",
      "metadata": {
        "id": "wbdM8HIGeZBW"
      },
      "source": [
        "# Sequence 데이터의 경우 어떻게 batch로 묶을까요?\n",
        "위와같이 Text 나 audio 처럼 sequence 형식인 데이터의 경우 길이가 각각 다 다르기 때문에 \n",
        "\n",
        "하나의 batch로 만들어주기 위해서 일반적으로 제일 긴 sequence 길이에 맞춰 뒷부분에 padding을 추가해줍니다.\n",
        "\n",
        "이 방식이 일반적으로 많이 쓰이는 Padding 방식입니다.\n",
        "\n",
        "하지만 PyTorch에서는 `PackedSequence`라는 것을 쓰면 padding 없이도 정확히 필요한 부분까지만 병렬 계산을 할 수 있습니다."
      ]
    },
    {
      "cell_type": "markdown",
      "metadata": {
        "id": "YQUEU9zleZBX"
      },
      "source": [
        "# `pad_sequence` 함수를 이용하여 PaddedSequence (그냥 Tensor) 만들기\n",
        "\n",
        "사실, PaddedSequence는 sequence중에서 가장 긴 sequence와 길이를 맞추어주기 위해 padding을 추가한 일반적인 **Tensor**를 말합니다.\n",
        "\n",
        "(따로 PaddedSequence라는 class는 존재하지 않습니다.)\n",
        "\n",
        "이때, `pad_sequence`라는 PyTorch 기본 라이브러리 함수를 이용하면 쉽게 padding을 추가할 수 있습니다.\n",
        "\n",
        "여기서 주의하실 점은 input이 **Tensor들의 list** 로 주어져야합니다. (그냥 **Tensor** 가 아닌 **Tensor들의 list** 입니다.)\n",
        "\n",
        "list 안에 있는 각각의 Tensor들의 shape가 `(?, a, b, ...)` 라고 할때, (여기서 ?는 각각 다른 sequence length 입니다.)\n",
        "\n",
        "`pad_sequence` 함수를 쓰면 `(T, batch_size, a, b, ...)` shape를 가지는 Tensor가 리턴됩니다. \n",
        "(여기서 `T`는 batch안에서 가장 큰 sequence length 입니다.)\n",
        "\n",
        "만약, `pad_sequence`에 명시적으로 `batch_first=True`라는 파라미터를 지정해주면, \n",
        "\n",
        "`(batch_size, T, a, b, ...)` shape를 가지는 Tensor가 리턴됩니다. \n",
        "\n",
        "기본적으로 padding 값은 0으로 되어있지만, `padding_value=42`와 같이 파라미터를 지정해주면, padding하는 값도 정할 수 있습니다."
      ]
    },
    {
      "cell_type": "code",
      "metadata": {
        "colab": {
          "base_uri": "https://localhost:8080/"
        },
        "id": "nEL6oN6DeZBY",
        "outputId": "8535312c-435d-429b-90e6-c1c5af903ef3"
      },
      "source": [
        "# Make a Tensor of shape (Batch x Maximum_Sequence_Length)\n",
        "\n",
        "padded_sequence = pad_sequence(X, batch_first=True) # X is now padded sequence\n",
        "print(padded_sequence)\n",
        "print(padded_sequence.shape)"
      ],
      "execution_count": null,
      "outputs": [
        {
          "output_type": "stream",
          "name": "stdout",
          "text": [
            "tensor([[16, 17,  9,  9,  5,  6, 15,  5,  2,  9, 18,  0,  0],\n",
            "        [ 3,  1, 18, 10,  1, 11, 16, 12,  0,  0,  0,  0,  0],\n",
            "        [ 7, 14,  9,  7, 13,  9, 14, 12,  1,  5, 10,  0,  0],\n",
            "        [ 4, 14, 12, 16,  0,  0,  0,  0,  0,  0,  0,  0,  0],\n",
            "        [ 8, 16,  5,  2, 12,  6,  7,  1,  2,  7, 13,  1, 12]])\n",
            "torch.Size([5, 13])\n"
          ]
        }
      ]
    },
    {
      "cell_type": "markdown",
      "metadata": {
        "id": "dohzUJbGeZBZ"
      },
      "source": [
        "# `pack_sequence` 함수를 이용하여 PackedSequence 만들기\n",
        "\n",
        "PackedSequence는 위와같이 padding token을 추가하여 sequence의 최대 길이에 맞는 Tensor를 만드는게 아닌,\n",
        "\n",
        "padding을 추가하지 않고 정확히 주어진 sequence 길이까지만 모델이 연산을 하게끔 만드는 PyTorch의 자료구조입니다.\n",
        "\n",
        "이 PackedSequence를 만들기 위해서는 한가지 조건이 필요합니다.\n",
        "- **주어지는 input (list of Tensor)는 길이에 따른 내림차순으로 정렬이 되어있어야 합니다.**\n",
        "\n",
        "따라서 먼저 input을 길이에 따른 내림차순으로 정렬해봅시다."
      ]
    },
    {
      "cell_type": "code",
      "metadata": {
        "colab": {
          "base_uri": "https://localhost:8080/"
        },
        "id": "KX50V4WOeZBa",
        "outputId": "ed5fd6e9-2702-4b69-e753-8276fdf65289"
      },
      "source": [
        "# Sort by descending lengths\n",
        "sorted_idx = sorted(range(len(lengths)), key=lengths.__getitem__, reverse=True)\n",
        "sorted_X = [X[idx] for idx in sorted_idx]\n",
        "\n",
        "# Check converted result\n",
        "for sequence in sorted_X:\n",
        "    print(sequence)"
      ],
      "execution_count": null,
      "outputs": [
        {
          "output_type": "stream",
          "name": "stdout",
          "text": [
            "tensor([ 8, 16,  5,  2, 12,  6,  7,  1,  2,  7, 13,  1, 12])\n",
            "tensor([16, 17,  9,  9,  5,  6, 15,  5,  2,  9, 18])\n",
            "tensor([ 7, 14,  9,  7, 13,  9, 14, 12,  1,  5, 10])\n",
            "tensor([ 3,  1, 18, 10,  1, 11, 16, 12])\n",
            "tensor([ 4, 14, 12, 16])\n"
          ]
        }
      ]
    },
    {
      "cell_type": "markdown",
      "metadata": {
        "id": "BOF2NmmceZBc"
      },
      "source": [
        "자, 이제 input Tensor가 정렬되었으니 `pack_sequence`를 이용하여 PackedSequence를 만들어보겠습니다."
      ]
    },
    {
      "cell_type": "code",
      "metadata": {
        "colab": {
          "base_uri": "https://localhost:8080/"
        },
        "id": "AuAiKp1teZBc",
        "outputId": "108445c6-ea4a-4357-b21d-e87dbd78b234"
      },
      "source": [
        "packed_sequence = pack_sequence(sorted_X)\n",
        "print(packed_sequence)"
      ],
      "execution_count": null,
      "outputs": [
        {
          "output_type": "stream",
          "name": "stdout",
          "text": [
            "PackedSequence(data=tensor([ 8, 16,  7,  3,  4, 16, 17, 14,  1, 14,  5,  9,  9, 18, 12,  2,  9,  7,\n",
            "        10, 16, 12,  5, 13,  1,  6,  6,  9, 11,  7, 15, 14, 16,  1,  5, 12, 12,\n",
            "         2,  2,  1,  7,  9,  5, 13, 18, 10,  1, 12]), batch_sizes=tensor([5, 5, 5, 5, 4, 4, 4, 4, 3, 3, 3, 1, 1]), sorted_indices=None, unsorted_indices=None)\n"
          ]
        }
      ]
    },
    {
      "cell_type": "markdown",
      "metadata": {
        "id": "qYH7k1wOeZBd"
      },
      "source": [
        "# Embedding 적용해보기\n",
        "자 이제, `PackedSequence`와 padding이 된 Tensor인 `PaddedSequence`를 만들어보았으니, RNN에 input으로 넣어서 테스트해보려고 합니다.\n",
        "\n",
        "그 전에, 위에 예제들에서는 input이 character의 index들을 가지고 있는 데이터였지만, 보통은 주로 이를 embedding한 값을 RNN의 input으로 넣어줍니다.\n",
        "\n",
        "이 튜토리얼에서는 one-hot character embedding을 해보도록 하겠습니다."
      ]
    },
    {
      "cell_type": "code",
      "metadata": {
        "colab": {
          "base_uri": "https://localhost:8080/"
        },
        "id": "vFXcwUzbeZBe",
        "outputId": "f8cdb6f1-9efc-4740-d6b6-1658752db6bf"
      },
      "source": [
        "# one-hot embedding using PaddedSequence\n",
        "\n",
        "eye = torch.eye(len(char_set)) # Identity matrix of shape (len(char_set), len(char_set))\n",
        "embedded_tensor = eye[padded_sequence]\n",
        "print(embedded_tensor.shape) # shape: (Batch_size, max_sequence_length, number_of_input_tokens)"
      ],
      "execution_count": null,
      "outputs": [
        {
          "output_type": "stream",
          "name": "stdout",
          "text": [
            "torch.Size([5, 13, 19])\n"
          ]
        }
      ]
    },
    {
      "cell_type": "code",
      "metadata": {
        "colab": {
          "base_uri": "https://localhost:8080/"
        },
        "id": "ny2lX9qXeZBe",
        "outputId": "251b9a7a-6ec6-4501-dd76-437dd1fbeb5e"
      },
      "source": [
        "# one-hot embedding using PackedSequence\n",
        "\n",
        "embedded_packed_seq = pack_sequence([eye[X[idx]] for idx in sorted_idx])\n",
        "print(embedded_packed_seq.data.shape)"
      ],
      "execution_count": null,
      "outputs": [
        {
          "output_type": "stream",
          "name": "stdout",
          "text": [
            "torch.Size([47, 19])\n"
          ]
        }
      ]
    },
    {
      "cell_type": "markdown",
      "metadata": {
        "id": "Pnr79XRceZBf"
      },
      "source": [
        "# RNN 모델 만들기\n",
        "간단한 RNN 모델을 한번 만들어봅시다."
      ]
    },
    {
      "cell_type": "code",
      "metadata": {
        "id": "8yNG72rKeZBf"
      },
      "source": [
        "# declare RNN\n",
        "rnn = torch.nn.RNN(input_size=len(char_set), hidden_size=30, batch_first=True)"
      ],
      "execution_count": null,
      "outputs": []
    },
    {
      "cell_type": "markdown",
      "metadata": {
        "id": "f-YwHVQ8eZBh"
      },
      "source": [
        "`PaddedSequence`를 이용하여 RNN에 넣어봅시다."
      ]
    },
    {
      "cell_type": "code",
      "metadata": {
        "colab": {
          "base_uri": "https://localhost:8080/"
        },
        "id": "8L9zGi2IeZBi",
        "outputId": "c4cf8bc1-a820-4b64-8c09-b7007a7d340b"
      },
      "source": [
        "rnn_output, hidden = rnn(embedded_tensor)\n",
        "print(rnn_output.shape) # shape: (batch_size, max_seq_length, hidden_size)\n",
        "print(hidden.shape)     # shape: (num_layers * num_directions, batch_size, hidden_size)"
      ],
      "execution_count": null,
      "outputs": [
        {
          "output_type": "stream",
          "name": "stdout",
          "text": [
            "torch.Size([5, 13, 30])\n",
            "torch.Size([1, 5, 30])\n"
          ]
        }
      ]
    },
    {
      "cell_type": "markdown",
      "metadata": {
        "id": "4eYrMul9eZBj"
      },
      "source": [
        "`PackedSequence`를 이용하여 RNN에 넣어봅시다."
      ]
    },
    {
      "cell_type": "code",
      "metadata": {
        "colab": {
          "base_uri": "https://localhost:8080/"
        },
        "id": "WCmWtMlVeZBk",
        "outputId": "8f3599ce-5af1-4218-b863-9a5f24f2217e"
      },
      "source": [
        "rnn_output, hidden = rnn(embedded_packed_seq)\n",
        "print(rnn_output.data.shape)\n",
        "print(hidden.data.shape) "
      ],
      "execution_count": null,
      "outputs": [
        {
          "output_type": "stream",
          "name": "stdout",
          "text": [
            "torch.Size([47, 30])\n",
            "torch.Size([1, 5, 30])\n"
          ]
        }
      ]
    },
    {
      "cell_type": "markdown",
      "metadata": {
        "id": "JUT1CKXreZBl"
      },
      "source": [
        "# `pad_packed_sequence`\n",
        "\n",
        "위 함수는 `PackedSequence`를 `PaddedSequence`(Tensor)로 바꾸어주는 함수입니다.\n",
        "\n",
        "`PackedSequence`는 각 sequence에 대한 길이 정보도 가지고있기 때문에, 이 함수는 Tensor와 함께 길이에 대한 리스트를 튜플로 리턴해줍니다.\n",
        "\n",
        "리턴값: (Tensor, list_of_lengths)"
      ]
    },
    {
      "cell_type": "code",
      "metadata": {
        "colab": {
          "base_uri": "https://localhost:8080/"
        },
        "id": "up4YC5nTeZBm",
        "outputId": "05aaf0a9-f8dc-4c02-df8f-f52a0c849907"
      },
      "source": [
        "unpacked_sequence, seq_lengths = pad_packed_sequence(embedded_packed_seq, batch_first=True)\n",
        "print(unpacked_sequence.shape)\n",
        "print(seq_lengths)"
      ],
      "execution_count": null,
      "outputs": [
        {
          "output_type": "stream",
          "name": "stdout",
          "text": [
            "torch.Size([5, 13, 19])\n",
            "tensor([13, 11, 11,  8,  4])\n"
          ]
        }
      ]
    },
    {
      "cell_type": "markdown",
      "metadata": {
        "id": "JWLm-bdPeZBm"
      },
      "source": [
        "# `pack_padded_sequence`\n",
        "반대로, Padding이 된 Tensor인 `PaddedSequence`를 `PackedSequence`로 바꾸어주는 함수도 있습니다.\n",
        "\n",
        "`pack_padded_sequence` 함수는 실제 sequence길이에 대한 정보를 모르기때문에, 파라미터로 꼭 제공해주어야합니다.\n",
        "\n",
        "여기서 주의하여야 할 점은, input인 `PaddedSequence`가 아까 언급드린 **길이에 따른 내림차순으로 정렬되어야 한다는** 조건이 성립되어야 `PackedSequence`로 올바르게 변환될 수 있습니다.\n",
        "\n",
        "아까 저희가 만든 `padded_sequence` 변수는 이 조건을 만족하지 않기 때문에 다시 새로 만들어보겠습니다."
      ]
    },
    {
      "cell_type": "code",
      "metadata": {
        "colab": {
          "base_uri": "https://localhost:8080/"
        },
        "id": "RKIaC3zqeZBn",
        "outputId": "92cffff8-6af1-4703-91d5-9436ea968006"
      },
      "source": [
        "embedded_padded_sequence = eye[pad_sequence(sorted_X, batch_first=True)]\n",
        "print(embedded_padded_sequence.shape)"
      ],
      "execution_count": null,
      "outputs": [
        {
          "output_type": "stream",
          "name": "stdout",
          "text": [
            "torch.Size([5, 13, 19])\n"
          ]
        }
      ]
    },
    {
      "cell_type": "markdown",
      "metadata": {
        "id": "lgWOyFtJeZBn"
      },
      "source": [
        "이제 이 padding이 된 Tensor를 `PackedSequence`로 변환해보겠습니다."
      ]
    },
    {
      "cell_type": "code",
      "metadata": {
        "colab": {
          "base_uri": "https://localhost:8080/"
        },
        "id": "n2Z-kVV0eZBo",
        "outputId": "790fd134-d724-4aa0-ce39-f1b7d5487867"
      },
      "source": [
        "sorted_lengths = sorted(lengths, reverse=True)\n",
        "new_packed_sequence = pack_padded_sequence(embedded_padded_sequence, sorted_lengths, batch_first=True)\n",
        "print(new_packed_sequence.data.shape)\n",
        "print(new_packed_sequence.batch_sizes)"
      ],
      "execution_count": null,
      "outputs": [
        {
          "output_type": "stream",
          "name": "stdout",
          "text": [
            "torch.Size([47, 19])\n",
            "tensor([5, 5, 5, 5, 4, 4, 4, 4, 3, 3, 3, 1, 1])\n"
          ]
        }
      ]
    }
  ]
}